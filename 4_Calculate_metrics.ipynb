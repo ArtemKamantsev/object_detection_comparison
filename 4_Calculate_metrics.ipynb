{
 "cells": [
  {
   "cell_type": "code",
   "metadata": {
    "collapsed": true,
    "ExecuteTime": {
     "end_time": "2025-02-01T14:24:34.051353Z",
     "start_time": "2025-02-01T14:24:05.452698Z"
    }
   },
   "source": [
    "import json\n",
    "from os.path import split, splitext, join\n",
    "from pathlib import PosixPath\n",
    "\n",
    "import cv2 as cv\n",
    "import numpy as np\n",
    "import pandas as pd\n",
    "import torch\n",
    "from tqdm.notebook import tqdm\n",
    "from ultralytics import YOLO, settings\n",
    "\n",
    "from utils import get_file_name_list"
   ],
   "outputs": [],
   "execution_count": 2
  },
  {
   "cell_type": "markdown",
   "source": [
    "# Predict"
   ],
   "metadata": {
    "collapsed": false
   }
  },
  {
   "cell_type": "code",
   "execution_count": 3,
   "outputs": [
    {
     "data": {
      "text/plain": "{'settings_version': '0.0.4',\n 'datasets_dir': './output',\n 'weights_dir': './output/weights',\n 'runs_dir': './output/runs/',\n 'uuid': '337d8672fe2ab10a5e48a437892eb717fe9ec110fb0f4ea96c9dbc6f915d39d3',\n 'sync': False,\n 'api_key': '',\n 'openai_api_key': '',\n 'clearml': False,\n 'comet': False,\n 'dvc': False,\n 'hub': False,\n 'mlflow': False,\n 'neptune': False,\n 'raytune': False,\n 'tensorboard': True,\n 'wandb': False}"
     },
     "execution_count": 3,
     "metadata": {},
     "output_type": "execute_result"
    }
   ],
   "source": [
    "settings.update({\n",
    "    'datasets_dir': './output',\n",
    "    'weights_dir': './output/weights',\n",
    "    'runs_dir' : './output/runs/',\n",
    "    'sync': False,\n",
    "    'api_key': '',\n",
    "    'clearml': False,\n",
    "    'comet': False,\n",
    "    'dvc': False,\n",
    "    'hub': False,\n",
    "    'mlflow': False,\n",
    "    'neptune': False,\n",
    "    'raytune': False,\n",
    "    'tensorboard': True,\n",
    "    'wandb': False,\n",
    "})\n",
    "settings"
   ],
   "metadata": {
    "collapsed": false,
    "ExecuteTime": {
     "end_time": "2024-01-16T17:58:50.983775Z",
     "start_time": "2024-01-16T17:58:50.970032Z"
    }
   }
  },
  {
   "cell_type": "code",
   "execution_count": 88,
   "outputs": [],
   "source": [
    "best_device = torch.device('mps')"
   ],
   "metadata": {
    "collapsed": false,
    "ExecuteTime": {
     "end_time": "2024-01-17T18:03:25.304574Z",
     "start_time": "2024-01-17T18:03:25.299089Z"
    }
   }
  },
  {
   "cell_type": "code",
   "execution_count": 111,
   "outputs": [
    {
     "name": "stdout",
     "output_type": "stream",
     "text": [
      "Model summary (fused): 218 layers, 25840339 parameters, 0 gradients, 78.7 GFLOPs\n"
     ]
    },
    {
     "name": "stderr",
     "output_type": "stream",
     "text": [
      "\u001B[34m\u001B[1mval: \u001B[0mScanning /Users/kamantsev/personal/diploma/2_playing_cards/dataset_yolo/test/labels.cache... 500 images, 0 backgrounds, 0 corrupt: 100%|██████████| 500/500 [00:00<?, ?it/s]\n",
      "                 Class     Images  Instances      Box(P          R      mAP50  mAP50-95): 100%|██████████| 32/32 [00:59<00:00,  1.86s/it]\n"
     ]
    },
    {
     "name": "stdout",
     "output_type": "stream",
     "text": [
      "                   all        500        500      0.207      0.926      0.406      0.262\n",
      "Speed: 1.0ms preprocess, 56.2ms inference, 0.0ms loss, 32.0ms postprocess per image\n",
      "Saving /Users/kamantsev/personal/diploma/outputs/yolov8/card/10/inference_val/predictions.json...\n",
      "Results saved to \u001B[1m/Users/kamantsev/personal/diploma/outputs/yolov8/card/10/inference_val\u001B[0m\n"
     ]
    }
   ],
   "source": [
    "dataset_meta_path = '../outputs/yolov8/card'\n",
    "for iter_name in get_file_name_list(dataset_meta_path):\n",
    "    if iter_name != '10':\n",
    "        continue\n",
    "    model_path = join(dataset_meta_path, iter_name, 'weights/best.pt')\n",
    "    model = YOLO(model_path).to(best_device)\n",
    "    model.val(\n",
    "        data='../2_playing_cards/dataset_yolo/data_10.yaml',\n",
    "        split='test',\n",
    "        save_json=True,\n",
    "        conf=0.01,\n",
    "        iou=0.99,\n",
    "        half=False,\n",
    "        max_det=500,\n",
    "        save_dir=PosixPath(join(dataset_meta_path, iter_name, 'inference_val'))\n",
    "    )"
   ],
   "metadata": {
    "collapsed": false,
    "ExecuteTime": {
     "end_time": "2024-01-17T19:07:04.460778Z",
     "start_time": "2024-01-17T19:06:00.894215Z"
    }
   }
  },
  {
   "cell_type": "markdown",
   "source": [
    "# Convert image_id"
   ],
   "metadata": {
    "collapsed": false
   }
  },
  {
   "cell_type": "code",
   "source": [
    "with open('../2_playing_cards/dataset_coco/annotations/annotation_test.json') as f:\n",
    "    coco_gt_file = json.load(f)"
   ],
   "metadata": {
    "collapsed": false,
    "ExecuteTime": {
     "end_time": "2025-02-01T14:41:33.866707Z",
     "start_time": "2025-02-01T14:41:33.854656Z"
    }
   },
   "outputs": [],
   "execution_count": 13
  },
  {
   "cell_type": "code",
   "source": [
    "file_name_id_map = {splitext(img['file_name'])[0]: img['id'] for img in coco_gt_file['images']}"
   ],
   "metadata": {
    "collapsed": false,
    "ExecuteTime": {
     "end_time": "2025-02-01T14:41:34.207344Z",
     "start_time": "2025-02-01T14:41:34.194349Z"
    }
   },
   "outputs": [],
   "execution_count": 14
  },
  {
   "cell_type": "code",
   "source": [
    "dataset_meta_path = '../outputs/damo_yolo_ns/cards'\n",
    "for iter_name in tqdm(get_file_name_list(dataset_meta_path)):\n",
    "    # if iter_name != '10':\n",
    "    #     continue\n",
    "    prediction_file_path = join(dataset_meta_path, iter_name, 'inference_val/predictions.json')\n",
    "    with open(prediction_file_path) as f:\n",
    "        coco_prediction_file = json.load(f)\n",
    "\n",
    "    for item in coco_prediction_file:\n",
    "        item['category_id'] = 1\n",
    "        item['image_id'] = file_name_id_map[item['image_id']]\n",
    "    prediction_file_path, prediction_file_name = split(prediction_file_path)\n",
    "    prediction_file_name_base, ext = splitext(prediction_file_name)\n",
    "    with open(join(prediction_file_path, f'{prediction_file_name_base}_converted{ext}'), mode='w+') as f:\n",
    "        json.dump(coco_prediction_file, f, indent=4)"
   ],
   "metadata": {
    "collapsed": false,
    "ExecuteTime": {
     "end_time": "2025-02-01T14:42:33.044879Z",
     "start_time": "2025-02-01T14:42:31.948327Z"
    }
   },
   "outputs": [
    {
     "data": {
      "text/plain": [
       "  0%|          | 0/6 [00:00<?, ?it/s]"
      ],
      "application/vnd.jupyter.widget-view+json": {
       "version_major": 2,
       "version_minor": 0,
       "model_id": "350ccfcb49564db4b3d8e27d90fd4442"
      }
     },
     "metadata": {},
     "output_type": "display_data"
    },
    {
     "ename": "KeyError",
     "evalue": "4",
     "output_type": "error",
     "traceback": [
      "\u001B[1;31m---------------------------------------------------------------------------\u001B[0m",
      "\u001B[1;31mKeyError\u001B[0m                                  Traceback (most recent call last)",
      "Cell \u001B[1;32mIn[15], line 13\u001B[0m\n\u001B[0;32m     11\u001B[0m \u001B[38;5;28;01mfor\u001B[39;00m item \u001B[38;5;129;01min\u001B[39;00m coco_prediction_file:\n\u001B[0;32m     12\u001B[0m     item[\u001B[38;5;124m'\u001B[39m\u001B[38;5;124mcategory_id\u001B[39m\u001B[38;5;124m'\u001B[39m] \u001B[38;5;241m=\u001B[39m \u001B[38;5;241m1\u001B[39m\n\u001B[1;32m---> 13\u001B[0m     item[\u001B[38;5;124m'\u001B[39m\u001B[38;5;124mimage_id\u001B[39m\u001B[38;5;124m'\u001B[39m] \u001B[38;5;241m=\u001B[39m \u001B[43mfile_name_id_map\u001B[49m\u001B[43m[\u001B[49m\u001B[43mitem\u001B[49m\u001B[43m[\u001B[49m\u001B[38;5;124;43m'\u001B[39;49m\u001B[38;5;124;43mimage_id\u001B[39;49m\u001B[38;5;124;43m'\u001B[39;49m\u001B[43m]\u001B[49m\u001B[43m]\u001B[49m\n\u001B[0;32m     14\u001B[0m prediction_file_path, prediction_file_name \u001B[38;5;241m=\u001B[39m split(prediction_file_path)\n\u001B[0;32m     15\u001B[0m prediction_file_name_base, ext \u001B[38;5;241m=\u001B[39m splitext(prediction_file_name)\n",
      "\u001B[1;31mKeyError\u001B[0m: 4"
     ]
    }
   ],
   "execution_count": 15
  },
  {
   "cell_type": "markdown",
   "source": [
    "# NMS suppression"
   ],
   "metadata": {
    "collapsed": false
   }
  },
  {
   "cell_type": "code",
   "source": [
    "def suppress_nms(coco_test_prediction_file_path):\n",
    "    with open(coco_test_prediction_file_path) as f:\n",
    "        coco_prediction_file = json.load(f)\n",
    "    print(f'initial: {len(coco_prediction_file)}')\n",
    "    image_id_list = [p['image_id'] for p in coco_prediction_file]\n",
    "    df_coco_prediction = pd.DataFrame({'id': image_id_list, 'data': coco_prediction_file})\n",
    "    df_coco_prediction_groups = df_coco_prediction.groupby(by='id')\n",
    "\n",
    "    confidence_threshold = 0.05\n",
    "    iou_threshold = 0.7\n",
    "    coco_prediction_nms_suppressed = []\n",
    "    for image_id, image_group in tqdm(df_coco_prediction_groups):\n",
    "        image_data_list = image_group.data.tolist()\n",
    "        bbox_list = np.asarray([prediction['bbox'] for prediction in image_data_list])\n",
    "        score_list = np.asarray([prediction['score'] for prediction in image_data_list])\n",
    "        indices = cv.dnn.NMSBoxes(bbox_list, score_list, confidence_threshold, iou_threshold)\n",
    "        for index in indices:\n",
    "            coco_prediction_nms_suppressed.append(image_data_list[index])\n",
    "\n",
    "    print(f'suppressed: {len(coco_prediction_nms_suppressed)}')\n",
    "    file_path, file_name = split(coco_test_prediction_file_path)\n",
    "    file_name, ext = splitext(file_name)\n",
    "    with open(join(file_path, f'{file_name}_nms{ext}'), mode='w+') as f:\n",
    "        json.dump(coco_prediction_nms_suppressed, f, indent=4)"
   ],
   "metadata": {
    "collapsed": false,
    "ExecuteTime": {
     "end_time": "2025-02-01T23:37:55.377925Z",
     "start_time": "2025-02-01T23:37:55.365909Z"
    }
   },
   "outputs": [],
   "execution_count": 50
  },
  {
   "cell_type": "code",
   "source": [
    "dataset_meta_path = '../outputs/damo_yolo_ns/'\n",
    "for ds_name in get_file_name_list(dataset_meta_path):\n",
    "    # if ds_name != 'cards':\n",
    "    #     continue\n",
    "    for iter_name in get_file_name_list(join(dataset_meta_path, ds_name)):\n",
    "        # if iter_name != '10':\n",
    "        #     continue\n",
    "        # suppress_nms(join(dataset_meta_path, ds_name, iter_name, 'damoyolo_tinynasL18_Nm/inference/coco_val/bbox.json'))\n",
    "        suppress_nms(join(dataset_meta_path, ds_name, iter_name, r'damoyolo_tinynasL18_Ns_test2/inference/coco_test/bbox.json'))\n",
    "        # suppress_nms(join(dataset_meta_path, ds_name, iter_name, 'inference_val/predictions_converted.json'))"
   ],
   "metadata": {
    "collapsed": false,
    "ExecuteTime": {
     "end_time": "2025-02-01T18:12:17.566185Z",
     "start_time": "2025-02-01T18:12:08.595488Z"
    }
   },
   "outputs": [
    {
     "name": "stdout",
     "output_type": "stream",
     "text": [
      "initial: 216500\n"
     ]
    },
    {
     "data": {
      "text/plain": [
       "  0%|          | 0/433 [00:00<?, ?it/s]"
      ],
      "application/vnd.jupyter.widget-view+json": {
       "version_major": 2,
       "version_minor": 0,
       "model_id": "0fe079367dcd4831990621a540263944"
      }
     },
     "metadata": {},
     "output_type": "display_data"
    },
    {
     "name": "stdout",
     "output_type": "stream",
     "text": [
      "suppressed: 1994\n",
      "initial: 216500\n"
     ]
    },
    {
     "data": {
      "text/plain": [
       "  0%|          | 0/433 [00:00<?, ?it/s]"
      ],
      "application/vnd.jupyter.widget-view+json": {
       "version_major": 2,
       "version_minor": 0,
       "model_id": "cf0959dae8b84cf1981f65ef38449fcc"
      }
     },
     "metadata": {},
     "output_type": "display_data"
    },
    {
     "name": "stdout",
     "output_type": "stream",
     "text": [
      "suppressed: 4979\n",
      "initial: 216500\n"
     ]
    },
    {
     "data": {
      "text/plain": [
       "  0%|          | 0/433 [00:00<?, ?it/s]"
      ],
      "application/vnd.jupyter.widget-view+json": {
       "version_major": 2,
       "version_minor": 0,
       "model_id": "d7cc058935fd40b7a9a622ddbff2e8ea"
      }
     },
     "metadata": {},
     "output_type": "display_data"
    },
    {
     "name": "stdout",
     "output_type": "stream",
     "text": [
      "suppressed: 6033\n",
      "initial: 216500\n"
     ]
    },
    {
     "data": {
      "text/plain": [
       "  0%|          | 0/433 [00:00<?, ?it/s]"
      ],
      "application/vnd.jupyter.widget-view+json": {
       "version_major": 2,
       "version_minor": 0,
       "model_id": "c097b808cee24e7c9946df69bbd06d6b"
      }
     },
     "metadata": {},
     "output_type": "display_data"
    },
    {
     "name": "stdout",
     "output_type": "stream",
     "text": [
      "suppressed: 3475\n",
      "initial: 216500\n"
     ]
    },
    {
     "data": {
      "text/plain": [
       "  0%|          | 0/433 [00:00<?, ?it/s]"
      ],
      "application/vnd.jupyter.widget-view+json": {
       "version_major": 2,
       "version_minor": 0,
       "model_id": "9535c673953d45889bd377569c8ace73"
      }
     },
     "metadata": {},
     "output_type": "display_data"
    },
    {
     "name": "stdout",
     "output_type": "stream",
     "text": [
      "suppressed: 7172\n",
      "initial: 216500\n"
     ]
    },
    {
     "data": {
      "text/plain": [
       "  0%|          | 0/433 [00:00<?, ?it/s]"
      ],
      "application/vnd.jupyter.widget-view+json": {
       "version_major": 2,
       "version_minor": 0,
       "model_id": "7f7a2521fdf446d887ed829a5574a0af"
      }
     },
     "metadata": {},
     "output_type": "display_data"
    },
    {
     "name": "stdout",
     "output_type": "stream",
     "text": [
      "suppressed: 13765\n"
     ]
    }
   ],
   "execution_count": 47
  },
  {
   "cell_type": "markdown",
   "source": [
    "# Custom metric"
   ],
   "metadata": {
    "collapsed": false
   }
  },
  {
   "cell_type": "code",
   "source": [
    "def bb_intersection_over_union(boxA, boxB):\n",
    "    # determine the (x, y)-coordinates of the intersection rectangle\n",
    "    xA = max(boxA[0], boxB[0])\n",
    "    yA = max(boxA[1], boxB[1])\n",
    "    xB = min(boxA[2], boxB[2])\n",
    "    yB = min(boxA[3], boxB[3])\n",
    "    # compute the area of intersection rectangle\n",
    "    interArea = max(0, xB - xA + 1) * max(0, yB - yA + 1)\n",
    "    # compute the area of both the prediction and ground-truth\n",
    "    # rectangles\n",
    "    boxAArea = (boxA[2] - boxA[0] + 1) * (boxA[3] - boxA[1] + 1)\n",
    "    boxBArea = (boxB[2] - boxB[0] + 1) * (boxB[3] - boxB[1] + 1)\n",
    "    # compute the intersection over union by taking the intersection\n",
    "    # area and dividing it by the sum of prediction + ground-truth\n",
    "    # areas - the interesection area\n",
    "    iou = interArea / float(boxAArea + boxBArea - interArea)\n",
    "    # return the intersection over union value\n",
    "    return iou\n",
    "\n",
    "\n",
    "def xywh2xyxy(bbox_xywh):\n",
    "    x, y, w, h = bbox_xywh\n",
    "\n",
    "    return [x, y, x + w, y + h]\n",
    "\n",
    "\n",
    "def get_custom_scores(coco_gt, coco_prediction, threshold=0.1, threshold_iou=0.5):\n",
    "    tp, fp, fn = 0, 0, 0\n",
    "    for annotation_descriptor in tqdm(coco_gt['annotations']):\n",
    "        image_id = annotation_descriptor['image_id']  # we are sure to have only 1 gt annotation for each image\n",
    "        bbox_gt = annotation_descriptor['bbox']\n",
    "        bbox_gt = xywh2xyxy(bbox_gt)\n",
    "        image_predictions = list(sorted([p for p in coco_prediction if p['image_id'] == image_id], key=lambda it: it['score'], reverse=True))[:100]\n",
    "        any_prediction = False\n",
    "        for prediction_descriptor in image_predictions:\n",
    "            if prediction_descriptor['score'] < threshold:\n",
    "                continue\n",
    "            bbox_predicted = xywh2xyxy(prediction_descriptor['bbox'])\n",
    "            iou = bb_intersection_over_union(bbox_gt, bbox_predicted)\n",
    "            if iou > threshold_iou and not any_prediction:\n",
    "                tp += 1\n",
    "                any_prediction = True\n",
    "            else:\n",
    "                fp += 1\n",
    "        if not any_prediction:\n",
    "            fn += 1\n",
    "\n",
    "    return tp, fp, fn"
   ],
   "metadata": {
    "collapsed": false,
    "ExecuteTime": {
     "end_time": "2025-02-01T17:55:19.225461Z",
     "start_time": "2025-02-01T17:55:19.212453Z"
    }
   },
   "outputs": [],
   "execution_count": 35
  },
  {
   "cell_type": "code",
   "source": [
    "coco_test_gt_file_path = '../2_playing_cards/dataset_coco/annotations/annotation_test.json'\n",
    "with open(coco_test_gt_file_path) as f:\n",
    "    coco_gt_file = json.load(f)"
   ],
   "metadata": {
    "collapsed": false,
    "ExecuteTime": {
     "end_time": "2025-02-01T17:55:29.364447Z",
     "start_time": "2025-02-01T17:55:29.350413Z"
    }
   },
   "outputs": [],
   "execution_count": 36
  },
  {
   "cell_type": "code",
   "source": [
    "dataset_meta_path = '../outputs/damo_yolo_ns/cards'\n",
    "for folder_name in sorted(get_file_name_list(dataset_meta_path), reverse=True):\n",
    "    # if folder_name != '10':\n",
    "    #     continue\n",
    "    prediction_coco_path = join(dataset_meta_path, folder_name, 'damoyolo_tinynasL18_Ns_test/inference/coco_test/bbox.json')\n",
    "    # prediction_coco_path = join(dataset_meta_path, folder_name, 'inference_val/predictions_converted_nms.json')\n",
    "    # prediction_coco_path = './output/runs/detect/val2/prediction_custom.json'\n",
    "    with open(prediction_coco_path) as f:\n",
    "        coco_prediction_file = json.load(f)\n",
    "    for item in coco_prediction_file:\n",
    "        if item['score'] < 0.01:\n",
    "            print(1)\n",
    "    print(folder_name)\n",
    "    print(len(coco_prediction_file))\n",
    "    print()\n",
    "    # tp, fp, fn = get_custom_scores(coco_gt_file, coco_prediction_file, threshold=0.6)\n",
    "    # print(f'total predictions: {tp + fp}')\n",
    "    # print(f'precision: {tp / (tp + fp)}')\n",
    "    # print(f'recall: {tp / (tp + fn)}')"
   ],
   "metadata": {
    "collapsed": false,
    "ExecuteTime": {
     "end_time": "2025-02-01T18:06:34.454530Z",
     "start_time": "2025-02-01T18:06:28.766297Z"
    }
   },
   "outputs": [
    {
     "name": "stdout",
     "output_type": "stream",
     "text": [
      "10\n",
      "216500\n",
      "\n",
      "025\n",
      "216500\n",
      "\n",
      "01\n",
      "216500\n",
      "\n",
      "0075\n",
      "216500\n",
      "\n",
      "005\n",
      "216500\n",
      "\n",
      "0025\n",
      "216500\n",
      "\n"
     ]
    }
   ],
   "execution_count": 44
  },
  {
   "cell_type": "markdown",
   "source": [
    "# Coco-metrics"
   ],
   "metadata": {
    "collapsed": false
   }
  },
  {
   "cell_type": "code",
   "source": [
    "from pycocotools.coco import COCO\n",
    "from pycocotools.cocoeval import COCOeval\n",
    "from IPython.utils import io"
   ],
   "metadata": {
    "collapsed": false,
    "ExecuteTime": {
     "end_time": "2025-02-01T17:44:04.250167Z",
     "start_time": "2025-02-01T17:44:04.188265Z"
    }
   },
   "outputs": [],
   "execution_count": 28
  },
  {
   "cell_type": "code",
   "source": [
    "def get_coco_metrics(gt_file_path, prediction_file_path):\n",
    "    with io.capture_output() as _:\n",
    "        cocoGt = COCO(gt_file_path)\n",
    "        cocoDt = cocoGt.loadRes(prediction_file_path)\n",
    "        cocoEval = COCOeval(cocoGt, cocoDt, 'bbox')\n",
    "        cocoEval.evaluate()\n",
    "        cocoEval.accumulate()\n",
    "    cocoEval.summarize()"
   ],
   "metadata": {
    "collapsed": false,
    "ExecuteTime": {
     "end_time": "2025-02-01T17:44:04.389496Z",
     "start_time": "2025-02-01T17:44:04.376293Z"
    }
   },
   "outputs": [],
   "execution_count": 29
  },
  {
   "cell_type": "code",
   "source": [
    "annotation_gt_path = '../2_playing_cards/dataset_coco/annotations/annotation_test.json'\n",
    "dataset_meta_path = '../outputs/damo_yolo_ns/cards'\n",
    "for folder_name in sorted(get_file_name_list(dataset_meta_path), reverse=True):\n",
    "    if folder_name != '10':\n",
    "        continue\n",
    "    # prediction_coco_path = join(dataset_meta_path, folder_name, 'damoyolo_tinynasL18_Ns/inference/coco_val/bbox_nms.json')\n",
    "    prediction_coco_path = join(dataset_meta_path, folder_name, 'damoyolo_tinynasL18_Ns_test2/inference/coco_test/bbox_nms.json')\n",
    "    # prediction_coco_path = join(dataset_meta_path, folder_name, 'inference_val/predictions_converted_nms.json')\n",
    "    print(f'Prediction for: {folder_name}')\n",
    "    get_coco_metrics(annotation_gt_path, prediction_coco_path)"
   ],
   "metadata": {
    "collapsed": false,
    "ExecuteTime": {
     "end_time": "2025-02-01T18:07:59.759129Z",
     "start_time": "2025-02-01T18:07:57.207420Z"
    }
   },
   "outputs": [
    {
     "name": "stdout",
     "output_type": "stream",
     "text": [
      "Prediction for: 10\n",
      " Average Precision  (AP) @[ IoU=0.50:0.95 | area=   all | maxDets=100 ] = 0.550\n",
      " Average Precision  (AP) @[ IoU=0.50      | area=   all | maxDets=100 ] = 0.887\n",
      " Average Precision  (AP) @[ IoU=0.75      | area=   all | maxDets=100 ] = 0.662\n",
      " Average Precision  (AP) @[ IoU=0.50:0.95 | area= small | maxDets=100 ] = 0.480\n",
      " Average Precision  (AP) @[ IoU=0.50:0.95 | area=medium | maxDets=100 ] = 0.577\n",
      " Average Precision  (AP) @[ IoU=0.50:0.95 | area= large | maxDets=100 ] = -1.000\n",
      " Average Recall     (AR) @[ IoU=0.50:0.95 | area=   all | maxDets=  1 ] = 0.594\n",
      " Average Recall     (AR) @[ IoU=0.50:0.95 | area=   all | maxDets= 10 ] = 0.634\n",
      " Average Recall     (AR) @[ IoU=0.50:0.95 | area=   all | maxDets=100 ] = 0.656\n",
      " Average Recall     (AR) @[ IoU=0.50:0.95 | area= small | maxDets=100 ] = 0.574\n",
      " Average Recall     (AR) @[ IoU=0.50:0.95 | area=medium | maxDets=100 ] = 0.660\n",
      " Average Recall     (AR) @[ IoU=0.50:0.95 | area= large | maxDets=100 ] = -1.000\n"
     ]
    }
   ],
   "execution_count": 45
  }
 ],
 "metadata": {
  "kernelspec": {
   "display_name": "Python 3",
   "language": "python",
   "name": "python3"
  },
  "language_info": {
   "codemirror_mode": {
    "name": "ipython",
    "version": 2
   },
   "file_extension": ".py",
   "mimetype": "text/x-python",
   "name": "python",
   "nbconvert_exporter": "python",
   "pygments_lexer": "ipython2",
   "version": "2.7.6"
  }
 },
 "nbformat": 4,
 "nbformat_minor": 0
}
