{
 "cells": [
  {
   "cell_type": "code",
   "execution_count": 1,
   "metadata": {
    "collapsed": true,
    "ExecuteTime": {
     "end_time": "2024-01-29T17:35:59.197244Z",
     "start_time": "2024-01-29T17:35:51.964141Z"
    }
   },
   "outputs": [],
   "source": [
    "import json\n",
    "from os.path import split, splitext, join\n",
    "from pathlib import PosixPath\n",
    "\n",
    "import cv2 as cv\n",
    "import numpy as np\n",
    "import pandas as pd\n",
    "import torch\n",
    "from tqdm.notebook import tqdm\n",
    "from ultralytics import YOLO, settings\n",
    "\n",
    "from utils import get_file_name_list"
   ]
  },
  {
   "cell_type": "markdown",
   "source": [
    "# Predict"
   ],
   "metadata": {
    "collapsed": false
   }
  },
  {
   "cell_type": "code",
   "execution_count": 3,
   "outputs": [
    {
     "data": {
      "text/plain": "{'settings_version': '0.0.4',\n 'datasets_dir': './output',\n 'weights_dir': './output/weights',\n 'runs_dir': './output/runs/',\n 'uuid': '337d8672fe2ab10a5e48a437892eb717fe9ec110fb0f4ea96c9dbc6f915d39d3',\n 'sync': False,\n 'api_key': '',\n 'openai_api_key': '',\n 'clearml': False,\n 'comet': False,\n 'dvc': False,\n 'hub': False,\n 'mlflow': False,\n 'neptune': False,\n 'raytune': False,\n 'tensorboard': True,\n 'wandb': False}"
     },
     "execution_count": 3,
     "metadata": {},
     "output_type": "execute_result"
    }
   ],
   "source": [
    "settings.update({\n",
    "    'datasets_dir': './output',\n",
    "    'weights_dir': './output/weights',\n",
    "    'runs_dir' : './output/runs/',\n",
    "    'sync': False,\n",
    "    'api_key': '',\n",
    "    'clearml': False,\n",
    "    'comet': False,\n",
    "    'dvc': False,\n",
    "    'hub': False,\n",
    "    'mlflow': False,\n",
    "    'neptune': False,\n",
    "    'raytune': False,\n",
    "    'tensorboard': True,\n",
    "    'wandb': False,\n",
    "})\n",
    "settings"
   ],
   "metadata": {
    "collapsed": false,
    "ExecuteTime": {
     "end_time": "2024-01-16T17:58:50.983775Z",
     "start_time": "2024-01-16T17:58:50.970032Z"
    }
   }
  },
  {
   "cell_type": "code",
   "execution_count": 88,
   "outputs": [],
   "source": [
    "best_device = torch.device('mps')"
   ],
   "metadata": {
    "collapsed": false,
    "ExecuteTime": {
     "end_time": "2024-01-17T18:03:25.304574Z",
     "start_time": "2024-01-17T18:03:25.299089Z"
    }
   }
  },
  {
   "cell_type": "code",
   "execution_count": 111,
   "outputs": [
    {
     "name": "stdout",
     "output_type": "stream",
     "text": [
      "Model summary (fused): 218 layers, 25840339 parameters, 0 gradients, 78.7 GFLOPs\n"
     ]
    },
    {
     "name": "stderr",
     "output_type": "stream",
     "text": [
      "\u001B[34m\u001B[1mval: \u001B[0mScanning /Users/kamantsev/personal/diploma/2_playing_cards/dataset_yolo/test/labels.cache... 500 images, 0 backgrounds, 0 corrupt: 100%|██████████| 500/500 [00:00<?, ?it/s]\n",
      "                 Class     Images  Instances      Box(P          R      mAP50  mAP50-95): 100%|██████████| 32/32 [00:59<00:00,  1.86s/it]\n"
     ]
    },
    {
     "name": "stdout",
     "output_type": "stream",
     "text": [
      "                   all        500        500      0.207      0.926      0.406      0.262\n",
      "Speed: 1.0ms preprocess, 56.2ms inference, 0.0ms loss, 32.0ms postprocess per image\n",
      "Saving /Users/kamantsev/personal/diploma/outputs/yolov8/card/10/inference_val/predictions.json...\n",
      "Results saved to \u001B[1m/Users/kamantsev/personal/diploma/outputs/yolov8/card/10/inference_val\u001B[0m\n"
     ]
    }
   ],
   "source": [
    "dataset_meta_path = '../outputs/yolov8/card'\n",
    "for iter_name in get_file_name_list(dataset_meta_path):\n",
    "    if iter_name != '10':\n",
    "        continue\n",
    "    model_path = join(dataset_meta_path, iter_name, 'weights/best.pt')\n",
    "    model = YOLO(model_path).to(best_device)\n",
    "    model.val(\n",
    "        data='../2_playing_cards/dataset_yolo/data_10.yaml',\n",
    "        split='test',\n",
    "        save_json=True,\n",
    "        conf=0.01,\n",
    "        iou=0.99,\n",
    "        half=False,\n",
    "        max_det=500,\n",
    "        save_dir=PosixPath(join(dataset_meta_path, iter_name, 'inference_val'))\n",
    "    )"
   ],
   "metadata": {
    "collapsed": false,
    "ExecuteTime": {
     "end_time": "2024-01-17T19:07:04.460778Z",
     "start_time": "2024-01-17T19:06:00.894215Z"
    }
   }
  },
  {
   "cell_type": "markdown",
   "source": [
    "# Convert image_id"
   ],
   "metadata": {
    "collapsed": false
   }
  },
  {
   "cell_type": "code",
   "execution_count": 112,
   "outputs": [],
   "source": [
    "with open('../2_playing_cards/dataset_coco/annotations/annotation_test.json') as f:\n",
    "    coco_gt_file = json.load(f)"
   ],
   "metadata": {
    "collapsed": false,
    "ExecuteTime": {
     "end_time": "2024-01-17T20:46:42.184837Z",
     "start_time": "2024-01-17T20:46:42.178236Z"
    }
   }
  },
  {
   "cell_type": "code",
   "execution_count": 113,
   "outputs": [],
   "source": [
    "file_name_id_map = {splitext(img['file_name'])[0]: img['id'] for img in coco_gt_file['images']}"
   ],
   "metadata": {
    "collapsed": false,
    "ExecuteTime": {
     "end_time": "2024-01-17T20:46:44.670484Z",
     "start_time": "2024-01-17T20:46:44.655938Z"
    }
   }
  },
  {
   "cell_type": "code",
   "execution_count": 118,
   "outputs": [],
   "source": [
    "dataset_meta_path = '../outputs/yolov8/card'\n",
    "for iter_name in get_file_name_list(dataset_meta_path):\n",
    "    if iter_name != '10':\n",
    "        continue\n",
    "    prediction_file_path = join(dataset_meta_path, iter_name, 'inference/predictions2.json')\n",
    "    with open(prediction_file_path) as f:\n",
    "        coco_prediction_file = json.load(f)\n",
    "\n",
    "    for item in coco_prediction_file:\n",
    "        item['category_id'] = 1\n",
    "        item['image_id'] = file_name_id_map[item['image_id']]\n",
    "    prediction_file_path, prediction_file_name = split(prediction_file_path)\n",
    "    prediction_file_name_base, ext = splitext(prediction_file_name)\n",
    "    with open(join(prediction_file_path, f'{prediction_file_name_base}_converted{ext}'), mode='w+') as f:\n",
    "        json.dump(coco_prediction_file, f, indent=4)"
   ],
   "metadata": {
    "collapsed": false,
    "ExecuteTime": {
     "end_time": "2024-01-17T20:48:56.320675Z",
     "start_time": "2024-01-17T20:48:56.230831Z"
    }
   }
  },
  {
   "cell_type": "markdown",
   "source": [
    "# NMS suppression"
   ],
   "metadata": {
    "collapsed": false
   }
  },
  {
   "cell_type": "code",
   "execution_count": 119,
   "outputs": [],
   "source": [
    "def suppress_nms(coco_test_prediction_file_path):\n",
    "    with open(coco_test_prediction_file_path) as f:\n",
    "        coco_prediction_file = json.load(f)\n",
    "    print(f'initial: {len(coco_prediction_file)}')\n",
    "    image_id_list = [p['image_id'] for p in coco_prediction_file]\n",
    "    df_coco_prediction = pd.DataFrame({'id': image_id_list, 'data': coco_prediction_file})\n",
    "    df_coco_prediction_groups = df_coco_prediction.groupby(by='id')\n",
    "\n",
    "    confidence_threshold = 0.01\n",
    "    iou_threshold = 0.7\n",
    "    coco_prediction_nms_suppressed = []\n",
    "    for image_id, image_group in tqdm(df_coco_prediction_groups):\n",
    "        image_data_list = image_group.data.tolist()\n",
    "        bbox_list = np.asarray([prediction['bbox'] for prediction in image_data_list])\n",
    "        score_list = np.asarray([prediction['score'] for prediction in image_data_list])\n",
    "        indices = cv.dnn.NMSBoxes(bbox_list, score_list, confidence_threshold, iou_threshold)\n",
    "        for index in indices:\n",
    "            coco_prediction_nms_suppressed.append(image_data_list[index])\n",
    "\n",
    "    print(f'suppressed: {len(coco_prediction_nms_suppressed)}')\n",
    "    file_path, file_name = split(coco_test_prediction_file_path)\n",
    "    file_name, ext = splitext(file_name)\n",
    "    with open(join(file_path, f'{file_name}_nms{ext}'), mode='w+') as f:\n",
    "        json.dump(coco_prediction_nms_suppressed, f, indent=4)"
   ],
   "metadata": {
    "collapsed": false,
    "ExecuteTime": {
     "end_time": "2024-01-17T20:48:58.210992Z",
     "start_time": "2024-01-17T20:48:58.195013Z"
    }
   }
  },
  {
   "cell_type": "code",
   "execution_count": null,
   "outputs": [],
   "source": [
    "dataset_meta_path = '../outputs/yolov8/'\n",
    "for ds_name in get_file_name_list(dataset_meta_path):\n",
    "    if ds_name != 'card':\n",
    "        continue\n",
    "    for iter_name in get_file_name_list(join(dataset_meta_path, ds_name)):\n",
    "        # if iter_name != '10':\n",
    "        #     continue\n",
    "        # suppress_nms(join(dataset_meta_path, ds_name, iter_name, 'damoyolo_tinynasL18_Nm/inference/coco_val/bbox.json'))\n",
    "        # suppress_nms(join(dataset_meta_path, ds_name, iter_name, 'inference/coco_test/bbox.json'))\n",
    "        suppress_nms(join(dataset_meta_path, ds_name, iter_name, 'inference/predictions_converted.json'))\n",
    "        # suppress_nms('./output/runs/detect/val2/prediction_custom.json')"
   ],
   "metadata": {
    "collapsed": false
   }
  },
  {
   "cell_type": "markdown",
   "source": [
    "# Custom metric"
   ],
   "metadata": {
    "collapsed": false
   }
  },
  {
   "cell_type": "code",
   "execution_count": 48,
   "outputs": [],
   "source": [
    "def bb_intersection_over_union(boxA, boxB):\n",
    "    # determine the (x, y)-coordinates of the intersection rectangle\n",
    "    xA = max(boxA[0], boxB[0])\n",
    "    yA = max(boxA[1], boxB[1])\n",
    "    xB = min(boxA[2], boxB[2])\n",
    "    yB = min(boxA[3], boxB[3])\n",
    "    # compute the area of intersection rectangle\n",
    "    interArea = max(0, xB - xA + 1) * max(0, yB - yA + 1)\n",
    "    # compute the area of both the prediction and ground-truth\n",
    "    # rectangles\n",
    "    boxAArea = (boxA[2] - boxA[0] + 1) * (boxA[3] - boxA[1] + 1)\n",
    "    boxBArea = (boxB[2] - boxB[0] + 1) * (boxB[3] - boxB[1] + 1)\n",
    "    # compute the intersection over union by taking the intersection\n",
    "    # area and dividing it by the sum of prediction + ground-truth\n",
    "    # areas - the interesection area\n",
    "    iou = interArea / float(boxAArea + boxBArea - interArea)\n",
    "    # return the intersection over union value\n",
    "    return iou\n",
    "\n",
    "\n",
    "def xywh2xyxy(bbox_xywh):\n",
    "    x, y, w, h = bbox_xywh\n",
    "\n",
    "    return [x, y, x + w, y + h]\n",
    "\n",
    "\n",
    "def get_custom_scores(coco_gt, coco_prediction, threshold=0.1, threshold_iou=0.5):\n",
    "    tp, fp, fn = 0, 0, 0\n",
    "    for annotation_descriptor in tqdm(coco_gt['annotations']):\n",
    "        image_id = annotation_descriptor['image_id']  # we are sure to have only 1 gt annotation for each image\n",
    "        bbox_gt = annotation_descriptor['bbox']\n",
    "        bbox_gt = xywh2xyxy(bbox_gt)\n",
    "        image_predictions = list(sorted([p for p in coco_prediction if p['image_id'] == image_id], key=lambda it: it['score'], reverse=True))[:100]\n",
    "        any_prediction = False\n",
    "        for prediction_descriptor in image_predictions:\n",
    "            if prediction_descriptor['score'] < threshold:\n",
    "                continue\n",
    "            bbox_predicted = xywh2xyxy(prediction_descriptor['bbox'])\n",
    "            iou = bb_intersection_over_union(bbox_gt, bbox_predicted)\n",
    "            if iou > threshold_iou and not any_prediction:\n",
    "                tp += 1\n",
    "                any_prediction = True\n",
    "            else:\n",
    "                fp += 1\n",
    "        if not any_prediction:\n",
    "            fn += 1\n",
    "\n",
    "    return tp, fp, fn"
   ],
   "metadata": {
    "collapsed": false,
    "ExecuteTime": {
     "end_time": "2024-01-17T16:03:08.721217Z",
     "start_time": "2024-01-17T16:03:08.714769Z"
    }
   }
  },
  {
   "cell_type": "code",
   "execution_count": 49,
   "outputs": [],
   "source": [
    "coco_test_gt_file_path = '../1_helmet/dataset_coco/annotations/annotation_test.json'\n",
    "with open(coco_test_gt_file_path) as f:\n",
    "    coco_gt_file = json.load(f)"
   ],
   "metadata": {
    "collapsed": false,
    "ExecuteTime": {
     "end_time": "2024-01-17T16:03:09.363360Z",
     "start_time": "2024-01-17T16:03:09.353456Z"
    }
   }
  },
  {
   "cell_type": "code",
   "execution_count": 110,
   "outputs": [
    {
     "name": "stdout",
     "output_type": "stream",
     "text": [
      "10\n",
      "110790\n",
      "\n",
      "025\n",
      "116896\n",
      "\n",
      "01\n",
      "117105\n",
      "\n",
      "0075\n",
      "115290\n",
      "\n",
      "005\n",
      "115267\n",
      "\n",
      "0025\n",
      "118099\n",
      "\n"
     ]
    }
   ],
   "source": [
    "dataset_meta_path = '../outputs/damo_yolo_nm/bdd100k'\n",
    "for folder_name in sorted(get_file_name_list(dataset_meta_path), reverse=True):\n",
    "    # if folder_name != '10':\n",
    "    #     continue\n",
    "    prediction_coco_path = join(dataset_meta_path, folder_name, 'inference/coco_test/bbox_nms.json')\n",
    "    # prediction_coco_path = join(dataset_meta_path, folder_name, 'inference/predictions_converted_nms.json')\n",
    "    # prediction_coco_path = './output/runs/detect/val2/prediction_custom.json'\n",
    "    with open(prediction_coco_path) as f:\n",
    "        coco_prediction_file = json.load(f)\n",
    "    print(folder_name)\n",
    "    print(len(coco_prediction_file))\n",
    "    print()\n",
    "    # tp, fp, fn = get_custom_scores(coco_gt_file, coco_prediction_file, threshold=0.6)\n",
    "    # print(f'total predictions: {tp + fp}')\n",
    "    # print(f'precision: {tp / (tp + fp)}')\n",
    "    # print(f'recall: {tp / (tp + fn)}')"
   ],
   "metadata": {
    "collapsed": false,
    "ExecuteTime": {
     "end_time": "2024-01-17T19:01:19.026884Z",
     "start_time": "2024-01-17T19:01:17.011228Z"
    }
   }
  },
  {
   "cell_type": "markdown",
   "source": [
    "# Coco-metrics"
   ],
   "metadata": {
    "collapsed": false
   }
  },
  {
   "cell_type": "code",
   "execution_count": 96,
   "outputs": [],
   "source": [
    "from pycocotools.coco import COCO\n",
    "from pycocotools.cocoeval import COCOeval\n",
    "from IPython.utils import io"
   ],
   "metadata": {
    "collapsed": false,
    "ExecuteTime": {
     "end_time": "2024-01-17T18:15:26.937295Z",
     "start_time": "2024-01-17T18:15:26.927356Z"
    }
   }
  },
  {
   "cell_type": "code",
   "execution_count": 97,
   "outputs": [],
   "source": [
    "def get_coco_metrics(gt_file_path, prediction_file_path):\n",
    "    with io.capture_output() as _:\n",
    "        cocoGt = COCO(gt_file_path)\n",
    "        cocoDt = cocoGt.loadRes(prediction_file_path)\n",
    "        cocoEval = COCOeval(cocoGt, cocoDt, 'bbox')\n",
    "        cocoEval.evaluate()\n",
    "        cocoEval.accumulate()\n",
    "    cocoEval.summarize()"
   ],
   "metadata": {
    "collapsed": false,
    "ExecuteTime": {
     "end_time": "2024-01-17T18:15:27.060881Z",
     "start_time": "2024-01-17T18:15:27.053139Z"
    }
   }
  },
  {
   "cell_type": "code",
   "execution_count": 126,
   "outputs": [
    {
     "name": "stdout",
     "output_type": "stream",
     "text": [
      "Prediction for: 10\n",
      " Average Precision  (AP) @[ IoU=0.50:0.95 | area=   all | maxDets=100 ] = 0.102\n",
      " Average Precision  (AP) @[ IoU=0.50      | area=   all | maxDets=100 ] = 0.223\n",
      " Average Precision  (AP) @[ IoU=0.75      | area=   all | maxDets=100 ] = 0.097\n",
      " Average Precision  (AP) @[ IoU=0.50:0.95 | area= small | maxDets=100 ] = -1.000\n",
      " Average Precision  (AP) @[ IoU=0.50:0.95 | area=medium | maxDets=100 ] = 0.102\n",
      " Average Precision  (AP) @[ IoU=0.50:0.95 | area= large | maxDets=100 ] = -1.000\n",
      " Average Recall     (AR) @[ IoU=0.50:0.95 | area=   all | maxDets=  1 ] = 0.105\n",
      " Average Recall     (AR) @[ IoU=0.50:0.95 | area=   all | maxDets= 10 ] = 0.256\n",
      " Average Recall     (AR) @[ IoU=0.50:0.95 | area=   all | maxDets=100 ] = 0.256\n",
      " Average Recall     (AR) @[ IoU=0.50:0.95 | area= small | maxDets=100 ] = -1.000\n",
      " Average Recall     (AR) @[ IoU=0.50:0.95 | area=medium | maxDets=100 ] = 0.256\n",
      " Average Recall     (AR) @[ IoU=0.50:0.95 | area= large | maxDets=100 ] = -1.000\n",
      "Prediction for: 025\n",
      " Average Precision  (AP) @[ IoU=0.50:0.95 | area=   all | maxDets=100 ] = 0.109\n",
      " Average Precision  (AP) @[ IoU=0.50      | area=   all | maxDets=100 ] = 0.266\n",
      " Average Precision  (AP) @[ IoU=0.75      | area=   all | maxDets=100 ] = 0.096\n",
      " Average Precision  (AP) @[ IoU=0.50:0.95 | area= small | maxDets=100 ] = -1.000\n",
      " Average Precision  (AP) @[ IoU=0.50:0.95 | area=medium | maxDets=100 ] = 0.109\n",
      " Average Precision  (AP) @[ IoU=0.50:0.95 | area= large | maxDets=100 ] = -1.000\n",
      " Average Recall     (AR) @[ IoU=0.50:0.95 | area=   all | maxDets=  1 ] = 0.106\n",
      " Average Recall     (AR) @[ IoU=0.50:0.95 | area=   all | maxDets= 10 ] = 0.263\n",
      " Average Recall     (AR) @[ IoU=0.50:0.95 | area=   all | maxDets=100 ] = 0.263\n",
      " Average Recall     (AR) @[ IoU=0.50:0.95 | area= small | maxDets=100 ] = -1.000\n",
      " Average Recall     (AR) @[ IoU=0.50:0.95 | area=medium | maxDets=100 ] = 0.263\n",
      " Average Recall     (AR) @[ IoU=0.50:0.95 | area= large | maxDets=100 ] = -1.000\n",
      "Prediction for: 01\n",
      " Average Precision  (AP) @[ IoU=0.50:0.95 | area=   all | maxDets=100 ] = 0.131\n",
      " Average Precision  (AP) @[ IoU=0.50      | area=   all | maxDets=100 ] = 0.346\n",
      " Average Precision  (AP) @[ IoU=0.75      | area=   all | maxDets=100 ] = 0.092\n",
      " Average Precision  (AP) @[ IoU=0.50:0.95 | area= small | maxDets=100 ] = -1.000\n",
      " Average Precision  (AP) @[ IoU=0.50:0.95 | area=medium | maxDets=100 ] = 0.135\n",
      " Average Precision  (AP) @[ IoU=0.50:0.95 | area= large | maxDets=100 ] = -1.000\n",
      " Average Recall     (AR) @[ IoU=0.50:0.95 | area=   all | maxDets=  1 ] = 0.097\n",
      " Average Recall     (AR) @[ IoU=0.50:0.95 | area=   all | maxDets= 10 ] = 0.331\n",
      " Average Recall     (AR) @[ IoU=0.50:0.95 | area=   all | maxDets=100 ] = 0.334\n",
      " Average Recall     (AR) @[ IoU=0.50:0.95 | area= small | maxDets=100 ] = -1.000\n",
      " Average Recall     (AR) @[ IoU=0.50:0.95 | area=medium | maxDets=100 ] = 0.334\n",
      " Average Recall     (AR) @[ IoU=0.50:0.95 | area= large | maxDets=100 ] = -1.000\n",
      "Prediction for: 0075\n",
      " Average Precision  (AP) @[ IoU=0.50:0.95 | area=   all | maxDets=100 ] = 0.128\n",
      " Average Precision  (AP) @[ IoU=0.50      | area=   all | maxDets=100 ] = 0.409\n",
      " Average Precision  (AP) @[ IoU=0.75      | area=   all | maxDets=100 ] = 0.040\n",
      " Average Precision  (AP) @[ IoU=0.50:0.95 | area= small | maxDets=100 ] = -1.000\n",
      " Average Precision  (AP) @[ IoU=0.50:0.95 | area=medium | maxDets=100 ] = 0.141\n",
      " Average Precision  (AP) @[ IoU=0.50:0.95 | area= large | maxDets=100 ] = -1.000\n",
      " Average Recall     (AR) @[ IoU=0.50:0.95 | area=   all | maxDets=  1 ] = 0.070\n",
      " Average Recall     (AR) @[ IoU=0.50:0.95 | area=   all | maxDets= 10 ] = 0.346\n",
      " Average Recall     (AR) @[ IoU=0.50:0.95 | area=   all | maxDets=100 ] = 0.368\n",
      " Average Recall     (AR) @[ IoU=0.50:0.95 | area= small | maxDets=100 ] = -1.000\n",
      " Average Recall     (AR) @[ IoU=0.50:0.95 | area=medium | maxDets=100 ] = 0.368\n",
      " Average Recall     (AR) @[ IoU=0.50:0.95 | area= large | maxDets=100 ] = -1.000\n",
      "Prediction for: 005\n",
      " Average Precision  (AP) @[ IoU=0.50:0.95 | area=   all | maxDets=100 ] = 0.100\n",
      " Average Precision  (AP) @[ IoU=0.50      | area=   all | maxDets=100 ] = 0.355\n",
      " Average Precision  (AP) @[ IoU=0.75      | area=   all | maxDets=100 ] = 0.018\n",
      " Average Precision  (AP) @[ IoU=0.50:0.95 | area= small | maxDets=100 ] = -1.000\n",
      " Average Precision  (AP) @[ IoU=0.50:0.95 | area=medium | maxDets=100 ] = 0.135\n",
      " Average Precision  (AP) @[ IoU=0.50:0.95 | area= large | maxDets=100 ] = -1.000\n",
      " Average Recall     (AR) @[ IoU=0.50:0.95 | area=   all | maxDets=  1 ] = 0.039\n",
      " Average Recall     (AR) @[ IoU=0.50:0.95 | area=   all | maxDets= 10 ] = 0.308\n",
      " Average Recall     (AR) @[ IoU=0.50:0.95 | area=   all | maxDets=100 ] = 0.449\n",
      " Average Recall     (AR) @[ IoU=0.50:0.95 | area= small | maxDets=100 ] = -1.000\n",
      " Average Recall     (AR) @[ IoU=0.50:0.95 | area=medium | maxDets=100 ] = 0.449\n",
      " Average Recall     (AR) @[ IoU=0.50:0.95 | area= large | maxDets=100 ] = -1.000\n",
      "Prediction for: 0025\n",
      " Average Precision  (AP) @[ IoU=0.50:0.95 | area=   all | maxDets=100 ] = 0.076\n",
      " Average Precision  (AP) @[ IoU=0.50      | area=   all | maxDets=100 ] = 0.297\n",
      " Average Precision  (AP) @[ IoU=0.75      | area=   all | maxDets=100 ] = 0.010\n",
      " Average Precision  (AP) @[ IoU=0.50:0.95 | area= small | maxDets=100 ] = -1.000\n",
      " Average Precision  (AP) @[ IoU=0.50:0.95 | area=medium | maxDets=100 ] = 0.135\n",
      " Average Precision  (AP) @[ IoU=0.50:0.95 | area= large | maxDets=100 ] = -1.000\n",
      " Average Recall     (AR) @[ IoU=0.50:0.95 | area=   all | maxDets=  1 ] = 0.027\n",
      " Average Recall     (AR) @[ IoU=0.50:0.95 | area=   all | maxDets= 10 ] = 0.246\n",
      " Average Recall     (AR) @[ IoU=0.50:0.95 | area=   all | maxDets=100 ] = 0.463\n",
      " Average Recall     (AR) @[ IoU=0.50:0.95 | area= small | maxDets=100 ] = -1.000\n",
      " Average Recall     (AR) @[ IoU=0.50:0.95 | area=medium | maxDets=100 ] = 0.463\n",
      " Average Recall     (AR) @[ IoU=0.50:0.95 | area= large | maxDets=100 ] = -1.000\n"
     ]
    }
   ],
   "source": [
    "annotation_gt_path = '../2_playing_cards/dataset_coco/annotations/annotation_test.json'\n",
    "dataset_meta_path = '../outputs/yolov8/card'\n",
    "for folder_name in sorted(get_file_name_list(dataset_meta_path), reverse=True):\n",
    "    # if folder_name != '10':\n",
    "    #     continue\n",
    "    # prediction_coco_path = join(dataset_meta_path, folder_name, 'damoyolo_tinynasL18_Ns/inference/coco_val/bbox_nms.json')\n",
    "    # prediction_coco_path = join(dataset_meta_path, folder_name, 'inference/coco_test/bbox_nms.json')\n",
    "    prediction_coco_path = join(dataset_meta_path, folder_name, 'inference/predictions_converted_nms.json')\n",
    "    # prediction_coco_path = './output/runs/detect/val2/prediction_custom_nms.json'\n",
    "    print(f'Prediction for: {folder_name}')\n",
    "    get_coco_metrics(annotation_gt_path, prediction_coco_path)"
   ],
   "metadata": {
    "collapsed": false,
    "ExecuteTime": {
     "end_time": "2024-01-17T21:55:59.604102Z",
     "start_time": "2024-01-17T21:55:58.612242Z"
    }
   }
  },
  {
   "cell_type": "code",
   "execution_count": 89,
   "outputs": [
    {
     "name": "stderr",
     "output_type": "stream",
     "text": [
      "UsageError: Line magic function `%tensorboard` not found.\n"
     ]
    }
   ],
   "source": [
    "%tensorboard"
   ],
   "metadata": {
    "collapsed": false,
    "ExecuteTime": {
     "end_time": "2024-01-17T13:36:05.566570Z",
     "start_time": "2024-01-17T13:36:05.552197Z"
    }
   }
  },
  {
   "cell_type": "code",
   "execution_count": 92,
   "outputs": [],
   "source": [
    "import tensorboard"
   ],
   "metadata": {
    "collapsed": false,
    "ExecuteTime": {
     "end_time": "2024-01-17T13:38:18.097692Z",
     "start_time": "2024-01-17T13:38:18.081517Z"
    }
   }
  },
  {
   "cell_type": "code",
   "execution_count": 93,
   "outputs": [],
   "source": [
    "%load_ext tensorboard"
   ],
   "metadata": {
    "collapsed": false,
    "ExecuteTime": {
     "end_time": "2024-01-17T13:38:18.881643Z",
     "start_time": "2024-01-17T13:38:18.865798Z"
    }
   }
  },
  {
   "cell_type": "code",
   "execution_count": 94,
   "outputs": [
    {
     "data": {
      "text/plain": "Launching TensorBoard..."
     },
     "metadata": {},
     "output_type": "display_data"
    }
   ],
   "source": [
    "%tensorboard --logdir ../outputs/yolov8/card/10"
   ],
   "metadata": {
    "collapsed": false,
    "ExecuteTime": {
     "end_time": "2024-01-17T13:38:21.171155Z",
     "start_time": "2024-01-17T13:38:19.633154Z"
    }
   }
  }
 ],
 "metadata": {
  "kernelspec": {
   "display_name": "Python 3",
   "language": "python",
   "name": "python3"
  },
  "language_info": {
   "codemirror_mode": {
    "name": "ipython",
    "version": 2
   },
   "file_extension": ".py",
   "mimetype": "text/x-python",
   "name": "python",
   "nbconvert_exporter": "python",
   "pygments_lexer": "ipython2",
   "version": "2.7.6"
  }
 },
 "nbformat": 4,
 "nbformat_minor": 0
}
