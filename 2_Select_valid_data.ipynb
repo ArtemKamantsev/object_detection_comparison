{
 "cells": [
  {
   "cell_type": "code",
   "metadata": {
    "collapsed": true,
    "jupyter": {
     "outputs_hidden": true
    },
    "ExecuteTime": {
     "end_time": "2025-01-26T20:50:04.783869Z",
     "start_time": "2025-01-26T20:50:04.739866Z"
    }
   },
   "source": [
    "import json\n",
    "import os\n",
    "import random\n",
    "from itertools import chain\n",
    "from os.path import join, splitext\n",
    "from pathlib import Path\n",
    "\n",
    "import cv2 as cv\n",
    "import numpy as np\n",
    "import pandas as pd\n",
    "from sklearn.model_selection import train_test_split\n",
    "from tqdm.notebook import tqdm\n",
    "\n",
    "from utils import map_data_frame_from_json, map_data_frame_to_json"
   ],
   "outputs": [],
   "execution_count": 143
  },
  {
   "metadata": {},
   "cell_type": "code",
   "outputs": [],
   "execution_count": null,
   "source": "DATASET_FOLDER_PATH = Path('../2_playing_cards')"
  },
  {
   "cell_type": "code",
   "metadata": {
    "collapsed": false,
    "jupyter": {
     "outputs_hidden": false
    },
    "ExecuteTime": {
     "end_time": "2025-01-26T20:50:05.921381Z",
     "start_time": "2025-01-26T20:50:04.929384Z"
    }
   },
   "source": [
    "df = pd.read_csv(DATASET_FOLDER_PATH / '1_original_statistics.csv')\n",
    "df = map_data_frame_from_json(df, column_list=['bbox'])\n",
    "df.head()"
   ],
   "outputs": [
    {
     "data": {
      "text/plain": [
       "                                            filename  width  height    size  \\\n",
       "0  000056694_jpg.rf.132f49ccfd4cc9e72ad7ceb43d845...    640     640  409600   \n",
       "1  000056694_jpg.rf.132f49ccfd4cc9e72ad7ceb43d845...    640     640  409600   \n",
       "2  000056694_jpg.rf.132f49ccfd4cc9e72ad7ceb43d845...    640     640  409600   \n",
       "3  000056694_jpg.rf.132f49ccfd4cc9e72ad7ceb43d845...    640     640  409600   \n",
       "4  000056694_jpg.rf.d3044032743b059a02077deb4bbf4...    640     640  409600   \n",
       "\n",
       "  name                  bbox  area    area_p  \n",
       "0   9C  [175, 367, 221, 399]  1472  0.003594  \n",
       "1   2D  [190, 330, 235, 366]  1620  0.003955  \n",
       "2   8C  [219, 290, 262, 330]  1720  0.004199  \n",
       "3   8C  [405, 293, 447, 334]  1722  0.004204  \n",
       "4   9C  [426, 276, 470, 304]  1232  0.003008  "
      ],
      "text/html": [
       "<div>\n",
       "<style scoped>\n",
       "    .dataframe tbody tr th:only-of-type {\n",
       "        vertical-align: middle;\n",
       "    }\n",
       "\n",
       "    .dataframe tbody tr th {\n",
       "        vertical-align: top;\n",
       "    }\n",
       "\n",
       "    .dataframe thead th {\n",
       "        text-align: right;\n",
       "    }\n",
       "</style>\n",
       "<table border=\"1\" class=\"dataframe\">\n",
       "  <thead>\n",
       "    <tr style=\"text-align: right;\">\n",
       "      <th></th>\n",
       "      <th>filename</th>\n",
       "      <th>width</th>\n",
       "      <th>height</th>\n",
       "      <th>size</th>\n",
       "      <th>name</th>\n",
       "      <th>bbox</th>\n",
       "      <th>area</th>\n",
       "      <th>area_p</th>\n",
       "    </tr>\n",
       "  </thead>\n",
       "  <tbody>\n",
       "    <tr>\n",
       "      <th>0</th>\n",
       "      <td>000056694_jpg.rf.132f49ccfd4cc9e72ad7ceb43d845...</td>\n",
       "      <td>640</td>\n",
       "      <td>640</td>\n",
       "      <td>409600</td>\n",
       "      <td>9C</td>\n",
       "      <td>[175, 367, 221, 399]</td>\n",
       "      <td>1472</td>\n",
       "      <td>0.003594</td>\n",
       "    </tr>\n",
       "    <tr>\n",
       "      <th>1</th>\n",
       "      <td>000056694_jpg.rf.132f49ccfd4cc9e72ad7ceb43d845...</td>\n",
       "      <td>640</td>\n",
       "      <td>640</td>\n",
       "      <td>409600</td>\n",
       "      <td>2D</td>\n",
       "      <td>[190, 330, 235, 366]</td>\n",
       "      <td>1620</td>\n",
       "      <td>0.003955</td>\n",
       "    </tr>\n",
       "    <tr>\n",
       "      <th>2</th>\n",
       "      <td>000056694_jpg.rf.132f49ccfd4cc9e72ad7ceb43d845...</td>\n",
       "      <td>640</td>\n",
       "      <td>640</td>\n",
       "      <td>409600</td>\n",
       "      <td>8C</td>\n",
       "      <td>[219, 290, 262, 330]</td>\n",
       "      <td>1720</td>\n",
       "      <td>0.004199</td>\n",
       "    </tr>\n",
       "    <tr>\n",
       "      <th>3</th>\n",
       "      <td>000056694_jpg.rf.132f49ccfd4cc9e72ad7ceb43d845...</td>\n",
       "      <td>640</td>\n",
       "      <td>640</td>\n",
       "      <td>409600</td>\n",
       "      <td>8C</td>\n",
       "      <td>[405, 293, 447, 334]</td>\n",
       "      <td>1722</td>\n",
       "      <td>0.004204</td>\n",
       "    </tr>\n",
       "    <tr>\n",
       "      <th>4</th>\n",
       "      <td>000056694_jpg.rf.d3044032743b059a02077deb4bbf4...</td>\n",
       "      <td>640</td>\n",
       "      <td>640</td>\n",
       "      <td>409600</td>\n",
       "      <td>9C</td>\n",
       "      <td>[426, 276, 470, 304]</td>\n",
       "      <td>1232</td>\n",
       "      <td>0.003008</td>\n",
       "    </tr>\n",
       "  </tbody>\n",
       "</table>\n",
       "</div>"
      ]
     },
     "execution_count": 144,
     "metadata": {},
     "output_type": "execute_result"
    }
   ],
   "execution_count": 144
  },
  {
   "cell_type": "code",
   "metadata": {
    "collapsed": false,
    "jupyter": {
     "outputs_hidden": false
    },
    "ExecuteTime": {
     "end_time": "2025-01-26T20:50:06.016408Z",
     "start_time": "2025-01-26T20:50:06.002381Z"
    }
   },
   "source": [
    "# df = df[df.name == 'traffic light']\n",
    "len(df)"
   ],
   "outputs": [
    {
     "data": {
      "text/plain": [
       "96909"
      ]
     },
     "execution_count": 145,
     "metadata": {},
     "output_type": "execute_result"
    }
   ],
   "execution_count": 145
  },
  {
   "cell_type": "code",
   "metadata": {
    "collapsed": false,
    "jupyter": {
     "outputs_hidden": false
    },
    "ExecuteTime": {
     "end_time": "2025-01-26T20:50:06.359384Z",
     "start_time": "2025-01-26T20:50:06.147378Z"
    }
   },
   "source": [
    "df_groupped = df.groupby(by='filename')"
   ],
   "outputs": [],
   "execution_count": 146
  },
  {
   "cell_type": "code",
   "metadata": {
    "collapsed": false,
    "jupyter": {
     "outputs_hidden": false
    },
    "ExecuteTime": {
     "end_time": "2025-01-26T20:50:06.550382Z",
     "start_time": "2025-01-26T20:50:06.521378Z"
    }
   },
   "source": [
    "def get_intersection(bbox1, bbox2):\n",
    "    x0, y0, x1, y1 = bbox1\n",
    "    x2, y2, x3, y3 = bbox2\n",
    "    x5, y5 = max(x0, x2), max(y0, y2)\n",
    "    x6, y6 = min(x1, x3), min(y1, y3)\n",
    "\n",
    "    if x5 >= x6 or y5 >= y6:\n",
    "        return None\n",
    "\n",
    "    return x5, y5, x6, y6\n",
    "\n",
    "\n",
    "def get_sample_boxes(image_df, box_area=(0.2, 0.4), padding=0.1, max_attempts_count=100):\n",
    "    \"\"\"For each row:\n",
    "    1. Calculate target area (so bbox area will be inside box_area interval)\n",
    "    2. Ensure padding outside the bbox\n",
    "    3. Randomly generate crop based on target area and ensure: bbox is inside the crop but no other bboxes intersect with it\n",
    "    \"\"\"\n",
    "    result_list = []\n",
    "    for idx, row in image_df.iterrows():\n",
    "        image_width, image_height = row.width, row.height\n",
    "        item_bbox = row.bbox\n",
    "        x0, y0, x1, y1 = item_bbox\n",
    "        width = x1 - x0\n",
    "        height = y1 - y0\n",
    "        area = width * height\n",
    "        target_area = area / random.uniform(box_area[0], box_area[1])\n",
    "        target_side = np.sqrt(target_area)\n",
    "        sample_padding = int(target_side * padding)\n",
    "        target_side = max(target_side, max(width, height) + sample_padding)  # bug, should be: 2 * sample_padding\n",
    "        target_side = int(target_side)\n",
    "\n",
    "        sample_x0 = x1 - target_side\n",
    "        sample_y0 = y1 - target_side\n",
    "        sample_x1 = x0\n",
    "        sample_y1 = y0\n",
    "        sample_x0 = max(sample_x0, 0)\n",
    "        sample_y0 = max(sample_y0, 0)\n",
    "        sample_x1 = min(sample_x1, image_width - target_side)\n",
    "        sample_y1 = min(sample_y1, image_height - target_side)\n",
    "        sample_x0, sample_y0 = sample_x0 + sample_padding, sample_y0 + sample_padding\n",
    "        sample_x1, sample_y1 = sample_x1 - sample_padding, sample_y1 - sample_padding\n",
    "        if sample_x0 >= sample_x1 or sample_y0 >= sample_y1:\n",
    "            continue\n",
    "\n",
    "        bbox_max = (sample_x0, sample_y0, sample_x1 + target_side, sample_y1 + target_side)\n",
    "        bbox_invariant = x0 - padding, y0 - padding, x1 + padding, y1 + padding\n",
    "        skip = False\n",
    "        bbox_to_avoid_list = []\n",
    "        for idx_inner, row_inner in image_df.iterrows():\n",
    "            if idx_inner == idx or row_inner.name not in {'2H', '2S'}:\n",
    "                continue\n",
    "            check_bbox = row_inner.bbox\n",
    "\n",
    "            intersection_max = get_intersection(bbox_max, check_bbox)\n",
    "            if intersection_max is None:\n",
    "                continue\n",
    "            bbox_to_avoid_list.append(intersection_max)\n",
    "\n",
    "            intersection_invariant = get_intersection(bbox_invariant, check_bbox)\n",
    "            if intersection_invariant is not None:\n",
    "                skip = True\n",
    "                break\n",
    "\n",
    "        if skip:\n",
    "            continue\n",
    "\n",
    "        result_bbox = None\n",
    "        for _ in range(max_attempts_count):\n",
    "            candidate_x0, candidate_y0 = random.uniform(sample_x0, sample_x1), \\\n",
    "                random.uniform(sample_y0, sample_y1)\n",
    "            candidate_x1, candidate_y1 = candidate_x0 + target_side, candidate_y0 + target_side\n",
    "            candidate_bbox = int(candidate_x0), int(candidate_y0), int(candidate_x1), int(candidate_y1)\n",
    "            if any([get_intersection(candidate_bbox, avoid_bbox) is not None\n",
    "                    for avoid_bbox in bbox_to_avoid_list]):\n",
    "                continue\n",
    "\n",
    "            result_bbox = candidate_bbox\n",
    "\n",
    "        if result_bbox is None:\n",
    "            continue\n",
    "\n",
    "        result_list.append((idx, result_bbox))\n",
    "\n",
    "    return result_list"
   ],
   "outputs": [],
   "execution_count": 147
  },
  {
   "cell_type": "code",
   "metadata": {
    "collapsed": false,
    "jupyter": {
     "outputs_hidden": false
    },
    "ExecuteTime": {
     "end_time": "2025-01-26T20:51:34.879817Z",
     "start_time": "2025-01-26T20:50:07.312895Z"
    }
   },
   "source": [
    "random.seed(42)\n",
    "data_list = []\n",
    "for filename, df_group in tqdm(list(df_groupped)[:]):\n",
    "    sample_box_list = get_sample_boxes(df_group)\n",
    "    sample_df = pd.DataFrame(sample_box_list, columns=['id', 'sample_bbox']).set_index('id')\n",
    "    sample_df = pd.merge(df_group, sample_df,\n",
    "                         how='inner', left_index=True, right_index=True)\n",
    "    data_list.append(sample_df)"
   ],
   "outputs": [
    {
     "data": {
      "text/plain": [
       "  0%|          | 0/24233 [00:00<?, ?it/s]"
      ],
      "application/vnd.jupyter.widget-view+json": {
       "version_major": 2,
       "version_minor": 0,
       "model_id": "28c375b4d22e410586cf73f0ae2d3791"
      }
     },
     "metadata": {},
     "output_type": "display_data"
    }
   ],
   "execution_count": 148
  },
  {
   "cell_type": "code",
   "metadata": {
    "collapsed": false,
    "jupyter": {
     "outputs_hidden": false
    },
    "ExecuteTime": {
     "end_time": "2025-01-26T20:51:37.194976Z",
     "start_time": "2025-01-26T20:51:34.990450Z"
    }
   },
   "source": [
    "df_samples = pd.concat(data_list, axis=0, ignore_index=True)\n",
    "df_samples.rename({'bbox': 'object_bbox'}, axis='columns', inplace=True)\n",
    "print(len(df_samples))\n",
    "df_samples.head()"
   ],
   "outputs": [
    {
     "name": "stdout",
     "output_type": "stream",
     "text": [
      "86543\n"
     ]
    },
    {
     "data": {
      "text/plain": [
       "                                            filename  width  height    size  \\\n",
       "0  000056694_jpg.rf.132f49ccfd4cc9e72ad7ceb43d845...    640     640  409600   \n",
       "1  000056694_jpg.rf.132f49ccfd4cc9e72ad7ceb43d845...    640     640  409600   \n",
       "2  000056694_jpg.rf.132f49ccfd4cc9e72ad7ceb43d845...    640     640  409600   \n",
       "3  000056694_jpg.rf.132f49ccfd4cc9e72ad7ceb43d845...    640     640  409600   \n",
       "4  000056694_jpg.rf.d3044032743b059a02077deb4bbf4...    640     640  409600   \n",
       "\n",
       "  name           object_bbox  area    area_p           sample_bbox  \n",
       "0   9C  [175, 367, 221, 399]  1472  0.003594  (167, 360, 234, 427)  \n",
       "1   2D  [190, 330, 235, 366]  1620  0.003955  (180, 311, 244, 375)  \n",
       "2   8C  [219, 290, 262, 330]  1720  0.004199  (206, 271, 282, 347)  \n",
       "3   8C  [405, 293, 447, 334]  1722  0.004204  (392, 286, 461, 355)  \n",
       "4   9C  [426, 276, 470, 304]  1232  0.003008  (419, 254, 483, 318)  "
      ],
      "text/html": [
       "<div>\n",
       "<style scoped>\n",
       "    .dataframe tbody tr th:only-of-type {\n",
       "        vertical-align: middle;\n",
       "    }\n",
       "\n",
       "    .dataframe tbody tr th {\n",
       "        vertical-align: top;\n",
       "    }\n",
       "\n",
       "    .dataframe thead th {\n",
       "        text-align: right;\n",
       "    }\n",
       "</style>\n",
       "<table border=\"1\" class=\"dataframe\">\n",
       "  <thead>\n",
       "    <tr style=\"text-align: right;\">\n",
       "      <th></th>\n",
       "      <th>filename</th>\n",
       "      <th>width</th>\n",
       "      <th>height</th>\n",
       "      <th>size</th>\n",
       "      <th>name</th>\n",
       "      <th>object_bbox</th>\n",
       "      <th>area</th>\n",
       "      <th>area_p</th>\n",
       "      <th>sample_bbox</th>\n",
       "    </tr>\n",
       "  </thead>\n",
       "  <tbody>\n",
       "    <tr>\n",
       "      <th>0</th>\n",
       "      <td>000056694_jpg.rf.132f49ccfd4cc9e72ad7ceb43d845...</td>\n",
       "      <td>640</td>\n",
       "      <td>640</td>\n",
       "      <td>409600</td>\n",
       "      <td>9C</td>\n",
       "      <td>[175, 367, 221, 399]</td>\n",
       "      <td>1472</td>\n",
       "      <td>0.003594</td>\n",
       "      <td>(167, 360, 234, 427)</td>\n",
       "    </tr>\n",
       "    <tr>\n",
       "      <th>1</th>\n",
       "      <td>000056694_jpg.rf.132f49ccfd4cc9e72ad7ceb43d845...</td>\n",
       "      <td>640</td>\n",
       "      <td>640</td>\n",
       "      <td>409600</td>\n",
       "      <td>2D</td>\n",
       "      <td>[190, 330, 235, 366]</td>\n",
       "      <td>1620</td>\n",
       "      <td>0.003955</td>\n",
       "      <td>(180, 311, 244, 375)</td>\n",
       "    </tr>\n",
       "    <tr>\n",
       "      <th>2</th>\n",
       "      <td>000056694_jpg.rf.132f49ccfd4cc9e72ad7ceb43d845...</td>\n",
       "      <td>640</td>\n",
       "      <td>640</td>\n",
       "      <td>409600</td>\n",
       "      <td>8C</td>\n",
       "      <td>[219, 290, 262, 330]</td>\n",
       "      <td>1720</td>\n",
       "      <td>0.004199</td>\n",
       "      <td>(206, 271, 282, 347)</td>\n",
       "    </tr>\n",
       "    <tr>\n",
       "      <th>3</th>\n",
       "      <td>000056694_jpg.rf.132f49ccfd4cc9e72ad7ceb43d845...</td>\n",
       "      <td>640</td>\n",
       "      <td>640</td>\n",
       "      <td>409600</td>\n",
       "      <td>8C</td>\n",
       "      <td>[405, 293, 447, 334]</td>\n",
       "      <td>1722</td>\n",
       "      <td>0.004204</td>\n",
       "      <td>(392, 286, 461, 355)</td>\n",
       "    </tr>\n",
       "    <tr>\n",
       "      <th>4</th>\n",
       "      <td>000056694_jpg.rf.d3044032743b059a02077deb4bbf4...</td>\n",
       "      <td>640</td>\n",
       "      <td>640</td>\n",
       "      <td>409600</td>\n",
       "      <td>9C</td>\n",
       "      <td>[426, 276, 470, 304]</td>\n",
       "      <td>1232</td>\n",
       "      <td>0.003008</td>\n",
       "      <td>(419, 254, 483, 318)</td>\n",
       "    </tr>\n",
       "  </tbody>\n",
       "</table>\n",
       "</div>"
      ]
     },
     "execution_count": 149,
     "metadata": {},
     "output_type": "execute_result"
    }
   ],
   "execution_count": 149
  },
  {
   "cell_type": "code",
   "metadata": {
    "collapsed": false,
    "jupyter": {
     "outputs_hidden": false
    },
    "ExecuteTime": {
     "end_time": "2025-01-26T20:51:39.629437Z",
     "start_time": "2025-01-26T20:51:37.244620Z"
    }
   },
   "source": [
    "df_out = df_samples.copy()\n",
    "df_out = map_data_frame_to_json(df_out, column_list=['sample_bbox', 'object_bbox'])\n",
    "df_out.to_csv(DATASET_FOLDER_PATH / '2_samples.csv', index=False)"
   ],
   "outputs": [],
   "execution_count": 150
  },
  {
   "cell_type": "markdown",
   "metadata": {
    "collapsed": false,
    "jupyter": {
     "outputs_hidden": false
    }
   },
   "source": [
    "# Split to train/val/test"
   ]
  },
  {
   "cell_type": "code",
   "metadata": {
    "collapsed": false,
    "jupyter": {
     "outputs_hidden": false
    },
    "ExecuteTime": {
     "end_time": "2025-01-26T20:51:41.893791Z",
     "start_time": "2025-01-26T20:51:39.678437Z"
    }
   },
   "source": [
    "df_samples = pd.read_csv('../2_playing_cards/2_samples.csv')\n",
    "df_samples = map_data_frame_from_json(df_samples, column_list=['sample_bbox', 'object_bbox'])\n",
    "print(len(df_samples))\n",
    "df_samples.head()"
   ],
   "outputs": [
    {
     "name": "stdout",
     "output_type": "stream",
     "text": [
      "86543\n"
     ]
    },
    {
     "data": {
      "text/plain": [
       "                                            filename  width  height    size  \\\n",
       "0  000056694_jpg.rf.132f49ccfd4cc9e72ad7ceb43d845...    640     640  409600   \n",
       "1  000056694_jpg.rf.132f49ccfd4cc9e72ad7ceb43d845...    640     640  409600   \n",
       "2  000056694_jpg.rf.132f49ccfd4cc9e72ad7ceb43d845...    640     640  409600   \n",
       "3  000056694_jpg.rf.132f49ccfd4cc9e72ad7ceb43d845...    640     640  409600   \n",
       "4  000056694_jpg.rf.d3044032743b059a02077deb4bbf4...    640     640  409600   \n",
       "\n",
       "  name           object_bbox  area    area_p           sample_bbox  \n",
       "0   9C  [175, 367, 221, 399]  1472  0.003594  [167, 360, 234, 427]  \n",
       "1   2D  [190, 330, 235, 366]  1620  0.003955  [180, 311, 244, 375]  \n",
       "2   8C  [219, 290, 262, 330]  1720  0.004199  [206, 271, 282, 347]  \n",
       "3   8C  [405, 293, 447, 334]  1722  0.004204  [392, 286, 461, 355]  \n",
       "4   9C  [426, 276, 470, 304]  1232  0.003008  [419, 254, 483, 318]  "
      ],
      "text/html": [
       "<div>\n",
       "<style scoped>\n",
       "    .dataframe tbody tr th:only-of-type {\n",
       "        vertical-align: middle;\n",
       "    }\n",
       "\n",
       "    .dataframe tbody tr th {\n",
       "        vertical-align: top;\n",
       "    }\n",
       "\n",
       "    .dataframe thead th {\n",
       "        text-align: right;\n",
       "    }\n",
       "</style>\n",
       "<table border=\"1\" class=\"dataframe\">\n",
       "  <thead>\n",
       "    <tr style=\"text-align: right;\">\n",
       "      <th></th>\n",
       "      <th>filename</th>\n",
       "      <th>width</th>\n",
       "      <th>height</th>\n",
       "      <th>size</th>\n",
       "      <th>name</th>\n",
       "      <th>object_bbox</th>\n",
       "      <th>area</th>\n",
       "      <th>area_p</th>\n",
       "      <th>sample_bbox</th>\n",
       "    </tr>\n",
       "  </thead>\n",
       "  <tbody>\n",
       "    <tr>\n",
       "      <th>0</th>\n",
       "      <td>000056694_jpg.rf.132f49ccfd4cc9e72ad7ceb43d845...</td>\n",
       "      <td>640</td>\n",
       "      <td>640</td>\n",
       "      <td>409600</td>\n",
       "      <td>9C</td>\n",
       "      <td>[175, 367, 221, 399]</td>\n",
       "      <td>1472</td>\n",
       "      <td>0.003594</td>\n",
       "      <td>[167, 360, 234, 427]</td>\n",
       "    </tr>\n",
       "    <tr>\n",
       "      <th>1</th>\n",
       "      <td>000056694_jpg.rf.132f49ccfd4cc9e72ad7ceb43d845...</td>\n",
       "      <td>640</td>\n",
       "      <td>640</td>\n",
       "      <td>409600</td>\n",
       "      <td>2D</td>\n",
       "      <td>[190, 330, 235, 366]</td>\n",
       "      <td>1620</td>\n",
       "      <td>0.003955</td>\n",
       "      <td>[180, 311, 244, 375]</td>\n",
       "    </tr>\n",
       "    <tr>\n",
       "      <th>2</th>\n",
       "      <td>000056694_jpg.rf.132f49ccfd4cc9e72ad7ceb43d845...</td>\n",
       "      <td>640</td>\n",
       "      <td>640</td>\n",
       "      <td>409600</td>\n",
       "      <td>8C</td>\n",
       "      <td>[219, 290, 262, 330]</td>\n",
       "      <td>1720</td>\n",
       "      <td>0.004199</td>\n",
       "      <td>[206, 271, 282, 347]</td>\n",
       "    </tr>\n",
       "    <tr>\n",
       "      <th>3</th>\n",
       "      <td>000056694_jpg.rf.132f49ccfd4cc9e72ad7ceb43d845...</td>\n",
       "      <td>640</td>\n",
       "      <td>640</td>\n",
       "      <td>409600</td>\n",
       "      <td>8C</td>\n",
       "      <td>[405, 293, 447, 334]</td>\n",
       "      <td>1722</td>\n",
       "      <td>0.004204</td>\n",
       "      <td>[392, 286, 461, 355]</td>\n",
       "    </tr>\n",
       "    <tr>\n",
       "      <th>4</th>\n",
       "      <td>000056694_jpg.rf.d3044032743b059a02077deb4bbf4...</td>\n",
       "      <td>640</td>\n",
       "      <td>640</td>\n",
       "      <td>409600</td>\n",
       "      <td>9C</td>\n",
       "      <td>[426, 276, 470, 304]</td>\n",
       "      <td>1232</td>\n",
       "      <td>0.003008</td>\n",
       "      <td>[419, 254, 483, 318]</td>\n",
       "    </tr>\n",
       "  </tbody>\n",
       "</table>\n",
       "</div>"
      ]
     },
     "execution_count": 151,
     "metadata": {},
     "output_type": "execute_result"
    }
   ],
   "execution_count": 151
  },
  {
   "metadata": {},
   "cell_type": "code",
   "outputs": [],
   "execution_count": null,
   "source": [
    "# for bdd100k\n",
    "df_samples = df_samples[(df_samples.timeofday != 'night')\n",
    "                        & (df_samples.occluded == False)\n",
    "                        & (df_samples.truncated == False)\n",
    "                        & ((df_samples.trafic_light_color == 'G') | (pd.isna(df_samples.trafic_light_color)))]\n",
    "len(df_samples)"
   ]
  },
  {
   "cell_type": "code",
   "metadata": {
    "collapsed": false,
    "jupyter": {
     "outputs_hidden": false
    },
    "ExecuteTime": {
     "end_time": "2025-01-26T20:51:42.098367Z",
     "start_time": "2025-01-26T20:51:42.070361Z"
    }
   },
   "source": [
    "# for cards\n",
    "df_samples = df_samples[df_samples.name.map(lambda it: it in {'2H', '2S'})]\n",
    "len(df_samples)"
   ],
   "outputs": [
    {
     "data": {
      "text/plain": [
       "3274"
      ]
     },
     "execution_count": 152,
     "metadata": {},
     "output_type": "execute_result"
    }
   ],
   "execution_count": 152
  },
  {
   "cell_type": "markdown",
   "metadata": {
    "collapsed": false,
    "jupyter": {
     "outputs_hidden": false
    }
   },
   "source": [
    "## Sample data"
   ]
  },
  {
   "cell_type": "code",
   "metadata": {
    "collapsed": false,
    "jupyter": {
     "outputs_hidden": false
    },
    "ExecuteTime": {
     "end_time": "2025-01-19T22:39:36.031727Z",
     "start_time": "2025-01-19T22:39:35.752697Z"
    }
   },
   "source": [
    "print(df_samples.area.min(), df_samples.area.max())\n",
    "df_samples.area.plot(kind='density', xlim=(0, 2000))"
   ],
   "outputs": [
    {
     "name": "stdout",
     "output_type": "stream",
     "text": [
      "774 4422\n"
     ]
    },
    {
     "data": {
      "text/plain": [
       "<Axes: ylabel='Density'>"
      ]
     },
     "execution_count": 97,
     "metadata": {},
     "output_type": "execute_result"
    },
    {
     "data": {
      "text/plain": [
       "<Figure size 640x480 with 1 Axes>"
      ],
      "image/png": "[encoded data removed]"
     },
     "metadata": {},
     "output_type": "display_data"
    }
   ],
   "execution_count": 97
  },
  {
   "cell_type": "code",
   "metadata": {
    "collapsed": false,
    "jupyter": {
     "outputs_hidden": false
    },
    "ExecuteTime": {
     "end_time": "2025-01-26T20:51:42.208396Z",
     "start_time": "2025-01-26T20:51:42.163364Z"
    }
   },
   "source": [
    "class_count = df_samples['name'].nunique()\n",
    "min_class_size = df_samples.name.value_counts().min()\n",
    "class_indexes = list(chain(*[[i] * min_class_size for i in range(class_count)]))\n",
    "target_indexes_list = train_test_split(class_indexes,\n",
    "                                       train_size=2000,\n",
    "                                       random_state=42,\n",
    "                                       stratify=class_indexes,\n",
    "                                       shuffle=True)[0]\n",
    "\n",
    "class_count_list = [0] * class_count\n",
    "for idx in target_indexes_list:\n",
    "    class_count_list[idx] += 1\n",
    "class_name_list = df_samples['name'].unique()\n",
    "class_name_count_series = pd.Series(class_count_list, index=class_name_list)\n",
    "\n",
    "# target_object_area = 600  # helmets\n",
    "target_object_area = 1400  # playing cards\n",
    "\n",
    "\n",
    "# target_object_area = 1200  # traffic lights\n",
    "def sample_class_group(df_class):\n",
    "    sample_size = class_name_count_series.loc[df_class.name]\n",
    "    df_class['diff'] = df_class['area'].map(lambda area: abs(area - target_object_area))\n",
    "    df_class.sort_values(by='diff', ascending=True, inplace=True, ignore_index=True)\n",
    "    df_class.drop(columns=['diff'], inplace=True)\n",
    "\n",
    "    return df_class.iloc[:sample_size]\n",
    "\n",
    "\n",
    "df_filtered = df_samples.groupby(by='name')[df_samples.columns].apply(sample_class_group)\n",
    "df_filtered.index = df_filtered.index.droplevel(0)\n",
    "print(len(df_filtered))\n",
    "df_filtered.head()"
   ],
   "outputs": [
    {
     "name": "stdout",
     "output_type": "stream",
     "text": [
      "2000\n"
     ]
    },
    {
     "data": {
      "text/plain": [
       "                                            filename  width  height    size  \\\n",
       "0  964216906_jpg.rf.beffbd241557e81b0ea2ae97f19ae...    640     640  409600   \n",
       "1  233904850_jpg.rf.806491878fb7896bc249529c5bbb4...    640     640  409600   \n",
       "2  741011575_jpg.rf.4d828ecdfa43fa94d67a4ae9c4eb5...    640     640  409600   \n",
       "3  427328716_jpg.rf.6700370a4e0a7fce2d360e41c99c2...    640     640  409600   \n",
       "4  673667265_jpg.rf.ad3b8e56119c3c6e460eb42161be2...    640     640  409600   \n",
       "\n",
       "  name           object_bbox  area    area_p           sample_bbox  \n",
       "0   2H  [347, 379, 382, 419]  1400  0.003418  [323, 368, 393, 438]  \n",
       "1   2H  [342, 470, 377, 510]  1400  0.003418  [328, 448, 400, 520]  \n",
       "2   2H  [207, 201, 242, 241]  1400  0.003418  [177, 189, 254, 266]  \n",
       "3   2H  [206, 243, 246, 278]  1400  0.003418  [191, 221, 258, 288]  \n",
       "4   2H  [338, 232, 366, 282]  1400  0.003418  [324, 214, 405, 295]  "
      ],
      "text/html": [
       "<div>\n",
       "<style scoped>\n",
       "    .dataframe tbody tr th:only-of-type {\n",
       "        vertical-align: middle;\n",
       "    }\n",
       "\n",
       "    .dataframe tbody tr th {\n",
       "        vertical-align: top;\n",
       "    }\n",
       "\n",
       "    .dataframe thead th {\n",
       "        text-align: right;\n",
       "    }\n",
       "</style>\n",
       "<table border=\"1\" class=\"dataframe\">\n",
       "  <thead>\n",
       "    <tr style=\"text-align: right;\">\n",
       "      <th></th>\n",
       "      <th>filename</th>\n",
       "      <th>width</th>\n",
       "      <th>height</th>\n",
       "      <th>size</th>\n",
       "      <th>name</th>\n",
       "      <th>object_bbox</th>\n",
       "      <th>area</th>\n",
       "      <th>area_p</th>\n",
       "      <th>sample_bbox</th>\n",
       "    </tr>\n",
       "  </thead>\n",
       "  <tbody>\n",
       "    <tr>\n",
       "      <th>0</th>\n",
       "      <td>964216906_jpg.rf.beffbd241557e81b0ea2ae97f19ae...</td>\n",
       "      <td>640</td>\n",
       "      <td>640</td>\n",
       "      <td>409600</td>\n",
       "      <td>2H</td>\n",
       "      <td>[347, 379, 382, 419]</td>\n",
       "      <td>1400</td>\n",
       "      <td>0.003418</td>\n",
       "      <td>[323, 368, 393, 438]</td>\n",
       "    </tr>\n",
       "    <tr>\n",
       "      <th>1</th>\n",
       "      <td>233904850_jpg.rf.806491878fb7896bc249529c5bbb4...</td>\n",
       "      <td>640</td>\n",
       "      <td>640</td>\n",
       "      <td>409600</td>\n",
       "      <td>2H</td>\n",
       "      <td>[342, 470, 377, 510]</td>\n",
       "      <td>1400</td>\n",
       "      <td>0.003418</td>\n",
       "      <td>[328, 448, 400, 520]</td>\n",
       "    </tr>\n",
       "    <tr>\n",
       "      <th>2</th>\n",
       "      <td>741011575_jpg.rf.4d828ecdfa43fa94d67a4ae9c4eb5...</td>\n",
       "      <td>640</td>\n",
       "      <td>640</td>\n",
       "      <td>409600</td>\n",
       "      <td>2H</td>\n",
       "      <td>[207, 201, 242, 241]</td>\n",
       "      <td>1400</td>\n",
       "      <td>0.003418</td>\n",
       "      <td>[177, 189, 254, 266]</td>\n",
       "    </tr>\n",
       "    <tr>\n",
       "      <th>3</th>\n",
       "      <td>427328716_jpg.rf.6700370a4e0a7fce2d360e41c99c2...</td>\n",
       "      <td>640</td>\n",
       "      <td>640</td>\n",
       "      <td>409600</td>\n",
       "      <td>2H</td>\n",
       "      <td>[206, 243, 246, 278]</td>\n",
       "      <td>1400</td>\n",
       "      <td>0.003418</td>\n",
       "      <td>[191, 221, 258, 288]</td>\n",
       "    </tr>\n",
       "    <tr>\n",
       "      <th>4</th>\n",
       "      <td>673667265_jpg.rf.ad3b8e56119c3c6e460eb42161be2...</td>\n",
       "      <td>640</td>\n",
       "      <td>640</td>\n",
       "      <td>409600</td>\n",
       "      <td>2H</td>\n",
       "      <td>[338, 232, 366, 282]</td>\n",
       "      <td>1400</td>\n",
       "      <td>0.003418</td>\n",
       "      <td>[324, 214, 405, 295]</td>\n",
       "    </tr>\n",
       "  </tbody>\n",
       "</table>\n",
       "</div>"
      ]
     },
     "execution_count": 153,
     "metadata": {},
     "output_type": "execute_result"
    }
   ],
   "execution_count": 153
  },
  {
   "cell_type": "code",
   "metadata": {
    "collapsed": false,
    "jupyter": {
     "outputs_hidden": false
    },
    "ExecuteTime": {
     "end_time": "2025-01-26T20:51:42.303372Z",
     "start_time": "2025-01-26T20:51:42.290362Z"
    }
   },
   "source": [
    "class_counts = df_filtered.name.value_counts()\n",
    "print(f'class_counts min: {class_counts.min()}\\n'\n",
    "      f'class_counts max: {class_counts.max()}\\n'\n",
    "      f'area min: {df_filtered[\"area\"].min()}\\n'\n",
    "      f'area max: {df_filtered[\"area\"].max()}\\n'\n",
    "      f'area diff: {df_filtered[\"area\"].max() - df_filtered[\"area\"].min()}')"
   ],
   "outputs": [
    {
     "name": "stdout",
     "output_type": "stream",
     "text": [
      "class_counts min: 1000\n",
      "class_counts max: 1000\n",
      "area min: 774\n",
      "area max: 2310\n",
      "area diff: 1536\n"
     ]
    }
   ],
   "execution_count": 154
  },
  {
   "cell_type": "markdown",
   "metadata": {
    "collapsed": false,
    "jupyter": {
     "outputs_hidden": false
    }
   },
   "source": [
    "# Generate descriptors"
   ]
  },
  {
   "cell_type": "code",
   "metadata": {
    "collapsed": false,
    "jupyter": {
     "outputs_hidden": false
    },
    "ExecuteTime": {
     "end_time": "2025-01-26T20:51:42.587366Z",
     "start_time": "2025-01-26T20:51:42.558368Z"
    }
   },
   "source": [
    "df_train, df_val = train_test_split(df_filtered,\n",
    "                                    train_size=1000,\n",
    "                                    random_state=42,\n",
    "                                    shuffle=True)\n",
    "df_val, df_test = train_test_split(df_val,\n",
    "                                   train_size=500,\n",
    "                                   random_state=42,\n",
    "                                   shuffle=True)\n",
    "len(df_train), len(df_val), len(df_test)"
   ],
   "outputs": [
    {
     "data": {
      "text/plain": [
       "(1000, 500, 500)"
      ]
     },
     "execution_count": 155,
     "metadata": {},
     "output_type": "execute_result"
    }
   ],
   "execution_count": 155
  },
  {
   "cell_type": "code",
   "metadata": {
    "collapsed": false,
    "jupyter": {
     "outputs_hidden": false
    },
    "ExecuteTime": {
     "end_time": "2025-01-26T20:51:42.694363Z",
     "start_time": "2025-01-26T20:51:42.674365Z"
    }
   },
   "source": [
    "def save_df(df_to_save, path):\n",
    "    df_out = df_to_save.copy()\n",
    "    df_out = map_data_frame_to_json(df_out, column_list=['sample_bbox', 'object_bbox'])\n",
    "    df_out.to_csv(path, index=True)"
   ],
   "outputs": [],
   "execution_count": 156
  },
  {
   "cell_type": "code",
   "metadata": {
    "collapsed": false,
    "jupyter": {
     "outputs_hidden": false
    },
    "ExecuteTime": {
     "end_time": "2025-01-26T20:51:43.060366Z",
     "start_time": "2025-01-26T20:51:42.950362Z"
    }
   },
   "source": [
    "save_df(df_train, '../2_playing_cards/train.csv')\n",
    "save_df(df_val, '../2_playing_cards/val.csv')\n",
    "save_df(df_test, '../2_playing_cards/test.csv')"
   ],
   "outputs": [],
   "execution_count": 157
  },
  {
   "cell_type": "markdown",
   "metadata": {
    "collapsed": false,
    "jupyter": {
     "outputs_hidden": false
    }
   },
   "source": [
    "# Generate to YOLOv8 format data"
   ]
  },
  {
   "cell_type": "code",
   "metadata": {
    "collapsed": false,
    "jupyter": {
     "outputs_hidden": false
    },
    "ExecuteTime": {
     "end_time": "2025-01-26T23:04:37.511839Z",
     "start_time": "2025-01-26T23:04:37.498840Z"
    }
   },
   "source": [
    "def generate_yolov8(descriptor_path,\n",
    "                    image_folder_path,\n",
    "                    output_folder_path,\n",
    "                    sample=1.0,\n",
    "                    random_state=42,\n",
    "                    draw_bbox=False,\n",
    "                    precision=6):\n",
    "    df_descriptor = pd.read_csv(descriptor_path, index_col=0)\n",
    "    df_descriptor = map_data_frame_from_json(df_descriptor, column_list=['object_bbox', 'sample_bbox'])\n",
    "    df_descriptor = df_descriptor.sample(frac=sample, random_state=random_state, ignore_index=False)\n",
    "    print(f'Generating descriptors for {len(df_descriptor)} samples...')\n",
    "    output_image_folder_path = join(output_folder_path, 'images')\n",
    "    output_label_folder_path = join(output_folder_path, 'labels')\n",
    "    os.makedirs(output_image_folder_path, exist_ok=True)\n",
    "    os.makedirs(output_label_folder_path, exist_ok=True)\n",
    "    for idx, row in tqdm(df_descriptor.iterrows()):\n",
    "        img_path = join(image_folder_path, row.filename)\n",
    "        x0, y0, x1, y1 = row.sample_bbox\n",
    "        img = cv.imread(img_path)\n",
    "        roi = img[y0: y1, x0: x1]\n",
    "        object_x0, object_y0, object_x1, object_y1 = row.object_bbox\n",
    "        object_x0, object_x1 = object_x0 - x0, object_x1 - x0\n",
    "        object_y0, object_y1 = object_y0 - y0, object_y1 - y0\n",
    "        filename_base, ext = splitext(row.filename)\n",
    "        with open(join(output_label_folder_path, f'{filename_base}_{str(idx)}.txt'), mode='w+') as f:\n",
    "            x_center = (object_x0 + object_x1) / 2 / roi.shape[1]\n",
    "            y_center = (object_y0 + object_y1) / 2 / roi.shape[0]\n",
    "            width = (object_x1 - object_x0) / roi.shape[1]\n",
    "            height = (object_y1 - object_y0) / roi.shape[0]\n",
    "            x_center = round(x_center, precision)\n",
    "            y_center = round(y_center, precision)\n",
    "            width = round(width, precision)\n",
    "            height = round(height, precision)\n",
    "            f.writelines([f'0 {x_center} {y_center} {width} {height}'])\n",
    "\n",
    "        if draw_bbox:\n",
    "            cv.rectangle(roi, (object_x0, object_y0), (object_x1, object_y1), (0, 0, 255), 1)\n",
    "        cv.imwrite(join(output_image_folder_path, f'{filename_base}_{str(idx)}{ext}'), roi)\n"
   ],
   "outputs": [],
   "execution_count": 160
  },
  {
   "cell_type": "code",
   "metadata": {
    "collapsed": false,
    "jupyter": {
     "outputs_hidden": false
    },
    "ExecuteTime": {
     "end_time": "2025-01-26T23:14:43.875092Z",
     "start_time": "2025-01-26T23:14:43.692689Z"
    }
   },
   "source": [
    "generate_yolov8('../2_playing_cards/train.csv',\n",
    "                '../2_playing_cards/images',\n",
    "                '../2_playing_cards/dataset_yolo/train_0025',\n",
    "                draw_bbox=False,\n",
    "                sample=0.025)"
   ],
   "outputs": [
    {
     "name": "stdout",
     "output_type": "stream",
     "text": [
      "Generating descriptors for 25 samples...\n"
     ]
    },
    {
     "data": {
      "text/plain": [
       "0it [00:00, ?it/s]"
      ],
      "application/vnd.jupyter.widget-view+json": {
       "version_major": 2,
       "version_minor": 0,
       "model_id": "d233c8697e6a405d953bf0829ffc3633"
      }
     },
     "metadata": {},
     "output_type": "display_data"
    }
   ],
   "execution_count": 169
  },
  {
   "cell_type": "markdown",
   "metadata": {
    "collapsed": false,
    "jupyter": {
     "outputs_hidden": false
    }
   },
   "source": [
    "# Convert to COCO format"
   ]
  },
  {
   "cell_type": "code",
   "metadata": {
    "collapsed": false,
    "jupyter": {
     "outputs_hidden": false
    },
    "ExecuteTime": {
     "end_time": "2025-01-26T19:43:46.126416Z",
     "start_time": "2025-01-26T19:43:46.098417Z"
    }
   },
   "source": [
    "def generate_coco(descriptor_path,\n",
    "                  image_folder_path,\n",
    "                  output_folder_path,\n",
    "                  annotation_name,\n",
    "                  category_name,\n",
    "                  draw_bbox=False,\n",
    "                  sample=1.0,\n",
    "                  random_state=42):\n",
    "    df_descriptor = pd.read_csv(descriptor_path, index_col=0)\n",
    "    df_descriptor = map_data_frame_from_json(df_descriptor, column_list=['object_bbox', 'sample_bbox'])\n",
    "    df_descriptor = df_descriptor.sample(frac=sample, random_state=random_state, ignore_index=False)\n",
    "    print(f'Generating descriptors for {len(df_descriptor)} samples...')\n",
    "    output_image_folder_path = join(output_folder_path, 'images')\n",
    "    annotation_file_path = join(output_folder_path, 'annotations', annotation_name)\n",
    "    os.makedirs(output_image_folder_path, exist_ok=True)\n",
    "    os.makedirs(os.path.dirname(annotation_file_path), exist_ok=True)\n",
    "    image_descriptor_list = []\n",
    "    annotation_list = []\n",
    "    for sample_id, row in tqdm(df_descriptor.iterrows()):\n",
    "        img_path = join(image_folder_path, row.filename)\n",
    "        x0, y0, x1, y1 = row.sample_bbox\n",
    "        img = cv.imread(img_path)\n",
    "        roi = img[y0: y1, x0: x1]\n",
    "        object_x0, object_y0, object_x1, object_y1 = row.object_bbox\n",
    "        object_x0, object_x1 = object_x0 - x0, object_x1 - x0\n",
    "        object_y0, object_y1 = object_y0 - y0, object_y1 - y0\n",
    "        object_width = object_x1 - object_x0\n",
    "        object_height = object_y1 - object_y0\n",
    "        filename_base, ext = splitext(row.filename)\n",
    "\n",
    "        image_sample_filename = f'{filename_base}_{str(sample_id)}{ext}'\n",
    "        image_descriptor_list.append({\n",
    "            \"file_name\": image_sample_filename,\n",
    "            \"height\": roi.shape[0],\n",
    "            \"width\": roi.shape[1],\n",
    "            \"id\": sample_id,\n",
    "        })\n",
    "        annotation_list.append({\n",
    "            \"segmentation\": [],\n",
    "            \"iscrowd\": 0,\n",
    "            \"image_id\": sample_id,\n",
    "            \"category_id\": 1,\n",
    "            \"bbox\": [object_x0, object_y0, object_width, object_height],\n",
    "            \"area\": object_width * object_height,\n",
    "            \"id\": sample_id,\n",
    "        })\n",
    "\n",
    "        if draw_bbox:\n",
    "            cv.rectangle(roi, (object_x0, object_y0), (object_x1, object_y1), (0, 0, 255), 1)\n",
    "        cv.imwrite(join(output_image_folder_path, image_sample_filename), roi)\n",
    "    categories = [{\n",
    "        \"supercategory\": category_name,\n",
    "        \"id\": 1,\n",
    "        \"name\": category_name\n",
    "    }]\n",
    "    with open(annotation_file_path, mode='w+') as f:\n",
    "        json.dump({\n",
    "            \"categories\": categories,\n",
    "            \"images\": image_descriptor_list,\n",
    "            \"annotations\": annotation_list\n",
    "        }, f, indent=4)"
   ],
   "outputs": [],
   "execution_count": 136
  },
  {
   "cell_type": "code",
   "metadata": {
    "collapsed": false,
    "jupyter": {
     "outputs_hidden": false
    },
    "ExecuteTime": {
     "end_time": "2025-01-26T19:44:35.908390Z",
     "start_time": "2025-01-26T19:44:35.748149Z"
    }
   },
   "source": [
    "generate_coco('../2_playing_cards/train.csv',\n",
    "              '../2_playing_cards/images',\n",
    "              '../2_playing_cards/dataset_coco/',\n",
    "              'annotation_train_0025.json',\n",
    "              'card',\n",
    "              draw_bbox=False,\n",
    "              sample=0.025)"
   ],
   "outputs": [
    {
     "name": "stdout",
     "output_type": "stream",
     "text": [
      "Generating descriptors for 25 samples...\n"
     ]
    },
    {
     "data": {
      "text/plain": [
       "0it [00:00, ?it/s]"
      ],
      "application/vnd.jupyter.widget-view+json": {
       "version_major": 2,
       "version_minor": 0,
       "model_id": "3f0953ad516c4790bd182fba3cc99ffb"
      }
     },
     "metadata": {},
     "output_type": "display_data"
    }
   ],
   "execution_count": 142
  }
 ],
 "metadata": {
  "kernelspec": {
   "display_name": "Python 3 (ipykernel)",
   "language": "python",
   "name": "python3"
  },
  "language_info": {
   "codemirror_mode": {
    "name": "ipython",
    "version": 3
   },
   "file_extension": ".py",
   "mimetype": "text/x-python",
   "name": "python",
   "nbconvert_exporter": "python",
   "pygments_lexer": "ipython3",
   "version": "3.10.15"
  }
 },
 "nbformat": 4,
 "nbformat_minor": 4
}
