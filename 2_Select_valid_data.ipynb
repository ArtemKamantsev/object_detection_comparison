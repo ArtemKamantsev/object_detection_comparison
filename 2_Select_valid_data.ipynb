{
 "cells": [
  {
   "cell_type": "code",
   "execution_count": 1,
   "metadata": {
    "collapsed": true,
    "ExecuteTime": {
     "end_time": "2024-01-23T19:55:30.190530Z",
     "start_time": "2024-01-23T19:55:23.134317Z"
    }
   },
   "outputs": [],
   "source": [
    "import json\n",
    "import os\n",
    "import random\n",
    "from os.path import join, splitext\n",
    "\n",
    "import cv2 as cv\n",
    "import numpy as np\n",
    "import pandas as pd\n",
    "from itertools import chain\n",
    "from sklearn.model_selection import train_test_split\n",
    "from tqdm.notebook import tqdm\n",
    "\n",
    "from utils import map_data_frame_from_json, map_data_frame_to_json"
   ]
  },
  {
   "cell_type": "code",
   "execution_count": 2,
   "outputs": [
    {
     "data": {
      "text/plain": "                 filename  width  height    size           name  \\\n0   0000f77c-6257be58.jpg   1280     720  921600  traffic light   \n1   0000f77c-6257be58.jpg   1280     720  921600  traffic light   \n21  0001542f-5ce3cf52.jpg   1280     720  921600  traffic light   \n22  0001542f-5ce3cf52.jpg   1280     720  921600  traffic light   \n37  0001542f-7c670be8.jpg   1280     720  921600  traffic light   \n\n                      bbox  area  area_p weather timeofday        scene  \\\n0   [1125, 133, 1156, 210]  2414     0.0   clear   daytime  city street   \n1   [1156, 136, 1191, 210]  2563     0.0   clear   daytime  city street   \n21    [535, 324, 553, 335]   195     0.0   clear     night  city street   \n22    [488, 324, 501, 336]   157     0.0   clear     night  city street   \n37    [616, 324, 628, 336]   132     0.0   clear     night      highway   \n\n    occluded  truncated trafic_light_color  \n0      False      False                  G  \n1      False      False                  G  \n21     False      False                  G  \n22     False      False                  G  \n37     False      False                  R  ",
      "text/html": "<div>\n<style scoped>\n    .dataframe tbody tr th:only-of-type {\n        vertical-align: middle;\n    }\n\n    .dataframe tbody tr th {\n        vertical-align: top;\n    }\n\n    .dataframe thead th {\n        text-align: right;\n    }\n</style>\n<table border=\"1\" class=\"dataframe\">\n  <thead>\n    <tr style=\"text-align: right;\">\n      <th></th>\n      <th>filename</th>\n      <th>width</th>\n      <th>height</th>\n      <th>size</th>\n      <th>name</th>\n      <th>bbox</th>\n      <th>area</th>\n      <th>area_p</th>\n      <th>weather</th>\n      <th>timeofday</th>\n      <th>scene</th>\n      <th>occluded</th>\n      <th>truncated</th>\n      <th>trafic_light_color</th>\n    </tr>\n  </thead>\n  <tbody>\n    <tr>\n      <th>0</th>\n      <td>0000f77c-6257be58.jpg</td>\n      <td>1280</td>\n      <td>720</td>\n      <td>921600</td>\n      <td>traffic light</td>\n      <td>[1125, 133, 1156, 210]</td>\n      <td>2414</td>\n      <td>0.0</td>\n      <td>clear</td>\n      <td>daytime</td>\n      <td>city street</td>\n      <td>False</td>\n      <td>False</td>\n      <td>G</td>\n    </tr>\n    <tr>\n      <th>1</th>\n      <td>0000f77c-6257be58.jpg</td>\n      <td>1280</td>\n      <td>720</td>\n      <td>921600</td>\n      <td>traffic light</td>\n      <td>[1156, 136, 1191, 210]</td>\n      <td>2563</td>\n      <td>0.0</td>\n      <td>clear</td>\n      <td>daytime</td>\n      <td>city street</td>\n      <td>False</td>\n      <td>False</td>\n      <td>G</td>\n    </tr>\n    <tr>\n      <th>21</th>\n      <td>0001542f-5ce3cf52.jpg</td>\n      <td>1280</td>\n      <td>720</td>\n      <td>921600</td>\n      <td>traffic light</td>\n      <td>[535, 324, 553, 335]</td>\n      <td>195</td>\n      <td>0.0</td>\n      <td>clear</td>\n      <td>night</td>\n      <td>city street</td>\n      <td>False</td>\n      <td>False</td>\n      <td>G</td>\n    </tr>\n    <tr>\n      <th>22</th>\n      <td>0001542f-5ce3cf52.jpg</td>\n      <td>1280</td>\n      <td>720</td>\n      <td>921600</td>\n      <td>traffic light</td>\n      <td>[488, 324, 501, 336]</td>\n      <td>157</td>\n      <td>0.0</td>\n      <td>clear</td>\n      <td>night</td>\n      <td>city street</td>\n      <td>False</td>\n      <td>False</td>\n      <td>G</td>\n    </tr>\n    <tr>\n      <th>37</th>\n      <td>0001542f-7c670be8.jpg</td>\n      <td>1280</td>\n      <td>720</td>\n      <td>921600</td>\n      <td>traffic light</td>\n      <td>[616, 324, 628, 336]</td>\n      <td>132</td>\n      <td>0.0</td>\n      <td>clear</td>\n      <td>night</td>\n      <td>highway</td>\n      <td>False</td>\n      <td>False</td>\n      <td>R</td>\n    </tr>\n  </tbody>\n</table>\n</div>"
     },
     "execution_count": 2,
     "metadata": {},
     "output_type": "execute_result"
    }
   ],
   "source": [
    "df = pd.read_csv('../3_bdd100k/1_original_statistics.csv', index_col=0)\n",
    "df = map_data_frame_from_json(df, column_list=['bbox'])\n",
    "df.head()"
   ],
   "metadata": {
    "collapsed": false,
    "ExecuteTime": {
     "end_time": "2024-01-15T09:37:53.765892Z",
     "start_time": "2024-01-15T09:37:53.190289Z"
    }
   }
  },
  {
   "cell_type": "code",
   "execution_count": 432,
   "outputs": [],
   "source": [
    "# df = df[df.name == 'traffic light']\n",
    "# len(df)"
   ],
   "metadata": {
    "collapsed": false,
    "ExecuteTime": {
     "end_time": "2024-01-07T18:28:37.471275Z",
     "start_time": "2024-01-07T18:28:37.465027Z"
    }
   }
  },
  {
   "cell_type": "code",
   "execution_count": 433,
   "outputs": [],
   "source": [
    "df_groupped = df.groupby(by='filename')"
   ],
   "metadata": {
    "collapsed": false,
    "ExecuteTime": {
     "end_time": "2024-01-07T18:28:37.839944Z",
     "start_time": "2024-01-07T18:28:37.829943Z"
    }
   }
  },
  {
   "cell_type": "code",
   "execution_count": 434,
   "outputs": [],
   "source": [
    "def get_intersection(bbox1, bbox2):\n",
    "    x0, y0, x1, y1 = bbox1\n",
    "    x2, y2, x3, y3 = bbox2\n",
    "    x5, y5 = max(x0, x2), max(y0, y2)\n",
    "    x6, y6 = min(x1, x3), min(y1, y3)\n",
    "\n",
    "    if x5 >= x6 or y5 >= y6:\n",
    "        return None\n",
    "\n",
    "    return x5, y5, x6, y6\n",
    "\n",
    "def get_sample_boxes(image_df, box_area=(0.2, 0.4), padding=0.1, max_attempts_count=100):\n",
    "    result_list = []\n",
    "    for idx, row in image_df.iterrows():\n",
    "        image_width, image_height = row.width, row.height\n",
    "        item_bbox = row.bbox\n",
    "        x0, y0, x1, y1 = item_bbox\n",
    "        width = x1 - x0\n",
    "        height = y1 - y0\n",
    "        area = width * height\n",
    "        target_area = area / random.uniform(box_area[0], box_area[1])\n",
    "        target_side = np.sqrt(target_area)\n",
    "        sample_padding = int(target_side * padding)\n",
    "        target_side = max(target_side, max(width, height) + sample_padding)\n",
    "        target_side = int(target_side)\n",
    "\n",
    "        sample_x0 = x1 - target_side\n",
    "        sample_y0 = y1 - target_side\n",
    "        sample_x1 = x0\n",
    "        sample_y1 = y0\n",
    "        sample_x0 = max(sample_x0, 0)\n",
    "        sample_y0 = max(sample_y0, 0)\n",
    "        sample_x1 = min(sample_x1, image_width - target_side)\n",
    "        sample_y1 = min(sample_y1, image_height - target_side)\n",
    "        sample_x0, sample_y0 = sample_x0 + sample_padding, sample_y0 + sample_padding\n",
    "        sample_x1, sample_y1 = sample_x1 - sample_padding, sample_y1 - sample_padding\n",
    "        if sample_x0 >= sample_x1 or sample_y0 >= sample_y1:\n",
    "            continue\n",
    "\n",
    "        bbox_max = (sample_x0, sample_y0, sample_x1 + target_side, sample_y1 + target_side)\n",
    "        bbox_invariant = x0 - padding, y0 - padding, x1 + padding, y1 + padding\n",
    "        skip = False\n",
    "        bbox_to_avoid_list = []\n",
    "        for idx_inner, row_inner in image_df.iterrows():\n",
    "            if idx_inner == idx:\n",
    "                continue\n",
    "            check_bbox = row_inner.bbox\n",
    "\n",
    "            intersection_max = get_intersection(bbox_max, check_bbox)\n",
    "            if intersection_max is None:\n",
    "                continue\n",
    "            bbox_to_avoid_list.append(intersection_max)\n",
    "\n",
    "            intersection_invariant = get_intersection(bbox_invariant, check_bbox)\n",
    "            if intersection_invariant is not None:\n",
    "                skip = True\n",
    "                break\n",
    "\n",
    "        if skip:\n",
    "            continue\n",
    "\n",
    "        result_bbox = None\n",
    "        for _ in range(max_attempts_count):\n",
    "            candidate_x0, candidate_y0 = random.uniform(sample_x0, sample_x1), \\\n",
    "                random.uniform(sample_y0, sample_y1)\n",
    "            candidate_x1, candidate_y1 = candidate_x0 + target_side, candidate_y0 + target_side\n",
    "            candidate_bbox = int(candidate_x0), int(candidate_y0), int(candidate_x1), int(candidate_y1)\n",
    "            if any([get_intersection(candidate_bbox, avoid_bbox) is not None\n",
    "                    for avoid_bbox in bbox_to_avoid_list]):\n",
    "                continue\n",
    "\n",
    "            result_bbox = candidate_bbox\n",
    "\n",
    "        if result_bbox is None:\n",
    "            continue\n",
    "\n",
    "        result_list.append((idx, result_bbox))\n",
    "\n",
    "    return result_list"
   ],
   "metadata": {
    "collapsed": false,
    "ExecuteTime": {
     "end_time": "2024-01-07T18:28:38.143143Z",
     "start_time": "2024-01-07T18:28:38.140211Z"
    }
   }
  },
  {
   "cell_type": "code",
   "execution_count": 435,
   "outputs": [
    {
     "data": {
      "text/plain": "  0%|          | 0/45052 [00:00<?, ?it/s]",
      "application/vnd.jupyter.widget-view+json": {
       "version_major": 2,
       "version_minor": 0,
       "model_id": "c1a0109002164e2aae7023ac83028ae0"
      }
     },
     "metadata": {},
     "output_type": "display_data"
    }
   ],
   "source": [
    "random.seed(42)\n",
    "data_list = []\n",
    "for filename, df_group in tqdm(list(df_groupped)[:]):\n",
    "    sample_box_list = get_sample_boxes(df_group)\n",
    "    sample_df = pd.DataFrame(sample_box_list, columns=['id', 'sample_bbox']).set_index('id')\n",
    "    sample_df = pd.merge(df_group, sample_df,\n",
    "                         how='inner', left_index=True, right_index=True)\n",
    "    data_list.append(sample_df)"
   ],
   "metadata": {
    "collapsed": false,
    "ExecuteTime": {
     "end_time": "2024-01-07T18:29:35.773177Z",
     "start_time": "2024-01-07T18:28:38.674996Z"
    }
   }
  },
  {
   "cell_type": "code",
   "execution_count": 436,
   "outputs": [
    {
     "name": "stdout",
     "output_type": "stream",
     "text": [
      "121408\n"
     ]
    },
    {
     "data": {
      "text/plain": "                filename  width  height    size           name  \\\n0  0001542f-5ce3cf52.jpg   1280     720  921600  traffic light   \n1  0001542f-5ce3cf52.jpg   1280     720  921600  traffic light   \n2  0001542f-7c670be8.jpg   1280     720  921600  traffic light   \n3  0001542f-7c670be8.jpg   1280     720  921600  traffic light   \n4  00067cfb-5443fe39.jpg   1280     720  921600  traffic light   \n\n            object_bbox  area  area_p weather timeofday        scene  \\\n0  [535, 324, 553, 335]   195     0.0   clear     night  city street   \n1  [488, 324, 501, 336]   157     0.0   clear     night  city street   \n2  [616, 324, 628, 336]   132     0.0   clear     night      highway   \n3  [531, 331, 541, 342]   115     0.0   clear     night      highway   \n4  [581, 353, 587, 364]    65     0.0   clear   daytime  city street   \n\n   occluded  truncated trafic_light_color           sample_bbox  \n0     False      False                  G  (532, 320, 559, 347)  \n1     False      False                  G  (481, 321, 506, 346)  \n2     False      False                  R  (613, 320, 633, 340)  \n3     False      False                  G  (526, 325, 544, 343)  \n4     False      False                  G  (576, 351, 590, 365)  ",
      "text/html": "<div>\n<style scoped>\n    .dataframe tbody tr th:only-of-type {\n        vertical-align: middle;\n    }\n\n    .dataframe tbody tr th {\n        vertical-align: top;\n    }\n\n    .dataframe thead th {\n        text-align: right;\n    }\n</style>\n<table border=\"1\" class=\"dataframe\">\n  <thead>\n    <tr style=\"text-align: right;\">\n      <th></th>\n      <th>filename</th>\n      <th>width</th>\n      <th>height</th>\n      <th>size</th>\n      <th>name</th>\n      <th>object_bbox</th>\n      <th>area</th>\n      <th>area_p</th>\n      <th>weather</th>\n      <th>timeofday</th>\n      <th>scene</th>\n      <th>occluded</th>\n      <th>truncated</th>\n      <th>trafic_light_color</th>\n      <th>sample_bbox</th>\n    </tr>\n  </thead>\n  <tbody>\n    <tr>\n      <th>0</th>\n      <td>0001542f-5ce3cf52.jpg</td>\n      <td>1280</td>\n      <td>720</td>\n      <td>921600</td>\n      <td>traffic light</td>\n      <td>[535, 324, 553, 335]</td>\n      <td>195</td>\n      <td>0.0</td>\n      <td>clear</td>\n      <td>night</td>\n      <td>city street</td>\n      <td>False</td>\n      <td>False</td>\n      <td>G</td>\n      <td>(532, 320, 559, 347)</td>\n    </tr>\n    <tr>\n      <th>1</th>\n      <td>0001542f-5ce3cf52.jpg</td>\n      <td>1280</td>\n      <td>720</td>\n      <td>921600</td>\n      <td>traffic light</td>\n      <td>[488, 324, 501, 336]</td>\n      <td>157</td>\n      <td>0.0</td>\n      <td>clear</td>\n      <td>night</td>\n      <td>city street</td>\n      <td>False</td>\n      <td>False</td>\n      <td>G</td>\n      <td>(481, 321, 506, 346)</td>\n    </tr>\n    <tr>\n      <th>2</th>\n      <td>0001542f-7c670be8.jpg</td>\n      <td>1280</td>\n      <td>720</td>\n      <td>921600</td>\n      <td>traffic light</td>\n      <td>[616, 324, 628, 336]</td>\n      <td>132</td>\n      <td>0.0</td>\n      <td>clear</td>\n      <td>night</td>\n      <td>highway</td>\n      <td>False</td>\n      <td>False</td>\n      <td>R</td>\n      <td>(613, 320, 633, 340)</td>\n    </tr>\n    <tr>\n      <th>3</th>\n      <td>0001542f-7c670be8.jpg</td>\n      <td>1280</td>\n      <td>720</td>\n      <td>921600</td>\n      <td>traffic light</td>\n      <td>[531, 331, 541, 342]</td>\n      <td>115</td>\n      <td>0.0</td>\n      <td>clear</td>\n      <td>night</td>\n      <td>highway</td>\n      <td>False</td>\n      <td>False</td>\n      <td>G</td>\n      <td>(526, 325, 544, 343)</td>\n    </tr>\n    <tr>\n      <th>4</th>\n      <td>00067cfb-5443fe39.jpg</td>\n      <td>1280</td>\n      <td>720</td>\n      <td>921600</td>\n      <td>traffic light</td>\n      <td>[581, 353, 587, 364]</td>\n      <td>65</td>\n      <td>0.0</td>\n      <td>clear</td>\n      <td>daytime</td>\n      <td>city street</td>\n      <td>False</td>\n      <td>False</td>\n      <td>G</td>\n      <td>(576, 351, 590, 365)</td>\n    </tr>\n  </tbody>\n</table>\n</div>"
     },
     "execution_count": 436,
     "metadata": {},
     "output_type": "execute_result"
    }
   ],
   "source": [
    "df_samples = pd.concat(data_list, axis=0, ignore_index=True)\n",
    "df_samples.rename({'bbox': 'object_bbox'}, axis='columns', inplace=True)\n",
    "print(len(df_samples))\n",
    "df_samples.head()"
   ],
   "metadata": {
    "collapsed": false,
    "ExecuteTime": {
     "end_time": "2024-01-07T18:29:38.509335Z",
     "start_time": "2024-01-07T18:29:35.795184Z"
    }
   }
  },
  {
   "cell_type": "code",
   "execution_count": 437,
   "outputs": [],
   "source": [
    "# {name for name, _ in list(df_groupped)[:10]}.difference(df_samples.filename.unique())"
   ],
   "metadata": {
    "collapsed": false,
    "ExecuteTime": {
     "end_time": "2024-01-07T18:29:38.509459Z",
     "start_time": "2024-01-07T18:29:38.509158Z"
    }
   }
  },
  {
   "cell_type": "code",
   "execution_count": 438,
   "outputs": [],
   "source": [
    "df_out = df_samples.copy()\n",
    "df_out = map_data_frame_to_json(df_out, column_list=['sample_bbox', 'object_bbox'])\n",
    "df_out.to_csv('../3_bdd100k/2_samples.csv', index=False)"
   ],
   "metadata": {
    "collapsed": false,
    "ExecuteTime": {
     "end_time": "2024-01-07T18:29:39.739582Z",
     "start_time": "2024-01-07T18:29:38.515149Z"
    }
   }
  },
  {
   "cell_type": "markdown",
   "source": [
    "# Split to train/val/test"
   ],
   "metadata": {
    "collapsed": false
   }
  },
  {
   "cell_type": "code",
   "execution_count": 6,
   "outputs": [
    {
     "name": "stdout",
     "output_type": "stream",
     "text": [
      "121408\n"
     ]
    },
    {
     "data": {
      "text/plain": "                filename  width  height    size           name  \\\n0  0001542f-5ce3cf52.jpg   1280     720  921600  traffic light   \n1  0001542f-5ce3cf52.jpg   1280     720  921600  traffic light   \n2  0001542f-7c670be8.jpg   1280     720  921600  traffic light   \n3  0001542f-7c670be8.jpg   1280     720  921600  traffic light   \n4  00067cfb-5443fe39.jpg   1280     720  921600  traffic light   \n\n            object_bbox  area  area_p weather timeofday        scene  \\\n0  [535, 324, 553, 335]   195     0.0   clear     night  city street   \n1  [488, 324, 501, 336]   157     0.0   clear     night  city street   \n2  [616, 324, 628, 336]   132     0.0   clear     night      highway   \n3  [531, 331, 541, 342]   115     0.0   clear     night      highway   \n4  [581, 353, 587, 364]    65     0.0   clear   daytime  city street   \n\n   occluded  truncated trafic_light_color           sample_bbox  \n0     False      False                  G  [532, 320, 559, 347]  \n1     False      False                  G  [481, 321, 506, 346]  \n2     False      False                  R  [613, 320, 633, 340]  \n3     False      False                  G  [526, 325, 544, 343]  \n4     False      False                  G  [576, 351, 590, 365]  ",
      "text/html": "<div>\n<style scoped>\n    .dataframe tbody tr th:only-of-type {\n        vertical-align: middle;\n    }\n\n    .dataframe tbody tr th {\n        vertical-align: top;\n    }\n\n    .dataframe thead th {\n        text-align: right;\n    }\n</style>\n<table border=\"1\" class=\"dataframe\">\n  <thead>\n    <tr style=\"text-align: right;\">\n      <th></th>\n      <th>filename</th>\n      <th>width</th>\n      <th>height</th>\n      <th>size</th>\n      <th>name</th>\n      <th>object_bbox</th>\n      <th>area</th>\n      <th>area_p</th>\n      <th>weather</th>\n      <th>timeofday</th>\n      <th>scene</th>\n      <th>occluded</th>\n      <th>truncated</th>\n      <th>trafic_light_color</th>\n      <th>sample_bbox</th>\n    </tr>\n  </thead>\n  <tbody>\n    <tr>\n      <th>0</th>\n      <td>0001542f-5ce3cf52.jpg</td>\n      <td>1280</td>\n      <td>720</td>\n      <td>921600</td>\n      <td>traffic light</td>\n      <td>[535, 324, 553, 335]</td>\n      <td>195</td>\n      <td>0.0</td>\n      <td>clear</td>\n      <td>night</td>\n      <td>city street</td>\n      <td>False</td>\n      <td>False</td>\n      <td>G</td>\n      <td>[532, 320, 559, 347]</td>\n    </tr>\n    <tr>\n      <th>1</th>\n      <td>0001542f-5ce3cf52.jpg</td>\n      <td>1280</td>\n      <td>720</td>\n      <td>921600</td>\n      <td>traffic light</td>\n      <td>[488, 324, 501, 336]</td>\n      <td>157</td>\n      <td>0.0</td>\n      <td>clear</td>\n      <td>night</td>\n      <td>city street</td>\n      <td>False</td>\n      <td>False</td>\n      <td>G</td>\n      <td>[481, 321, 506, 346]</td>\n    </tr>\n    <tr>\n      <th>2</th>\n      <td>0001542f-7c670be8.jpg</td>\n      <td>1280</td>\n      <td>720</td>\n      <td>921600</td>\n      <td>traffic light</td>\n      <td>[616, 324, 628, 336]</td>\n      <td>132</td>\n      <td>0.0</td>\n      <td>clear</td>\n      <td>night</td>\n      <td>highway</td>\n      <td>False</td>\n      <td>False</td>\n      <td>R</td>\n      <td>[613, 320, 633, 340]</td>\n    </tr>\n    <tr>\n      <th>3</th>\n      <td>0001542f-7c670be8.jpg</td>\n      <td>1280</td>\n      <td>720</td>\n      <td>921600</td>\n      <td>traffic light</td>\n      <td>[531, 331, 541, 342]</td>\n      <td>115</td>\n      <td>0.0</td>\n      <td>clear</td>\n      <td>night</td>\n      <td>highway</td>\n      <td>False</td>\n      <td>False</td>\n      <td>G</td>\n      <td>[526, 325, 544, 343]</td>\n    </tr>\n    <tr>\n      <th>4</th>\n      <td>00067cfb-5443fe39.jpg</td>\n      <td>1280</td>\n      <td>720</td>\n      <td>921600</td>\n      <td>traffic light</td>\n      <td>[581, 353, 587, 364]</td>\n      <td>65</td>\n      <td>0.0</td>\n      <td>clear</td>\n      <td>daytime</td>\n      <td>city street</td>\n      <td>False</td>\n      <td>False</td>\n      <td>G</td>\n      <td>[576, 351, 590, 365]</td>\n    </tr>\n  </tbody>\n</table>\n</div>"
     },
     "execution_count": 6,
     "metadata": {},
     "output_type": "execute_result"
    }
   ],
   "source": [
    "df_samples = pd.read_csv('../3_bdd100k/2_samples.csv')\n",
    "df_samples = map_data_frame_from_json(df_samples, column_list=['sample_bbox', 'object_bbox'])\n",
    "print(len(df_samples))\n",
    "df_samples.head()"
   ],
   "metadata": {
    "collapsed": false,
    "ExecuteTime": {
     "end_time": "2024-01-17T20:17:15.631475Z",
     "start_time": "2024-01-17T20:17:14.913804Z"
    }
   }
  },
  {
   "cell_type": "code",
   "execution_count": 3,
   "outputs": [
    {
     "data": {
      "text/plain": "40284"
     },
     "execution_count": 3,
     "metadata": {},
     "output_type": "execute_result"
    }
   ],
   "source": [
    "# for bdd100k\n",
    "df_samples = df_samples[(df_samples.timeofday != 'night')\n",
    "                        & (df_samples.occluded == False)\n",
    "                        & (df_samples.truncated == False)\n",
    "                        & ((df_samples.trafic_light_color == 'G') | (pd.isna(df_samples.trafic_light_color)))]\n",
    "len(df_samples)"
   ],
   "metadata": {
    "collapsed": false,
    "ExecuteTime": {
     "end_time": "2024-01-17T20:16:38.428041Z",
     "start_time": "2024-01-17T20:16:38.401417Z"
    }
   }
  },
  {
   "cell_type": "code",
   "execution_count": 210,
   "outputs": [
    {
     "data": {
      "text/plain": "11008"
     },
     "execution_count": 210,
     "metadata": {},
     "output_type": "execute_result"
    }
   ],
   "source": [
    "# for cards\n",
    "df_samples = df_samples[df_samples.name.map(lambda it: 'S' in it)]\n",
    "len(df_samples)"
   ],
   "metadata": {
    "collapsed": false,
    "ExecuteTime": {
     "end_time": "2024-01-15T19:04:18.348559Z",
     "start_time": "2024-01-15T19:04:18.329601Z"
    }
   }
  },
  {
   "cell_type": "markdown",
   "source": [
    "## Sample data"
   ],
   "metadata": {
    "collapsed": false
   }
  },
  {
   "cell_type": "code",
   "execution_count": 211,
   "outputs": [
    {
     "name": "stdout",
     "output_type": "stream",
     "text": [
      "756 5775\n"
     ]
    },
    {
     "data": {
      "text/plain": "<Axes: ylabel='Density'>"
     },
     "execution_count": 211,
     "metadata": {},
     "output_type": "execute_result"
    },
    {
     "data": {
      "text/plain": "<Figure size 640x480 with 1 Axes>",
      "image/png": "[encoded data removed]"
     },
     "metadata": {},
     "output_type": "display_data"
    }
   ],
   "source": [
    "print(df_samples.area.min(), df_samples.area.max())\n",
    "df_samples.area.plot(kind='density', xlim=(0, 2000))"
   ],
   "metadata": {
    "collapsed": false,
    "ExecuteTime": {
     "end_time": "2024-01-15T19:04:19.523663Z",
     "start_time": "2024-01-15T19:04:19.270222Z"
    }
   }
  },
  {
   "cell_type": "code",
   "execution_count": 212,
   "outputs": [
    {
     "name": "stdout",
     "output_type": "stream",
     "text": [
      "2000\n"
     ]
    },
    {
     "data": {
      "text/plain": "                                            filename  width  height    size  \\\n0  877607342_jpg.rf.354e9fd2fae90f5271ea6821c4e80...    640     640  409600   \n1  499735035_jpg.rf.7d018e3b933e07faa128e19ed06cd...    640     640  409600   \n2  043866152_jpg.rf.24750a7b60ed9d2e71b69aea41c3f...    640     640  409600   \n3  506007550_jpg.rf.f6db12a5ad387bef3cb4d711e2b68...    640     640  409600   \n4  399475375_jpg.rf.3efabd24b3dd3f61218a8c8d4168c...    640     640  409600   \n\n  name           object_bbox  area    area_p           sample_bbox  \n0  10S  [242, 350, 281, 386]  1404  0.003428  [222, 342, 288, 408]  \n1  10S  [436, 367, 481, 398]  1395  0.003406  [429, 344, 489, 404]  \n2  10S  [124, 405, 169, 436]  1395  0.003406  [103, 384, 177, 458]  \n3  10S  [231, 257, 262, 302]  1395  0.003406  [205, 245, 270, 310]  \n4  10S  [370, 434, 415, 465]  1395  0.003406  [355, 426, 431, 502]  ",
      "text/html": "<div>\n<style scoped>\n    .dataframe tbody tr th:only-of-type {\n        vertical-align: middle;\n    }\n\n    .dataframe tbody tr th {\n        vertical-align: top;\n    }\n\n    .dataframe thead th {\n        text-align: right;\n    }\n</style>\n<table border=\"1\" class=\"dataframe\">\n  <thead>\n    <tr style=\"text-align: right;\">\n      <th></th>\n      <th>filename</th>\n      <th>width</th>\n      <th>height</th>\n      <th>size</th>\n      <th>name</th>\n      <th>object_bbox</th>\n      <th>area</th>\n      <th>area_p</th>\n      <th>sample_bbox</th>\n    </tr>\n  </thead>\n  <tbody>\n    <tr>\n      <th>0</th>\n      <td>877607342_jpg.rf.354e9fd2fae90f5271ea6821c4e80...</td>\n      <td>640</td>\n      <td>640</td>\n      <td>409600</td>\n      <td>10S</td>\n      <td>[242, 350, 281, 386]</td>\n      <td>1404</td>\n      <td>0.003428</td>\n      <td>[222, 342, 288, 408]</td>\n    </tr>\n    <tr>\n      <th>1</th>\n      <td>499735035_jpg.rf.7d018e3b933e07faa128e19ed06cd...</td>\n      <td>640</td>\n      <td>640</td>\n      <td>409600</td>\n      <td>10S</td>\n      <td>[436, 367, 481, 398]</td>\n      <td>1395</td>\n      <td>0.003406</td>\n      <td>[429, 344, 489, 404]</td>\n    </tr>\n    <tr>\n      <th>2</th>\n      <td>043866152_jpg.rf.24750a7b60ed9d2e71b69aea41c3f...</td>\n      <td>640</td>\n      <td>640</td>\n      <td>409600</td>\n      <td>10S</td>\n      <td>[124, 405, 169, 436]</td>\n      <td>1395</td>\n      <td>0.003406</td>\n      <td>[103, 384, 177, 458]</td>\n    </tr>\n    <tr>\n      <th>3</th>\n      <td>506007550_jpg.rf.f6db12a5ad387bef3cb4d711e2b68...</td>\n      <td>640</td>\n      <td>640</td>\n      <td>409600</td>\n      <td>10S</td>\n      <td>[231, 257, 262, 302]</td>\n      <td>1395</td>\n      <td>0.003406</td>\n      <td>[205, 245, 270, 310]</td>\n    </tr>\n    <tr>\n      <th>4</th>\n      <td>399475375_jpg.rf.3efabd24b3dd3f61218a8c8d4168c...</td>\n      <td>640</td>\n      <td>640</td>\n      <td>409600</td>\n      <td>10S</td>\n      <td>[370, 434, 415, 465]</td>\n      <td>1395</td>\n      <td>0.003406</td>\n      <td>[355, 426, 431, 502]</td>\n    </tr>\n  </tbody>\n</table>\n</div>"
     },
     "execution_count": 212,
     "metadata": {},
     "output_type": "execute_result"
    }
   ],
   "source": [
    "class_count = df_samples['name'].nunique()\n",
    "min_class_size = df_samples.name.value_counts().min()\n",
    "class_indexes = list(chain(*[[i] * min_class_size for i in range(class_count)]))\n",
    "target_indexes_list = train_test_split(class_indexes,\n",
    "                                       train_size=2000,\n",
    "                                       random_state=42,\n",
    "                                       stratify=class_indexes,\n",
    "                                       shuffle=True)[0]\n",
    "\n",
    "class_count_list = [0] * class_count\n",
    "for idx in target_indexes_list:\n",
    "    class_count_list[idx] += 1\n",
    "class_name_list = df_samples['name'].unique()\n",
    "class_name_count_series = pd.Series(class_count_list, index=class_name_list)\n",
    "\n",
    "# target_object_area = 600  # helmets\n",
    "target_object_area = 1400  # playing cards\n",
    "# target_object_area = 1200  # traffic lights\n",
    "def sample_class_group(df_class):\n",
    "    sample_size = class_name_count_series.loc[df_class.name]\n",
    "    df_class['diff'] = df_class['area'].map(lambda area: abs(area - target_object_area))\n",
    "    df_class.sort_values(by='diff', ascending=True, inplace=True, ignore_index=True)\n",
    "    df_class.drop(columns=['diff'], inplace=True)\n",
    "\n",
    "    return df_class.iloc[:sample_size]\n",
    "\n",
    "df_filtered = df_samples.groupby(by='name').apply(sample_class_group)\n",
    "df_filtered.index = df_filtered.index.droplevel(0)\n",
    "print(len(df_filtered))\n",
    "df_filtered.head()"
   ],
   "metadata": {
    "collapsed": false,
    "ExecuteTime": {
     "end_time": "2024-01-15T19:04:25.184589Z",
     "start_time": "2024-01-15T19:04:25.149486Z"
    }
   }
  },
  {
   "cell_type": "code",
   "execution_count": 213,
   "outputs": [
    {
     "name": "stdout",
     "output_type": "stream",
     "text": [
      "class_counts min: 153\n",
      "class_counts max: 154\n",
      "area min: 1200\n",
      "area max: 1600\n",
      "area diff: 400\n"
     ]
    }
   ],
   "source": [
    "class_counts = df_filtered.name.value_counts()\n",
    "print(f'class_counts min: {class_counts.min()}\\n'\n",
    "      f'class_counts max: {class_counts.max()}\\n'\n",
    "      f'area min: {df_filtered[\"area\"].min()}\\n'\n",
    "      f'area max: {df_filtered[\"area\"].max()}\\n'\n",
    "      f'area diff: {df_filtered[\"area\"].max() - df_filtered[\"area\"].min()}')"
   ],
   "metadata": {
    "collapsed": false,
    "ExecuteTime": {
     "end_time": "2024-01-15T19:04:26.236361Z",
     "start_time": "2024-01-15T19:04:26.225271Z"
    }
   }
  },
  {
   "cell_type": "markdown",
   "source": [
    "# Generate descriptors"
   ],
   "metadata": {
    "collapsed": false
   }
  },
  {
   "cell_type": "code",
   "execution_count": 214,
   "outputs": [
    {
     "data": {
      "text/plain": "(1000, 500, 500)"
     },
     "execution_count": 214,
     "metadata": {},
     "output_type": "execute_result"
    }
   ],
   "source": [
    "df_train, df_val = train_test_split(df_filtered,\n",
    "                                    train_size=1000,\n",
    "                                    random_state=42,\n",
    "                                    shuffle=True)\n",
    "df_val, df_test = train_test_split(df_val,\n",
    "                                   train_size=500,\n",
    "                                   random_state=42,\n",
    "                                   shuffle=True)\n",
    "len(df_train), len(df_val), len(df_test)"
   ],
   "metadata": {
    "collapsed": false,
    "ExecuteTime": {
     "end_time": "2024-01-15T19:04:27.364577Z",
     "start_time": "2024-01-15T19:04:27.355278Z"
    }
   }
  },
  {
   "cell_type": "code",
   "execution_count": 215,
   "outputs": [],
   "source": [
    "def save_df(df_to_save, path):\n",
    "    df_out = df_to_save.copy()\n",
    "    df_out = map_data_frame_to_json(df_out, column_list=['sample_bbox', 'object_bbox'])\n",
    "    df_out.to_csv(path, index=True)"
   ],
   "metadata": {
    "collapsed": false,
    "ExecuteTime": {
     "end_time": "2024-01-15T19:04:29.058250Z",
     "start_time": "2024-01-15T19:04:29.053035Z"
    }
   }
  },
  {
   "cell_type": "code",
   "execution_count": 184,
   "outputs": [],
   "source": [
    "save_df(df_train, '../3_bdd100k/3_train.csv')\n",
    "save_df(df_val, '../3_bdd100k/3_val.csv')\n",
    "save_df(df_test, '../3_bdd100k/3_test.csv')"
   ],
   "metadata": {
    "collapsed": false,
    "ExecuteTime": {
     "end_time": "2024-01-15T15:18:29.364505Z",
     "start_time": "2024-01-15T15:18:29.323818Z"
    }
   }
  },
  {
   "cell_type": "markdown",
   "source": [
    "# Generate to YOLOv8 format data"
   ],
   "metadata": {
    "collapsed": false
   }
  },
  {
   "cell_type": "code",
   "execution_count": 2,
   "outputs": [],
   "source": [
    "def generate_yolov8(descriptor_path,\n",
    "                    image_folder_path,\n",
    "                    output_folder_path,\n",
    "                    sample=1.0,\n",
    "                    random_state=42,\n",
    "                    draw_bbox=False,\n",
    "                    precision=6):\n",
    "    df_descriptor = pd.read_csv(descriptor_path,  index_col=0)\n",
    "    df_descriptor = map_data_frame_from_json(df_descriptor, column_list=['object_bbox', 'sample_bbox'])\n",
    "    df_descriptor = df_descriptor.sample(frac=sample, random_state=random_state, ignore_index=False)\n",
    "    print(f'Generating descriptors for {len(df_descriptor)} samples...')\n",
    "    output_image_folder_path = join(output_folder_path, 'images')\n",
    "    output_label_folder_path = join(output_folder_path, 'labels')\n",
    "    os.makedirs(output_image_folder_path, exist_ok=True)\n",
    "    os.makedirs(output_label_folder_path, exist_ok=True)\n",
    "    for idx, row in tqdm(df_descriptor.iterrows()):\n",
    "        img_path = join(image_folder_path, row.filename)\n",
    "        x0, y0, x1, y1 = row.sample_bbox\n",
    "        img = cv.imread(img_path)\n",
    "        roi = img[y0: y1, x0: x1]\n",
    "        object_x0, object_y0, object_x1, object_y1 = row.object_bbox\n",
    "        object_x0, object_x1 = object_x0 - x0, object_x1 - x0\n",
    "        object_y0, object_y1 = object_y0 - y0, object_y1 - y0\n",
    "        filename_base, ext = splitext(row.filename)\n",
    "        with open(join(output_label_folder_path, f'{filename_base}_{str(idx)}.txt'), mode='w+') as f:\n",
    "            x_center = (object_x0 + object_x1) / 2 / roi.shape[1]\n",
    "            y_center = (object_y0 + object_y1) / 2 / roi.shape[0]\n",
    "            width = (object_x1 - object_x0) / roi.shape[1]\n",
    "            height = (object_y1 - object_y0) / roi.shape[0]\n",
    "            x_center = round(x_center, precision)\n",
    "            y_center = round(y_center, precision)\n",
    "            width = round(width, precision)\n",
    "            height = round(height, precision)\n",
    "            f.writelines([f'0 {x_center} {y_center} {width} {height}'])\n",
    "\n",
    "        if draw_bbox:\n",
    "            cv.rectangle(roi, (object_x0, object_y0), (object_x1, object_y1), (0, 0, 255), 1)\n",
    "        cv.imwrite(join(output_image_folder_path, f'{filename_base}_{str(idx)}{ext}'), roi)\n"
   ],
   "metadata": {
    "collapsed": false,
    "ExecuteTime": {
     "end_time": "2024-01-23T19:55:36.369376Z",
     "start_time": "2024-01-23T19:55:36.360444Z"
    }
   }
  },
  {
   "cell_type": "code",
   "execution_count": 8,
   "outputs": [
    {
     "name": "stdout",
     "output_type": "stream",
     "text": [
      "Generating descriptors for 500 samples...\n"
     ]
    },
    {
     "data": {
      "text/plain": "0it [00:00, ?it/s]",
      "application/vnd.jupyter.widget-view+json": {
       "version_major": 2,
       "version_minor": 0,
       "model_id": "f0059660bd4a4530b6e853c95f178959"
      }
     },
     "metadata": {},
     "output_type": "display_data"
    }
   ],
   "source": [
    "generate_yolov8('../3_bdd100k/3_test.csv',\n",
    "                '../3_bdd100k/images',\n",
    "                '../3_bdd100k/dataset_yolo_temp/test',\n",
    "                draw_bbox=True,\n",
    "                sample=1.0)"
   ],
   "metadata": {
    "collapsed": false,
    "ExecuteTime": {
     "end_time": "2024-01-23T20:35:38.840164Z",
     "start_time": "2024-01-23T20:35:37.316468Z"
    }
   }
  },
  {
   "cell_type": "code",
   "execution_count": 5,
   "outputs": [
    {
     "data": {
      "text/plain": "                                            filename  width  height    size  \\\n0  000001_jpg.rf.fddb09e33a544e332617f8ceb53ee805...    500     375  187500   \n1  000001_jpg.rf.fddb09e33a544e332617f8ceb53ee805...    500     375  187500   \n2  000002_jpg.rf.85b55e30b8ce745e3c16966991a38018...    500     333  166500   \n3  000002_jpg.rf.85b55e30b8ce745e3c16966991a38018...    500     333  166500   \n4  000003_jpg.rf.9fc4dfe06775f585757ede9300ba6af9...    400     264  105600   \n\n     name           object_bbox  area    area_p           sample_bbox  \n0  helmet   [178, 83, 230, 143]  3120  0.016640   [164, 73, 261, 170]  \n1  helmet  [111, 144, 134, 174]   690  0.003680  [100, 136, 142, 178]  \n2  helmet   [272, 53, 325, 111]  3074  0.018462   [253, 30, 355, 132]  \n3  helmet   [141, 82, 181, 131]  1960  0.011772   [125, 74, 199, 148]  \n4  helmet  [175, 152, 204, 189]  1073  0.010161  [151, 134, 219, 202]  ",
      "text/html": "<div>\n<style scoped>\n    .dataframe tbody tr th:only-of-type {\n        vertical-align: middle;\n    }\n\n    .dataframe tbody tr th {\n        vertical-align: top;\n    }\n\n    .dataframe thead th {\n        text-align: right;\n    }\n</style>\n<table border=\"1\" class=\"dataframe\">\n  <thead>\n    <tr style=\"text-align: right;\">\n      <th></th>\n      <th>filename</th>\n      <th>width</th>\n      <th>height</th>\n      <th>size</th>\n      <th>name</th>\n      <th>object_bbox</th>\n      <th>area</th>\n      <th>area_p</th>\n      <th>sample_bbox</th>\n    </tr>\n  </thead>\n  <tbody>\n    <tr>\n      <th>0</th>\n      <td>000001_jpg.rf.fddb09e33a544e332617f8ceb53ee805...</td>\n      <td>500</td>\n      <td>375</td>\n      <td>187500</td>\n      <td>helmet</td>\n      <td>[178, 83, 230, 143]</td>\n      <td>3120</td>\n      <td>0.016640</td>\n      <td>[164, 73, 261, 170]</td>\n    </tr>\n    <tr>\n      <th>1</th>\n      <td>000001_jpg.rf.fddb09e33a544e332617f8ceb53ee805...</td>\n      <td>500</td>\n      <td>375</td>\n      <td>187500</td>\n      <td>helmet</td>\n      <td>[111, 144, 134, 174]</td>\n      <td>690</td>\n      <td>0.003680</td>\n      <td>[100, 136, 142, 178]</td>\n    </tr>\n    <tr>\n      <th>2</th>\n      <td>000002_jpg.rf.85b55e30b8ce745e3c16966991a38018...</td>\n      <td>500</td>\n      <td>333</td>\n      <td>166500</td>\n      <td>helmet</td>\n      <td>[272, 53, 325, 111]</td>\n      <td>3074</td>\n      <td>0.018462</td>\n      <td>[253, 30, 355, 132]</td>\n    </tr>\n    <tr>\n      <th>3</th>\n      <td>000002_jpg.rf.85b55e30b8ce745e3c16966991a38018...</td>\n      <td>500</td>\n      <td>333</td>\n      <td>166500</td>\n      <td>helmet</td>\n      <td>[141, 82, 181, 131]</td>\n      <td>1960</td>\n      <td>0.011772</td>\n      <td>[125, 74, 199, 148]</td>\n    </tr>\n    <tr>\n      <th>4</th>\n      <td>000003_jpg.rf.9fc4dfe06775f585757ede9300ba6af9...</td>\n      <td>400</td>\n      <td>264</td>\n      <td>105600</td>\n      <td>helmet</td>\n      <td>[175, 152, 204, 189]</td>\n      <td>1073</td>\n      <td>0.010161</td>\n      <td>[151, 134, 219, 202]</td>\n    </tr>\n  </tbody>\n</table>\n</div>"
     },
     "execution_count": 5,
     "metadata": {},
     "output_type": "execute_result"
    }
   ],
   "source": [
    "df = pd.read_csv('../1_helmet/2_samples.csv')\n",
    "df.head()"
   ],
   "metadata": {
    "collapsed": false,
    "ExecuteTime": {
     "end_time": "2024-01-23T20:15:27.273387Z",
     "start_time": "2024-01-23T20:15:27.251338Z"
    }
   }
  },
  {
   "cell_type": "markdown",
   "source": [
    "# Convert to COCO format"
   ],
   "metadata": {
    "collapsed": false
   }
  },
  {
   "cell_type": "code",
   "execution_count": 195,
   "outputs": [],
   "source": [
    "def generate_coco(descriptor_path,\n",
    "                  image_folder_path,\n",
    "                  output_folder_path,\n",
    "                  annotation_name,\n",
    "                  category_name,\n",
    "                  draw_bbox=False,\n",
    "                  sample=1.0,\n",
    "                  random_state=42):\n",
    "    df_descriptor = pd.read_csv(descriptor_path, index_col=0)\n",
    "    df_descriptor = map_data_frame_from_json(df_descriptor, column_list=['object_bbox', 'sample_bbox'])\n",
    "    df_descriptor = df_descriptor.sample(frac=sample, random_state=random_state, ignore_index=False)\n",
    "    print(f'Generating descriptors for {len(df_descriptor)} samples...')\n",
    "    output_image_folder_path = join(output_folder_path, 'images')\n",
    "    annotation_file_path = join(output_folder_path, 'annotations', annotation_name)\n",
    "    os.makedirs(output_image_folder_path, exist_ok=True)\n",
    "    os.makedirs(os.path.dirname(annotation_file_path), exist_ok=True)\n",
    "    image_descriptor_list = []\n",
    "    annotation_list = []\n",
    "    for sample_id, row in tqdm(df_descriptor.iterrows()):\n",
    "        img_path = join(image_folder_path, row.filename)\n",
    "        x0, y0, x1, y1 = row.sample_bbox\n",
    "        img = cv.imread(img_path)\n",
    "        roi = img[y0: y1, x0: x1]\n",
    "        object_x0, object_y0, object_x1, object_y1 = row.object_bbox\n",
    "        object_x0, object_x1 = object_x0 - x0, object_x1 - x0\n",
    "        object_y0, object_y1 = object_y0 - y0, object_y1 - y0\n",
    "        object_width = object_x1 - object_x0\n",
    "        object_height = object_y1 - object_y0\n",
    "        filename_base, ext = splitext(row.filename)\n",
    "\n",
    "        image_sample_filename = f'{filename_base}_{str(sample_id)}{ext}'\n",
    "        image_descriptor_list.append({\n",
    "            \"file_name\": image_sample_filename,\n",
    "            \"height\": roi.shape[0],\n",
    "            \"width\": roi.shape[1],\n",
    "            \"id\": sample_id,\n",
    "        })\n",
    "        annotation_list.append({\n",
    "            \"segmentation\": [],\n",
    "            \"iscrowd\": 0,\n",
    "            \"image_id\": sample_id,\n",
    "            \"category_id\": 1,\n",
    "            \"bbox\": [object_x0, object_y0, object_width, object_height],\n",
    "            \"area\": object_width * object_height,\n",
    "            \"id\": sample_id,\n",
    "        })\n",
    "\n",
    "        if draw_bbox:\n",
    "            cv.rectangle(roi, (object_x0, object_y0), (object_x1, object_y1), (0, 0, 255), 1)\n",
    "        cv.imwrite(join(output_image_folder_path, image_sample_filename), roi)\n",
    "    categories = [{\n",
    "        \"supercategory\": category_name,\n",
    "        \"id\": 1,\n",
    "        \"name\": category_name\n",
    "    }]\n",
    "    with open(annotation_file_path, mode='w+') as f:\n",
    "        json.dump({\n",
    "            \"categories\": categories,\n",
    "            \"images\": image_descriptor_list,\n",
    "            \"annotations\": annotation_list\n",
    "        }, f, indent=4)"
   ],
   "metadata": {
    "collapsed": false,
    "ExecuteTime": {
     "end_time": "2024-01-15T15:20:12.603309Z",
     "start_time": "2024-01-15T15:20:12.595908Z"
    }
   }
  },
  {
   "cell_type": "code",
   "execution_count": 205,
   "outputs": [
    {
     "name": "stdout",
     "output_type": "stream",
     "text": [
      "Generating descriptors for 250 samples...\n"
     ]
    },
    {
     "data": {
      "text/plain": "0it [00:00, ?it/s]",
      "application/vnd.jupyter.widget-view+json": {
       "version_major": 2,
       "version_minor": 0,
       "model_id": "35dca834add64080b999498698a6fe88"
      }
     },
     "metadata": {},
     "output_type": "display_data"
    }
   ],
   "source": [
    "generate_coco('../3_bdd100k/3_val.csv',\n",
    "              '../3_bdd100k/images',\n",
    "              '../3_bdd100k/dataset_coco/',\n",
    "              'annotation_val_small.json',\n",
    "              'card',\n",
    "              draw_bbox=False,\n",
    "              sample=0.5)"
   ],
   "metadata": {
    "collapsed": false,
    "ExecuteTime": {
     "end_time": "2024-01-15T15:22:32.236207Z",
     "start_time": "2024-01-15T15:22:31.573055Z"
    }
   }
  }
 ],
 "metadata": {
  "kernelspec": {
   "display_name": "Python 3",
   "language": "python",
   "name": "python3"
  },
  "language_info": {
   "codemirror_mode": {
    "name": "ipython",
    "version": 2
   },
   "file_extension": ".py",
   "mimetype": "text/x-python",
   "name": "python",
   "nbconvert_exporter": "python",
   "pygments_lexer": "ipython2",
   "version": "2.7.6"
  }
 },
 "nbformat": 4,
 "nbformat_minor": 0
}
