{
 "cells": [
  {
   "cell_type": "code",
   "execution_count": 1,
   "metadata": {
    "colab": {
     "base_uri": "https://localhost:8080/"
    },
    "executionInfo": {
     "elapsed": 28203,
     "status": "ok",
     "timestamp": 1738189516419,
     "user": {
      "displayName": "Some One",
      "userId": "06700300864588890973"
     },
     "user_tz": -120
    },
    "id": "l6Nx1bVIWAeO",
    "outputId": "81334d41-3d45-4b4d-ccd0-0e4f442bca66"
   },
   "outputs": [
    {
     "output_type": "stream",
     "name": "stdout",
     "text": [
      "Mounted at /content/drive\n"
     ]
    }
   ],
   "source": [
    "from google.colab import drive\n",
    "drive.mount('/content/drive', force_remount=True)"
   ]
  },
  {
   "cell_type": "code",
   "metadata": {
    "colab": {
     "base_uri": "https://localhost:8080/"
    },
    "executionInfo": {
     "elapsed": 4,
     "status": "ok",
     "timestamp": 1738092125964,
     "user": {
      "displayName": "Some One",
      "userId": "06700300864588890973"
     },
     "user_tz": -120
    },
    "id": "CXkvR8p1WIPM",
    "outputId": "a46f4f53-8540-407b-c309-8123f80f7f06",
    "ExecuteTime": {
     "end_time": "2025-03-06T20:03:39.714366Z",
     "start_time": "2025-03-06T20:03:39.692334Z"
    }
   },
   "source": [
    "import os\n",
    "import sys\n",
    "package_path = '/content/drive/MyDrive/packages_damo'\n",
    "sys.path.insert(0, package_path)\n",
    "sys.path"
   ],
   "outputs": [],
   "execution_count": 1
  },
  {
   "cell_type": "code",
   "execution_count": null,
   "metadata": {
    "colab": {
     "base_uri": "https://localhost:8080/",
     "height": 35
    },
    "executionInfo": {
     "elapsed": 19,
     "status": "ok",
     "timestamp": 1705225166669,
     "user": {
      "displayName": "Some One",
      "userId": "06700300864588890973"
     },
     "user_tz": -120
    },
    "id": "sB39aM7SP4VP",
    "outputId": "e34ef248-d294-4c42-ce20-514d4c7af71d"
   },
   "outputs": [
    {
     "data": {
      "application/vnd.google.colaboratory.intrinsic+json": {
       "type": "string"
      },
      "text/plain": [
       "'/content/drive/MyDrive/packages_damo/loguru/__init__.py'"
      ]
     },
     "execution_count": 16,
     "metadata": {},
     "output_type": "execute_result"
    }
   ],
   "source": [
    "# import torchvision\n",
    "# torchvision.__version__\n",
    "# import inspect\n",
    "# inspect.getfile(loguru)"
   ]
  },
  {
   "cell_type": "code",
   "execution_count": null,
   "metadata": {
    "id": "6AxtgDc9WPHi"
   },
   "outputs": [],
   "source": [
    "# !pip install --target=$package_path torch torchvision torchaudio\n",
    "\n",
    "# !pip install --target=$package_path --upgrade -v -e /content/drive/MyDrive/damo_yolo"
   ]
  },
  {
   "cell_type": "code",
   "execution_count": null,
   "metadata": {
    "id": "wVpFIlmaWPb2"
   },
   "outputs": [],
   "source": [
    "!mkdir /content/data/\n",
    "!cp /content/drive/MyDrive/dataset_cards_coco_v2.zip /content/data/"
   ]
  },
  {
   "cell_type": "code",
   "metadata": {
    "colab": {
     "base_uri": "https://localhost:8080/"
    },
    "executionInfo": {
     "elapsed": 1083,
     "status": "ok",
     "timestamp": 1738092143953,
     "user": {
      "displayName": "Some One",
      "userId": "06700300864588890973"
     },
     "user_tz": -120
    },
    "id": "MgHGCnuWWQ8-",
    "outputId": "da67cf98-58dc-4ffb-baf2-d71d6488eae2",
    "ExecuteTime": {
     "end_time": "2025-03-06T20:04:12.852919Z",
     "start_time": "2025-03-06T20:04:12.833922Z"
    }
   },
   "source": "!unzip -d /content/data/ /content/data/dataset_cards_coco_v2.zip",
   "outputs": [],
   "execution_count": 2
  },
  {
   "cell_type": "code",
   "metadata": {
    "colab": {
     "base_uri": "https://localhost:8080/"
    },
    "executionInfo": {
     "elapsed": 43,
     "status": "ok",
     "timestamp": 1738092143953,
     "user": {
      "displayName": "Some One",
      "userId": "06700300864588890973"
     },
     "user_tz": -120
    },
    "id": "js5PScT0Wamq",
    "outputId": "7269a0cc-dd38-4f7c-a11a-0ba0cdd3534c"
   },
   "source": [
    "%cd /content/drive/MyDrive/damo_yolo"
   ],
   "outputs": [],
   "execution_count": null
  },
  {
   "cell_type": "code",
   "execution_count": null,
   "metadata": {
    "colab": {
     "base_uri": "https://localhost:8080/"
    },
    "executionInfo": {
     "elapsed": 333,
     "status": "ok",
     "timestamp": 1738092145642,
     "user": {
      "displayName": "Some One",
      "userId": "06700300864588890973"
     },
     "user_tz": -120
    },
    "id": "Fn5OaQi1h3py",
    "outputId": "05d9a583-d4e8-4459-f3e2-ec82f99f686f"
   },
   "outputs": [
    {
     "output_type": "stream",
     "name": "stdout",
     "text": [
      "/content/drive/MyDrive/damo_yolo\n"
     ]
    }
   ],
   "source": [
    "!pwd"
   ]
  },
  {
   "cell_type": "code",
   "execution_count": null,
   "metadata": {
    "id": "4b7O6IENXvPU"
   },
   "outputs": [],
   "source": [
    "# !rm -rf '/content/drive/MyDrive/output/damo_yolo_ns/cards/01_v2/'\n",
    "# !rm -rf /content/data/dataset_helmet_coco.zip\n",
    "# !rm -rf /content/data/"
   ]
  },
  {
   "cell_type": "code",
   "execution_count": null,
   "metadata": {
    "id": "Vr1oBKCkWWKB"
   },
   "outputs": [],
   "source": [
    "# !python -m torch.distributed.launch \\\n",
    "#   --nproc_per_node=1 /content/drive/MyDrive/damo_yolo/tools/train.py \\\n",
    "#   -f /content/drive/MyDrive/damo_yolo/configs/damoyolo_tinynasL18_Ns.py \\\n",
    "#   dataset_name cards datasplit 0025 class_name card epochs 100"
   ]
  },
  {
   "cell_type": "code",
   "metadata": {
    "executionInfo": {
     "elapsed": 44871,
     "status": "ok",
     "timestamp": 1738095701706,
     "user": {
      "displayName": "Some One",
      "userId": "06700300864588890973"
     },
     "user_tz": -120
    },
    "id": "v8qQjwXgOZjS",
    "colab": {
     "base_uri": "https://localhost:8080/"
    },
    "outputId": "adfb0cc9-0b22-4445-ab32-7bdf5e0142b3",
    "ExecuteTime": {
     "end_time": "2025-03-06T20:04:19.065165Z",
     "start_time": "2025-03-06T20:04:19.049166Z"
    }
   },
   "source": [
    "# !python -m torch.distributed.launch \\\n",
    "#   --nproc_per_node=1 tools/eval.py \\\n",
    "#   -f configs/damoyolo_tinynasL18_Ns_test2.py \\\n",
    "#   --ckpt /content/drive/MyDrive/output/damo_yolo_ns/cards/0025/damoyolo_tinynasL18_Ns/epoch_90_ckpt.pth \\\n",
    "#   dataset_name cards datasplit 0025 class_name card"
   ],
   "outputs": [],
   "execution_count": 3
  },
  {
   "cell_type": "code",
   "execution_count": null,
   "metadata": {
    "id": "GaUY4oZye6dW"
   },
   "outputs": [],
   "source": [
    "# !python -m torch.distributed.launch \\\n",
    "#   --nproc_per_node=1 /content/drive/MyDrive/damo_yolo/tools/train.py \\\n",
    "#   -f /content/drive/MyDrive/damo_yolo/configs/damoyolo_tinynasL18_Ns.py \\\n",
    "#   dataset_name cards datasplit 005 class_name card epochs 100"
   ]
  },
  {
   "cell_type": "code",
   "metadata": {
    "executionInfo": {
     "elapsed": 48417,
     "status": "ok",
     "timestamp": 1738095750956,
     "user": {
      "displayName": "Some One",
      "userId": "06700300864588890973"
     },
     "user_tz": -120
    },
    "id": "ww3_hxPme9h6",
    "colab": {
     "base_uri": "https://localhost:8080/"
    },
    "outputId": "ec54d008-785e-4d45-e39f-c0063f908175",
    "ExecuteTime": {
     "end_time": "2025-03-06T20:04:22.632582Z",
     "start_time": "2025-03-06T20:04:22.616581Z"
    }
   },
   "source": [
    "# !python -m torch.distributed.launch \\\n",
    "#   --nproc_per_node=1 tools/eval.py \\\n",
    "#   -f configs/damoyolo_tinynasL18_Ns_test2.py \\\n",
    "#   --ckpt /content/drive/MyDrive/output/damo_yolo_ns/cards/005/damoyolo_tinynasL18_Ns/epoch_80_ckpt.pth \\\n",
    "#   dataset_name cards datasplit 005 class_name card"
   ],
   "outputs": [],
   "execution_count": 4
  },
  {
   "cell_type": "code",
   "execution_count": null,
   "metadata": {
    "id": "_bYK5-2Thhkd"
   },
   "outputs": [],
   "source": [
    "# !python -m torch.distributed.launch \\\n",
    "#   --nproc_per_node=1 /content/drive/MyDrive/damo_yolo/tools/train.py \\\n",
    "#   -f /content/drive/MyDrive/damo_yolo/configs/damoyolo_tinynasL18_Ns.py \\\n",
    "#   dataset_name cards datasplit 0075 class_name card epochs 100"
   ]
  },
  {
   "cell_type": "code",
   "metadata": {
    "id": "fQpTNOmXhj1A",
    "executionInfo": {
     "status": "ok",
     "timestamp": 1738095797711,
     "user_tz": -120,
     "elapsed": 46760,
     "user": {
      "displayName": "Some One",
      "userId": "06700300864588890973"
     }
    },
    "colab": {
     "base_uri": "https://localhost:8080/"
    },
    "outputId": "2b01bd46-fb0f-4b1c-e248-e260e69cebfd",
    "ExecuteTime": {
     "end_time": "2025-03-06T20:04:25.783688Z",
     "start_time": "2025-03-06T20:04:25.776686Z"
    }
   },
   "source": [
    "# !python -m torch.distributed.launch \\\n",
    "#   --nproc_per_node=1 tools/eval.py \\\n",
    "#   -f configs/damoyolo_tinynasL18_Ns_test2.py \\\n",
    "#   --ckpt /content/drive/MyDrive/output/damo_yolo_ns/cards/0075/damoyolo_tinynasL18_Ns/epoch_60_ckpt.pth \\\n",
    "#   dataset_name cards datasplit 0075 class_name card"
   ],
   "outputs": [],
   "execution_count": 5
  },
  {
   "cell_type": "code",
   "execution_count": null,
   "metadata": {
    "id": "v0CP-i5oho0C"
   },
   "outputs": [],
   "source": [
    "# !python -m torch.distributed.launch \\\n",
    "#   --nproc_per_node=1 /content/drive/MyDrive/damo_yolo/tools/train.py \\\n",
    "#   -f /content/drive/MyDrive/damo_yolo/configs/damoyolo_tinynasL18_Ns.py \\\n",
    "#   dataset_name cards datasplit 01 class_name card epochs 40"
   ]
  },
  {
   "cell_type": "code",
   "metadata": {
    "executionInfo": {
     "elapsed": 46752,
     "status": "ok",
     "timestamp": 1738095844460,
     "user": {
      "displayName": "Some One",
      "userId": "06700300864588890973"
     },
     "user_tz": -120
    },
    "id": "mS0sL0lbhqnF",
    "colab": {
     "base_uri": "https://localhost:8080/"
    },
    "outputId": "c500c4ab-f63f-401c-a1e7-f378bd227eb1",
    "ExecuteTime": {
     "end_time": "2025-03-06T20:04:35.166254Z",
     "start_time": "2025-03-06T20:04:35.146060Z"
    }
   },
   "source": [
    "# !python -m torch.distributed.launch \\\n",
    "#   --nproc_per_node=1 tools/eval.py \\\n",
    "#   -f configs/damoyolo_tinynasL18_Ns_test2.py \\\n",
    "#   --ckpt /content/drive/MyDrive/output/damo_yolo_ns/cards/01/damoyolo_tinynasL18_Ns/epoch_30_ckpt.pth \\\n",
    "#   dataset_name cards datasplit 01 class_name card"
   ],
   "outputs": [],
   "execution_count": 6
  },
  {
   "cell_type": "code",
   "execution_count": null,
   "metadata": {
    "id": "jCCIT48Rhs4W"
   },
   "outputs": [],
   "source": [
    "# !python -m torch.distributed.launch \\\n",
    "#   --nproc_per_node=1 /content/drive/MyDrive/damo_yolo/tools/train.py \\\n",
    "#   -f /content/drive/MyDrive/damo_yolo/configs/damoyolo_tinynasL18_Ns.py \\\n",
    "#   dataset_name cards datasplit 025 class_name card epochs 25"
   ]
  },
  {
   "cell_type": "code",
   "metadata": {
    "executionInfo": {
     "elapsed": 46946,
     "status": "ok",
     "timestamp": 1738095891392,
     "user": {
      "displayName": "Some One",
      "userId": "06700300864588890973"
     },
     "user_tz": -120
    },
    "id": "KICIGz7Jht38",
    "colab": {
     "base_uri": "https://localhost:8080/"
    },
    "outputId": "5c4bd013-2d37-4e6d-8aa4-adf7ae04e971",
    "ExecuteTime": {
     "end_time": "2025-03-06T20:04:38.159008Z",
     "start_time": "2025-03-06T20:04:38.145008Z"
    }
   },
   "source": [
    "# !python -m torch.distributed.launch \\\n",
    "#   --nproc_per_node=1 tools/eval.py \\\n",
    "#   -f configs/damoyolo_tinynasL18_Ns_test2.py \\\n",
    "#   --ckpt /content/drive/MyDrive/output/damo_yolo_ns/cards/025/damoyolo_tinynasL18_Ns/epoch_25_ckpt.pth \\\n",
    "#   dataset_name cards datasplit 025 class_name card"
   ],
   "outputs": [],
   "execution_count": 7
  },
  {
   "cell_type": "code",
   "execution_count": null,
   "metadata": {
    "id": "Lfg1yNmbhxoU"
   },
   "outputs": [],
   "source": [
    "# !python -m torch.distributed.launch \\\n",
    "#   --nproc_per_node=1 /content/drive/MyDrive/damo_yolo/tools/train.py \\\n",
    "#   -f /content/drive/MyDrive/damo_yolo/configs/damoyolo_tinynasL18_Ns.py \\\n",
    "#   dataset_name cards datasplit 10 class_name card epochs 30"
   ]
  },
  {
   "cell_type": "code",
   "metadata": {
    "executionInfo": {
     "elapsed": 47858,
     "status": "ok",
     "timestamp": 1738095939238,
     "user": {
      "displayName": "Some One",
      "userId": "06700300864588890973"
     },
     "user_tz": -120
    },
    "id": "g-eYpVq-h5nx",
    "colab": {
     "base_uri": "https://localhost:8080/"
    },
    "outputId": "142c5376-e10b-451e-aaca-8c1947743e1f",
    "ExecuteTime": {
     "end_time": "2025-03-06T20:04:40.845615Z",
     "start_time": "2025-03-06T20:04:40.835617Z"
    }
   },
   "source": [
    "# !python -m torch.distributed.launch \\\n",
    "#   --nproc_per_node=1 tools/eval.py \\\n",
    "#   -f configs/damoyolo_tinynasL18_Ns_test2.py \\\n",
    "#   --ckpt /content/drive/MyDrive/output/damo_yolo_ns/cards/10/damoyolo_tinynasL18_Ns/epoch_30_ckpt.pth \\\n",
    "#   dataset_name cards datasplit 10 class_name card"
   ],
   "outputs": [],
   "execution_count": 8
  },
  {
   "cell_type": "markdown",
   "metadata": {
    "id": "eoPCkSmQjEDB"
   },
   "source": [
    "NM"
   ]
  },
  {
   "cell_type": "code",
   "execution_count": null,
   "metadata": {
    "id": "vokW1JdijGcY"
   },
   "outputs": [],
   "source": [
    "# !python -m torch.distributed.launch \\\n",
    "#   --nproc_per_node=1 /content/drive/MyDrive/damo_yolo/tools/train.py \\\n",
    "#   -f /content/drive/MyDrive/damo_yolo/configs/damoyolo_tinynasL18_Nm.py \\\n",
    "#   dataset_name cards datasplit 0025 class_name card epochs 150"
   ]
  },
  {
   "cell_type": "code",
   "metadata": {
    "id": "ErTscOykjKWt",
    "executionInfo": {
     "status": "ok",
     "timestamp": 1738095996536,
     "user_tz": -120,
     "elapsed": 57309,
     "user": {
      "displayName": "Some One",
      "userId": "06700300864588890973"
     }
    },
    "colab": {
     "base_uri": "https://localhost:8080/"
    },
    "outputId": "da355bb5-58f1-4271-9b14-d731078f6d5d",
    "ExecuteTime": {
     "end_time": "2025-03-06T20:04:44.007148Z",
     "start_time": "2025-03-06T20:04:43.991144Z"
    }
   },
   "source": [
    "# !python -m torch.distributed.launch \\\n",
    "#   --nproc_per_node=1 tools/eval.py \\\n",
    "#   -f configs/damoyolo_tinynasL18_Nm_test2.py \\\n",
    "#   --ckpt /content/drive/MyDrive/output/damo_yolo_nm/cards/0025/damoyolo_tinynasL18_Nm/epoch_140_ckpt.pth \\\n",
    "#   dataset_name cards datasplit 0025 class_name card"
   ],
   "outputs": [],
   "execution_count": 9
  },
  {
   "cell_type": "code",
   "execution_count": null,
   "metadata": {
    "id": "voVL85NULUN8"
   },
   "outputs": [],
   "source": [
    "# # 70 + 0\n",
    "# !python -m torch.distributed.launch \\\n",
    "#   --nproc_per_node=1 /content/drive/MyDrive/damo_yolo/tools/train.py \\\n",
    "#   -f /content/drive/MyDrive/damo_yolo/configs/damoyolo_tinynasL18_Nm.py \\\n",
    "#   dataset_name cards datasplit 005 class_name card epochs 100"
   ]
  },
  {
   "cell_type": "code",
   "metadata": {
    "id": "LcbVtvssLUFF",
    "executionInfo": {
     "status": "ok",
     "timestamp": 1738096042470,
     "user_tz": -120,
     "elapsed": 45962,
     "user": {
      "displayName": "Some One",
      "userId": "06700300864588890973"
     }
    },
    "colab": {
     "base_uri": "https://localhost:8080/"
    },
    "outputId": "5bc72f41-b826-47e6-f8eb-6cda7ebf765d",
    "ExecuteTime": {
     "end_time": "2025-03-06T20:04:46.770393Z",
     "start_time": "2025-03-06T20:04:46.751391Z"
    }
   },
   "source": [
    "# !python -m torch.distributed.launch \\\n",
    "#   --nproc_per_node=1 tools/eval.py \\\n",
    "#   -f configs/damoyolo_tinynasL18_Nm_test2.py \\\n",
    "#   --ckpt /content/drive/MyDrive/output/damo_yolo_nm/cards/005/damoyolo_tinynasL18_Nm/epoch_70_ckpt.pth \\\n",
    "#   dataset_name cards datasplit 005 class_name card"
   ],
   "outputs": [],
   "execution_count": 10
  },
  {
   "cell_type": "code",
   "execution_count": null,
   "metadata": {
    "id": "t2NdwmsxOhsT"
   },
   "outputs": [],
   "source": [
    "# # 30 + 0\n",
    "# !python -m torch.distributed.launch \\\n",
    "#   --nproc_per_node=1 /content/drive/MyDrive/damo_yolo/tools/train.py \\\n",
    "#   -f /content/drive/MyDrive/damo_yolo/configs/damoyolo_tinynasL18_Nm.py \\\n",
    "#   dataset_name cards datasplit 0075 class_name card epochs 50"
   ]
  },
  {
   "cell_type": "code",
   "metadata": {
    "id": "I-UDG5KMOqqS",
    "executionInfo": {
     "status": "ok",
     "timestamp": 1738096090703,
     "user_tz": -120,
     "elapsed": 48242,
     "user": {
      "displayName": "Some One",
      "userId": "06700300864588890973"
     }
    },
    "colab": {
     "base_uri": "https://localhost:8080/"
    },
    "outputId": "94061a6a-ce25-4603-c084-3d4f4bc568ac",
    "ExecuteTime": {
     "end_time": "2025-03-06T20:04:49.099683Z",
     "start_time": "2025-03-06T20:04:49.085647Z"
    }
   },
   "source": [
    "# !python -m torch.distributed.launch \\\n",
    "#   --nproc_per_node=1 tools/eval.py \\\n",
    "#   -f configs/damoyolo_tinynasL18_Nm_test2.py \\\n",
    "#   --ckpt /content/drive/MyDrive/output/damo_yolo_nm/cards/0075/damoyolo_tinynasL18_Nm/epoch_40_ckpt.pth \\\n",
    "#   dataset_name cards datasplit 0075 class_name card"
   ],
   "outputs": [],
   "execution_count": 11
  },
  {
   "cell_type": "code",
   "execution_count": null,
   "metadata": {
    "id": "hDB0vZF0R5Ow"
   },
   "outputs": [],
   "source": [
    "# #30 + 0\n",
    "# !python -m torch.distributed.launch \\\n",
    "#   --nproc_per_node=1 /content/drive/MyDrive/damo_yolo/tools/train.py \\\n",
    "#   -f /content/drive/MyDrive/damo_yolo/configs/damoyolo_tinynasL18_Nm.py \\\n",
    "#   dataset_name cards datasplit 01 class_name card epochs 50"
   ]
  },
  {
   "cell_type": "code",
   "metadata": {
    "id": "8xX9ViXlR9GZ",
    "executionInfo": {
     "status": "ok",
     "timestamp": 1738096138691,
     "user_tz": -120,
     "elapsed": 46251,
     "user": {
      "displayName": "Some One",
      "userId": "06700300864588890973"
     }
    },
    "colab": {
     "base_uri": "https://localhost:8080/"
    },
    "outputId": "92ae8c67-73cd-4868-de4c-0771a78ac7ac",
    "ExecuteTime": {
     "end_time": "2025-03-06T20:04:52.856587Z",
     "start_time": "2025-03-06T20:04:52.836588Z"
    }
   },
   "source": [
    "# !python -m torch.distributed.launch \\\n",
    "#   --nproc_per_node=1 tools/eval.py \\\n",
    "#   -f configs/damoyolo_tinynasL18_Nm_test2.py \\\n",
    "#   --ckpt /content/drive/MyDrive/output/damo_yolo_nm/cards/01/damoyolo_tinynasL18_Nm/epoch_40_ckpt.pth \\\n",
    "#   dataset_name cards datasplit 01 class_name card"
   ],
   "outputs": [],
   "execution_count": 12
  },
  {
   "cell_type": "code",
   "execution_count": null,
   "metadata": {
    "id": "Yph9bIE5b5cP"
   },
   "outputs": [],
   "source": [
    "# # 15 + 0\n",
    "# !python -m torch.distributed.launch \\\n",
    "#   --nproc_per_node=1 /content/drive/MyDrive/damo_yolo/tools/train.py \\\n",
    "#   -f /content/drive/MyDrive/damo_yolo/configs/damoyolo_tinynasL18_Nm.py \\\n",
    "#   dataset_name cards datasplit 025 class_name card epochs 30"
   ]
  },
  {
   "cell_type": "code",
   "metadata": {
    "id": "q9LssPABb6Cf",
    "executionInfo": {
     "status": "ok",
     "timestamp": 1738096185903,
     "user_tz": -120,
     "elapsed": 47216,
     "user": {
      "displayName": "Some One",
      "userId": "06700300864588890973"
     }
    },
    "colab": {
     "base_uri": "https://localhost:8080/"
    },
    "outputId": "84fa7aa1-d7d6-4d19-fee9-30be051995d2",
    "ExecuteTime": {
     "end_time": "2025-03-06T20:04:55.503357Z",
     "start_time": "2025-03-06T20:04:55.495389Z"
    }
   },
   "source": [
    "# !python -m torch.distributed.launch \\\n",
    "#   --nproc_per_node=1 tools/eval.py \\\n",
    "#   -f configs/damoyolo_tinynasL18_Nm_test2.py \\\n",
    "#   --ckpt /content/drive/MyDrive/output/damo_yolo_nm/cards/025/damoyolo_tinynasL18_Nm/epoch_30_ckpt.pth \\\n",
    "#   dataset_name cards datasplit 025 class_name card"
   ],
   "outputs": [],
   "execution_count": 13
  },
  {
   "cell_type": "code",
   "execution_count": null,
   "metadata": {
    "id": "FlBfdS_VVnaT"
   },
   "outputs": [],
   "source": [
    "# # 10 + 10\n",
    "# !python -m torch.distributed.launch \\\n",
    "#   --nproc_per_node=1 /content/drive/MyDrive/damo_yolo/tools/train.py \\\n",
    "#   -f /content/drive/MyDrive/damo_yolo/configs/damoyolo_tinynasL18_Nm.py \\\n",
    "#   dataset_name cards datasplit 10 class_name card epochs 30"
   ]
  },
  {
   "cell_type": "code",
   "metadata": {
    "id": "bxTKUmgFVnSh",
    "executionInfo": {
     "status": "ok",
     "timestamp": 1738096230774,
     "user_tz": -120,
     "elapsed": 44877,
     "user": {
      "displayName": "Some One",
      "userId": "06700300864588890973"
     }
    },
    "colab": {
     "base_uri": "https://localhost:8080/"
    },
    "outputId": "77350349-0563-422f-a5c0-f97ee5d57dd3",
    "ExecuteTime": {
     "end_time": "2025-03-06T20:05:13.210426Z",
     "start_time": "2025-03-06T20:05:13.196421Z"
    }
   },
   "source": [
    "# !python -m torch.distributed.launch \\\n",
    "#   --nproc_per_node=1 tools/eval.py \\\n",
    "#   -f configs/damoyolo_tinynasL18_Nm_test2.py \\\n",
    "#   --ckpt /content/drive/MyDrive/output/damo_yolo_nm/cards/10/damoyolo_tinynasL18_Nm/epoch_30_ckpt.pth \\\n",
    "#   dataset_name cards datasplit 10 class_name card"
   ],
   "outputs": [],
   "execution_count": 14
  },
  {
   "cell_type": "markdown",
   "metadata": {
    "id": "fWSG0EHvcgBV"
   },
   "source": [
    "Logs"
   ]
  },
  {
   "cell_type": "code",
   "execution_count": null,
   "metadata": {
    "colab": {
     "base_uri": "https://localhost:8080/"
    },
    "executionInfo": {
     "elapsed": 6,
     "status": "ok",
     "timestamp": 1737932413131,
     "user": {
      "displayName": "Some One",
      "userId": "06700300864588890973"
     },
     "user_tz": -120
    },
    "id": "1Ji3DFdnagJF",
    "outputId": "0ac59817-15af-4a83-d4ed-f9828f3039aa"
   },
   "outputs": [
    {
     "output_type": "execute_result",
     "data": {
      "text/plain": [
       "4357"
      ]
     },
     "metadata": {},
     "execution_count": 171
    }
   ],
   "source": [
    "with open('/content/drive/MyDrive/output/damo_yolo_nm/cards/10/damoyolo_tinynasL18_Nm/2025-01-26-2219') as f:\n",
    "    line_list = f.readlines()\n",
    "len(line_list)"
   ]
  },
  {
   "cell_type": "code",
   "execution_count": null,
   "metadata": {
    "colab": {
     "base_uri": "https://localhost:8080/",
     "height": 49,
     "referenced_widgets": [
      "dd6a40a3cb884343bc26f2c40fb48cca",
      "20e6fc47eb21465fb6086c3cd3b681e8",
      "2429dd7b26ba4493b62fcc767ac4aae3",
      "d32fabf3e2584f04a8ec8f33a7938ff6",
      "45dc7665c5c64f46a75d351536ba84ba",
      "3584247e64d24265a36bc5ca9f3c6d8f",
      "47cc5970923241bcada4b35d99731162",
      "84cdd1b3869f4a5c941fbe79f20042da",
      "33d627b7a15848bc9c195f8fa695c747",
      "6e7d1ce9962e4c1398d4eb0563670398",
      "4d04f9b20fd442cc989974e61ea41419"
     ]
    },
    "executionInfo": {
     "elapsed": 6,
     "status": "ok",
     "timestamp": 1737932413132,
     "user": {
      "displayName": "Some One",
      "userId": "06700300864588890973"
     },
     "user_tz": -120
    },
    "id": "RlkhmQKTasqY",
    "outputId": "7d276d0f-12de-4425-ab91-79191e456f69"
   },
   "outputs": [
    {
     "output_type": "display_data",
     "data": {
      "text/plain": [
       "  0%|          | 0/4357 [00:00<?, ?it/s]"
      ],
      "application/vnd.jupyter.widget-view+json": {
       "version_major": 2,
       "version_minor": 0,
       "model_id": "dd6a40a3cb884343bc26f2c40fb48cca"
      }
     },
     "metadata": {}
    }
   ],
   "source": [
    "from tqdm.notebook import tqdm\n",
    "total_loss_list = []\n",
    "class_loss_list = []\n",
    "box_loss_list = []\n",
    "dfl_loss_list = []\n",
    "iou_50_list = []\n",
    "iou_50_95_list = []\n",
    "learning_rate_list = []\n",
    "for line in tqdm(line_list):\n",
    "    if 'damo.apis.detector_trainer:train:365' in line:\n",
    "        total_loss = [float(item.split(': ')[1]) for item in line.split(', ') if 'total_loss:' in item][0]\n",
    "        total_loss_list.append(total_loss)\n",
    "\n",
    "        class_loss = [float(item.split(': ')[1]) for item in line.split(', ') if 'loss_cls:' in item][0]\n",
    "        class_loss_list.append(class_loss)\n",
    "\n",
    "        box_loss = [float(item.split(': ')[1]) for item in line.split(', ') if 'loss_bbox:' in item][0]\n",
    "        box_loss_list.append(box_loss)\n",
    "\n",
    "        dfl_loss = [float(item.split(': ')[1]) for item in line.split(', ') if 'loss_dfl:' in item][0]\n",
    "        dfl_loss_list.append(dfl_loss)\n",
    "\n",
    "        lr = [float(item.split(': ')[1]) for item in line.split(', ') if 'lr:' in item][0]\n",
    "        learning_rate_list.append(lr)\n",
    "    elif 'pycocotools.cocoeval:_summarizeDets:460' in line:\n",
    "        iou_50_95_list.append(float(line.split('= ')[-1]))\n",
    "    elif 'pycocotools.cocoeval:_summarizeDets:461' in line:\n",
    "        iou_50_list.append(float(line.split('= ')[-1]))"
   ]
  },
  {
   "cell_type": "code",
   "execution_count": null,
   "metadata": {
    "id": "uXtTG7QJauEx"
   },
   "outputs": [],
   "source": [
    "def smooth(x, window_len=11, window='hanning'):\n",
    "    x = np.asarray(x)\n",
    "    if window_len < 3:\n",
    "        return x\n",
    "    if not window in ['flat', 'hanning', 'hamming', 'bartlett', 'blackman']:\n",
    "        raise ValueError(\"Window is on of 'flat', 'hanning', 'hamming', 'bartlett', 'blackman'\")\n",
    "    s = np.r_[2 * x[0] - x[window_len - 1::-1], x, 2 * x[-1] - x[-1:-window_len:-1]]\n",
    "    if window == 'flat':  #moving average\n",
    "        w = np.ones(window_len, 'd')\n",
    "    else:\n",
    "        w = eval('np.' + window + '(window_len)')\n",
    "    y = np.convolve(w / w.sum(), s, mode='same')\n",
    "\n",
    "    return y[window_len:-window_len + 1]"
   ]
  },
  {
   "cell_type": "code",
   "execution_count": null,
   "metadata": {
    "id": "QzZYIBgHave0"
   },
   "outputs": [],
   "source": [
    "import numpy as np\n",
    "total_loss_list_smothed = smooth(total_loss_list, 125)\n",
    "class_loss_list_smothed = smooth(class_loss_list, 125)\n",
    "box_loss_list_smothed = smooth(box_loss_list, 125)\n",
    "dfl_loss_list_smothed = smooth(dfl_loss_list, 125)\n",
    "\n",
    "iou_50_list_smothed = smooth(iou_50_list, 5)\n",
    "iou_50_95_list_smothed = smooth(iou_50_95_list, 5)"
   ]
  },
  {
   "cell_type": "code",
   "execution_count": null,
   "metadata": {
    "colab": {
     "base_uri": "https://localhost:8080/",
     "height": 913
    },
    "executionInfo": {
     "elapsed": 953,
     "status": "ok",
     "timestamp": 1737932414081,
     "user": {
      "displayName": "Some One",
      "userId": "06700300864588890973"
     },
     "user_tz": -120
    },
    "id": "lvf8N0UYawfY",
    "outputId": "51fa2a65-dd41-486b-8525-7400f12007eb"
   },
   "outputs": [
    {
     "output_type": "display_data",
     "data": {
      "text/plain": [
       "<Figure size 640x480 with 4 Axes>"
      ],
      "image/png": "[encoded data removed]"
     },
     "metadata": {}
    },
    {
     "output_type": "display_data",
     "data": {
      "text/plain": [
       "<Figure size 640x480 with 3 Axes>"
      ],
      "image/png": "[encoded data removed]"
     },
     "metadata": {}
    }
   ],
   "source": [
    "import matplotlib.pyplot as plt\n",
    "fig, axs = plt.subplots(2, 2)\n",
    "axs[0, 0].plot(total_loss_list_smothed)\n",
    "axs[0, 0].set_title('total')\n",
    "axs[0, 1].plot(class_loss_list_smothed)\n",
    "axs[0, 1].set_title('class')\n",
    "axs[1, 0].plot(box_loss_list_smothed)\n",
    "axs[1, 0].set_title('box')\n",
    "axs[1, 1].plot(dfl_loss_list_smothed)\n",
    "axs[1, 1].set_title('dfl')\n",
    "\n",
    "for ax in axs.flat:\n",
    "    ax.label_outer()\n",
    "\n",
    "fig.suptitle('Loss')\n",
    "plt.show()\n",
    "\n",
    "fig, axs = plt.subplots(3)\n",
    "axs[0].plot(learning_rate_list)\n",
    "axs[0].set_title('Learning rate')\n",
    "axs[1].plot(iou_50_list_smothed)\n",
    "axs[1].set_title('IOU 50')\n",
    "axs[2].plot(iou_50_95_list_smothed)\n",
    "axs[2].set_title('IOU 50-95')\n",
    "for ax in axs.flat:\n",
    "    ax.label_outer()\n",
    "\n",
    "plt.show()"
   ]
  },
  {
   "cell_type": "code",
   "execution_count": null,
   "metadata": {
    "id": "8qNJhOsHoW90"
   },
   "outputs": [],
   "source": []
  }
 ],
 "metadata": {
  "colab": {
   "provenance": [],
   "authorship_tag": "ABX9TyMaqF7mEttmzY4Lvbd7EwdX"
  },
  "kernelspec": {
   "display_name": "Python 3 (ipykernel)",
   "name": "python3",
   "language": "python"
  },
  "language_info": {
   "name": "python"
  },
  "widgets": {
   "application/vnd.jupyter.widget-state+json": {
    "dd6a40a3cb884343bc26f2c40fb48cca": {
     "model_module": "@jupyter-widgets/controls",
     "model_name": "HBoxModel",
     "model_module_version": "1.5.0",
     "state": {
      "_dom_classes": [],
      "_model_module": "@jupyter-widgets/controls",
      "_model_module_version": "1.5.0",
      "_model_name": "HBoxModel",
      "_view_count": null,
      "_view_module": "@jupyter-widgets/controls",
      "_view_module_version": "1.5.0",
      "_view_name": "HBoxView",
      "box_style": "",
      "children": [
       "IPY_MODEL_20e6fc47eb21465fb6086c3cd3b681e8",
       "IPY_MODEL_2429dd7b26ba4493b62fcc767ac4aae3",
       "IPY_MODEL_d32fabf3e2584f04a8ec8f33a7938ff6"
      ],
      "layout": "IPY_MODEL_45dc7665c5c64f46a75d351536ba84ba"
     }
    },
    "20e6fc47eb21465fb6086c3cd3b681e8": {
     "model_module": "@jupyter-widgets/controls",
     "model_name": "HTMLModel",
     "model_module_version": "1.5.0",
     "state": {
      "_dom_classes": [],
      "_model_module": "@jupyter-widgets/controls",
      "_model_module_version": "1.5.0",
      "_model_name": "HTMLModel",
      "_view_count": null,
      "_view_module": "@jupyter-widgets/controls",
      "_view_module_version": "1.5.0",
      "_view_name": "HTMLView",
      "description": "",
      "description_tooltip": null,
      "layout": "IPY_MODEL_3584247e64d24265a36bc5ca9f3c6d8f",
      "placeholder": "​",
      "style": "IPY_MODEL_47cc5970923241bcada4b35d99731162",
      "value": "100%"
     }
    },
    "2429dd7b26ba4493b62fcc767ac4aae3": {
     "model_module": "@jupyter-widgets/controls",
     "model_name": "FloatProgressModel",
     "model_module_version": "1.5.0",
     "state": {
      "_dom_classes": [],
      "_model_module": "@jupyter-widgets/controls",
      "_model_module_version": "1.5.0",
      "_model_name": "FloatProgressModel",
      "_view_count": null,
      "_view_module": "@jupyter-widgets/controls",
      "_view_module_version": "1.5.0",
      "_view_name": "ProgressView",
      "bar_style": "success",
      "description": "",
      "description_tooltip": null,
      "layout": "IPY_MODEL_84cdd1b3869f4a5c941fbe79f20042da",
      "max": 4357,
      "min": 0,
      "orientation": "horizontal",
      "style": "IPY_MODEL_33d627b7a15848bc9c195f8fa695c747",
      "value": 4357
     }
    },
    "d32fabf3e2584f04a8ec8f33a7938ff6": {
     "model_module": "@jupyter-widgets/controls",
     "model_name": "HTMLModel",
     "model_module_version": "1.5.0",
     "state": {
      "_dom_classes": [],
      "_model_module": "@jupyter-widgets/controls",
      "_model_module_version": "1.5.0",
      "_model_name": "HTMLModel",
      "_view_count": null,
      "_view_module": "@jupyter-widgets/controls",
      "_view_module_version": "1.5.0",
      "_view_name": "HTMLView",
      "description": "",
      "description_tooltip": null,
      "layout": "IPY_MODEL_6e7d1ce9962e4c1398d4eb0563670398",
      "placeholder": "​",
      "style": "IPY_MODEL_4d04f9b20fd442cc989974e61ea41419",
      "value": " 4357/4357 [00:00&lt;00:00, 87805.80it/s]"
     }
    },
    "45dc7665c5c64f46a75d351536ba84ba": {
     "model_module": "@jupyter-widgets/base",
     "model_name": "LayoutModel",
     "model_module_version": "1.2.0",
     "state": {
      "_model_module": "@jupyter-widgets/base",
      "_model_module_version": "1.2.0",
      "_model_name": "LayoutModel",
      "_view_count": null,
      "_view_module": "@jupyter-widgets/base",
      "_view_module_version": "1.2.0",
      "_view_name": "LayoutView",
      "align_content": null,
      "align_items": null,
      "align_self": null,
      "border": null,
      "bottom": null,
      "display": null,
      "flex": null,
      "flex_flow": null,
      "grid_area": null,
      "grid_auto_columns": null,
      "grid_auto_flow": null,
      "grid_auto_rows": null,
      "grid_column": null,
      "grid_gap": null,
      "grid_row": null,
      "grid_template_areas": null,
      "grid_template_columns": null,
      "grid_template_rows": null,
      "height": null,
      "justify_content": null,
      "justify_items": null,
      "left": null,
      "margin": null,
      "max_height": null,
      "max_width": null,
      "min_height": null,
      "min_width": null,
      "object_fit": null,
      "object_position": null,
      "order": null,
      "overflow": null,
      "overflow_x": null,
      "overflow_y": null,
      "padding": null,
      "right": null,
      "top": null,
      "visibility": null,
      "width": null
     }
    },
    "3584247e64d24265a36bc5ca9f3c6d8f": {
     "model_module": "@jupyter-widgets/base",
     "model_name": "LayoutModel",
     "model_module_version": "1.2.0",
     "state": {
      "_model_module": "@jupyter-widgets/base",
      "_model_module_version": "1.2.0",
      "_model_name": "LayoutModel",
      "_view_count": null,
      "_view_module": "@jupyter-widgets/base",
      "_view_module_version": "1.2.0",
      "_view_name": "LayoutView",
      "align_content": null,
      "align_items": null,
      "align_self": null,
      "border": null,
      "bottom": null,
      "display": null,
      "flex": null,
      "flex_flow": null,
      "grid_area": null,
      "grid_auto_columns": null,
      "grid_auto_flow": null,
      "grid_auto_rows": null,
      "grid_column": null,
      "grid_gap": null,
      "grid_row": null,
      "grid_template_areas": null,
      "grid_template_columns": null,
      "grid_template_rows": null,
      "height": null,
      "justify_content": null,
      "justify_items": null,
      "left": null,
      "margin": null,
      "max_height": null,
      "max_width": null,
      "min_height": null,
      "min_width": null,
      "object_fit": null,
      "object_position": null,
      "order": null,
      "overflow": null,
      "overflow_x": null,
      "overflow_y": null,
      "padding": null,
      "right": null,
      "top": null,
      "visibility": null,
      "width": null
     }
    },
    "47cc5970923241bcada4b35d99731162": {
     "model_module": "@jupyter-widgets/controls",
     "model_name": "DescriptionStyleModel",
     "model_module_version": "1.5.0",
     "state": {
      "_model_module": "@jupyter-widgets/controls",
      "_model_module_version": "1.5.0",
      "_model_name": "DescriptionStyleModel",
      "_view_count": null,
      "_view_module": "@jupyter-widgets/base",
      "_view_module_version": "1.2.0",
      "_view_name": "StyleView",
      "description_width": ""
     }
    },
    "84cdd1b3869f4a5c941fbe79f20042da": {
     "model_module": "@jupyter-widgets/base",
     "model_name": "LayoutModel",
     "model_module_version": "1.2.0",
     "state": {
      "_model_module": "@jupyter-widgets/base",
      "_model_module_version": "1.2.0",
      "_model_name": "LayoutModel",
      "_view_count": null,
      "_view_module": "@jupyter-widgets/base",
      "_view_module_version": "1.2.0",
      "_view_name": "LayoutView",
      "align_content": null,
      "align_items": null,
      "align_self": null,
      "border": null,
      "bottom": null,
      "display": null,
      "flex": null,
      "flex_flow": null,
      "grid_area": null,
      "grid_auto_columns": null,
      "grid_auto_flow": null,
      "grid_auto_rows": null,
      "grid_column": null,
      "grid_gap": null,
      "grid_row": null,
      "grid_template_areas": null,
      "grid_template_columns": null,
      "grid_template_rows": null,
      "height": null,
      "justify_content": null,
      "justify_items": null,
      "left": null,
      "margin": null,
      "max_height": null,
      "max_width": null,
      "min_height": null,
      "min_width": null,
      "object_fit": null,
      "object_position": null,
      "order": null,
      "overflow": null,
      "overflow_x": null,
      "overflow_y": null,
      "padding": null,
      "right": null,
      "top": null,
      "visibility": null,
      "width": null
     }
    },
    "33d627b7a15848bc9c195f8fa695c747": {
     "model_module": "@jupyter-widgets/controls",
     "model_name": "ProgressStyleModel",
     "model_module_version": "1.5.0",
     "state": {
      "_model_module": "@jupyter-widgets/controls",
      "_model_module_version": "1.5.0",
      "_model_name": "ProgressStyleModel",
      "_view_count": null,
      "_view_module": "@jupyter-widgets/base",
      "_view_module_version": "1.2.0",
      "_view_name": "StyleView",
      "bar_color": null,
      "description_width": ""
     }
    },
    "6e7d1ce9962e4c1398d4eb0563670398": {
     "model_module": "@jupyter-widgets/base",
     "model_name": "LayoutModel",
     "model_module_version": "1.2.0",
     "state": {
      "_model_module": "@jupyter-widgets/base",
      "_model_module_version": "1.2.0",
      "_model_name": "LayoutModel",
      "_view_count": null,
      "_view_module": "@jupyter-widgets/base",
      "_view_module_version": "1.2.0",
      "_view_name": "LayoutView",
      "align_content": null,
      "align_items": null,
      "align_self": null,
      "border": null,
      "bottom": null,
      "display": null,
      "flex": null,
      "flex_flow": null,
      "grid_area": null,
      "grid_auto_columns": null,
      "grid_auto_flow": null,
      "grid_auto_rows": null,
      "grid_column": null,
      "grid_gap": null,
      "grid_row": null,
      "grid_template_areas": null,
      "grid_template_columns": null,
      "grid_template_rows": null,
      "height": null,
      "justify_content": null,
      "justify_items": null,
      "left": null,
      "margin": null,
      "max_height": null,
      "max_width": null,
      "min_height": null,
      "min_width": null,
      "object_fit": null,
      "object_position": null,
      "order": null,
      "overflow": null,
      "overflow_x": null,
      "overflow_y": null,
      "padding": null,
      "right": null,
      "top": null,
      "visibility": null,
      "width": null
     }
    },
    "4d04f9b20fd442cc989974e61ea41419": {
     "model_module": "@jupyter-widgets/controls",
     "model_name": "DescriptionStyleModel",
     "model_module_version": "1.5.0",
     "state": {
      "_model_module": "@jupyter-widgets/controls",
      "_model_module_version": "1.5.0",
      "_model_name": "DescriptionStyleModel",
      "_view_count": null,
      "_view_module": "@jupyter-widgets/base",
      "_view_module_version": "1.2.0",
      "_view_name": "StyleView",
      "description_width": ""
     }
    }
   }
  }
 },
 "nbformat": 4,
 "nbformat_minor": 0
}
