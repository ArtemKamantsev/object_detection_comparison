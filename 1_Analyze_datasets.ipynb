{
 "cells": [
  {
   "cell_type": "code",
   "execution_count": 1,
   "metadata": {
    "collapsed": true,
    "ExecuteTime": {
     "end_time": "2024-01-23T19:56:36.813825Z",
     "start_time": "2024-01-23T19:56:36.332451Z"
    }
   },
   "outputs": [],
   "source": [
    "import json\n",
    "from glob import glob\n",
    "from os.path import split, splitext, join\n",
    "from shutil import copy\n",
    "\n",
    "import cv2 as cv\n",
    "import pandas as pd\n",
    "from tqdm import tqdm\n",
    "from utils import map_data_frame_from_json, map_data_frame_to_json"
   ]
  },
  {
   "cell_type": "code",
   "execution_count": 9,
   "outputs": [
    {
     "data": {
      "text/plain": "   Unnamed: 0                                           filename  width  \\\n0           0  284679715_jpg.rf.3a9046f136b511793d38233c9feb2...    640   \n1           1  284679715_jpg.rf.3a9046f136b511793d38233c9feb2...    640   \n2           2  284679715_jpg.rf.3a9046f136b511793d38233c9feb2...    640   \n3           3  284679715_jpg.rf.3a9046f136b511793d38233c9feb2...    640   \n4           4  207635979_jpg.rf.2781e90031c92657513837e9f36cf...    640   \n\n   height    size name                  bbox  area    area_p  \n0     640  409600   8S  [468, 376, 505, 422]  1702  0.004155  \n1     640  409600   7S  [427, 356, 458, 404]  1488  0.003633  \n2     640  409600   5S  [394, 351, 420, 397]  1196  0.002920  \n3     640  409600   5S  [259, 478, 285, 524]  1196  0.002920  \n4     640  409600   3S  [423, 265, 492, 316]  3519  0.008591  ",
      "text/html": "<div>\n<style scoped>\n    .dataframe tbody tr th:only-of-type {\n        vertical-align: middle;\n    }\n\n    .dataframe tbody tr th {\n        vertical-align: top;\n    }\n\n    .dataframe thead th {\n        text-align: right;\n    }\n</style>\n<table border=\"1\" class=\"dataframe\">\n  <thead>\n    <tr style=\"text-align: right;\">\n      <th></th>\n      <th>Unnamed: 0</th>\n      <th>filename</th>\n      <th>width</th>\n      <th>height</th>\n      <th>size</th>\n      <th>name</th>\n      <th>bbox</th>\n      <th>area</th>\n      <th>area_p</th>\n    </tr>\n  </thead>\n  <tbody>\n    <tr>\n      <th>0</th>\n      <td>0</td>\n      <td>284679715_jpg.rf.3a9046f136b511793d38233c9feb2...</td>\n      <td>640</td>\n      <td>640</td>\n      <td>409600</td>\n      <td>8S</td>\n      <td>[468, 376, 505, 422]</td>\n      <td>1702</td>\n      <td>0.004155</td>\n    </tr>\n    <tr>\n      <th>1</th>\n      <td>1</td>\n      <td>284679715_jpg.rf.3a9046f136b511793d38233c9feb2...</td>\n      <td>640</td>\n      <td>640</td>\n      <td>409600</td>\n      <td>7S</td>\n      <td>[427, 356, 458, 404]</td>\n      <td>1488</td>\n      <td>0.003633</td>\n    </tr>\n    <tr>\n      <th>2</th>\n      <td>2</td>\n      <td>284679715_jpg.rf.3a9046f136b511793d38233c9feb2...</td>\n      <td>640</td>\n      <td>640</td>\n      <td>409600</td>\n      <td>5S</td>\n      <td>[394, 351, 420, 397]</td>\n      <td>1196</td>\n      <td>0.002920</td>\n    </tr>\n    <tr>\n      <th>3</th>\n      <td>3</td>\n      <td>284679715_jpg.rf.3a9046f136b511793d38233c9feb2...</td>\n      <td>640</td>\n      <td>640</td>\n      <td>409600</td>\n      <td>5S</td>\n      <td>[259, 478, 285, 524]</td>\n      <td>1196</td>\n      <td>0.002920</td>\n    </tr>\n    <tr>\n      <th>4</th>\n      <td>4</td>\n      <td>207635979_jpg.rf.2781e90031c92657513837e9f36cf...</td>\n      <td>640</td>\n      <td>640</td>\n      <td>409600</td>\n      <td>3S</td>\n      <td>[423, 265, 492, 316]</td>\n      <td>3519</td>\n      <td>0.008591</td>\n    </tr>\n  </tbody>\n</table>\n</div>"
     },
     "execution_count": 9,
     "metadata": {},
     "output_type": "execute_result"
    }
   ],
   "source": [
    "df = pd.read_csv('../2_playing_cards/1_original_statistics.csv')\n",
    "df = map_data_frame_from_json(df, column_list=['bbox'])\n",
    "df.head()"
   ],
   "metadata": {
    "collapsed": false,
    "ExecuteTime": {
     "end_time": "2024-01-07T15:35:05.671875Z",
     "start_time": "2024-01-07T15:35:05.460314Z"
    }
   }
  },
  {
   "cell_type": "code",
   "execution_count": 10,
   "outputs": [
    {
     "name": "stdout",
     "output_type": "stream",
     "text": [
      "963/88829\n"
     ]
    }
   ],
   "source": [
    "def is_on_edge(row):\n",
    "    x0, y0, x1, y1 = row['bbox']\n",
    "    w, h = row['width'], row['height']\n",
    "    margin = min(w, h) * 0.01\n",
    "\n",
    "    return x0 < margin or y0 < margin or (w - x1) < margin or (h - y1) < margin\n",
    "\n",
    "df['is_on_edge'] = df.apply(is_on_edge, axis=1)\n",
    "print(f'{df[\"is_on_edge\"].sum()}/{len(df)}')"
   ],
   "metadata": {
    "collapsed": false,
    "ExecuteTime": {
     "end_time": "2024-01-07T15:35:11.485355Z",
     "start_time": "2024-01-07T15:35:11.060736Z"
    }
   }
  },
  {
   "cell_type": "code",
   "execution_count": 11,
   "outputs": [
    {
     "data": {
      "text/plain": "(21250, 22213)"
     },
     "execution_count": 11,
     "metadata": {},
     "output_type": "execute_result"
    }
   ],
   "source": [
    "df_groups = df.groupby(by=['filename'])\n",
    "df_groups_filtered = [df_group for _, df_group in df_groups if not any(df_group['is_on_edge'])]\n",
    "len(df_groups_filtered), len(df_groups)"
   ],
   "metadata": {
    "collapsed": false,
    "ExecuteTime": {
     "end_time": "2024-01-07T15:35:23.875756Z",
     "start_time": "2024-01-07T15:35:21.855693Z"
    }
   }
  },
  {
   "cell_type": "code",
   "execution_count": 12,
   "outputs": [
    {
     "data": {
      "text/plain": "84977"
     },
     "execution_count": 12,
     "metadata": {},
     "output_type": "execute_result"
    }
   ],
   "source": [
    "df = pd.concat(df_groups_filtered, axis=0, ignore_index=True)\n",
    "len(df)"
   ],
   "metadata": {
    "collapsed": false,
    "ExecuteTime": {
     "end_time": "2024-01-07T15:35:27.290306Z",
     "start_time": "2024-01-07T15:35:25.923034Z"
    }
   }
  },
  {
   "cell_type": "code",
   "execution_count": 13,
   "outputs": [
    {
     "data": {
      "text/plain": "   name  items_u  items  area min  area max  area_p min  area_p max\n0    4D     1307   1776       774      3894    0.001890    0.009507\n1    QS     1294   1763       756      4284    0.001846    0.010459\n2    4H     1284   1753       798      3685    0.001948    0.008997\n3    5C     1275   1765       798      4692    0.001948    0.011455\n4    QC     1273   1688       860      4410    0.002100    0.010767\n5    7S     1268   1709       798      4970    0.001948    0.012134\n6    JC     1263   1722       798      4200    0.001948    0.010254\n7    9D     1262   1713       714      4160    0.001743    0.010156\n8    QH     1257   1680       798      5183    0.001948    0.012654\n9    3C     1250   1689       840      5256    0.002051    0.012832\n10   5D     1246   1693       774      4620    0.001890    0.011279\n11   KH     1244   1653       798      4485    0.001948    0.010950\n12   4C     1241   1746       798      4160    0.001948    0.010156\n13   KS     1236   1706       792      5913    0.001934    0.014436\n14   AD     1234   1693       798      3894    0.001948    0.009507\n15  10S     1234   1676       798      4828    0.001948    0.011787\n16   AC     1232   1652       860      4288    0.002100    0.010469\n17   KD     1229   1675       840      4672    0.002051    0.011406\n18   7H     1226   1670       840      4875    0.002051    0.011902\n19  10C     1224   1616       774      4899    0.001890    0.011960\n20   AS     1217   1682       798      4095    0.001948    0.009998\n21   8S     1217   1571       774      4624    0.001890    0.011289\n22   8D     1215   1656       792      4200    0.001934    0.010254\n23   8H     1213   1636       836      4148    0.002041    0.010127\n24  10H     1212   1665       756      4526    0.001846    0.011050\n25   6S     1209   1669       756      4355    0.001846    0.010632\n26   2C     1208   1606       798      4623    0.001948    0.011287\n27   KC     1208   1616      1058      5934    0.002583    0.014487\n28   6H     1204   1581       798      3944    0.001948    0.009629\n29   QD     1204   1706       836      4290    0.002041    0.010474\n30   5S     1199   1679       756      4690    0.001846    0.011450\n31   7C     1192   1613       860      5037    0.002100    0.012297\n32   2S     1189   1606       774      4422    0.001890    0.010796\n33   6D     1188   1613       774      4092    0.001890    0.009990\n34   9H     1182   1618       798      4026    0.001948    0.009829\n35   JS     1179   1613       714      3968    0.001743    0.009687\n36   3S     1177   1627       798      4875    0.001948    0.011902\n37   AH     1169   1573       840      3904    0.002051    0.009531\n38   4S     1167   1549       756      4020    0.001846    0.009814\n39   6C     1165   1526       860      4623    0.002100    0.011287\n40   8C     1163   1580       836      4623    0.002041    0.011287\n41   7D     1159   1582       756      4550    0.001846    0.011108\n42   9C     1158   1559       774      4422    0.001890    0.010796\n43  10D     1150   1570       840      4500    0.002051    0.010986\n44   2D     1146   1589       774      4288    0.001890    0.010469\n45   9S     1139   1537       774      4290    0.001890    0.010474\n46   3H     1126   1562       836      4680    0.002041    0.011426\n47   3D     1123   1522       817      4686    0.001995    0.011440\n48   JH     1115   1514       756      3740    0.001846    0.009131\n49   5H     1113   1499       756      4392    0.001846    0.010723\n50   2H     1092   1539       798      4154    0.001948    0.010142\n51   JD     1092   1481       756      3968    0.001846    0.009687",
      "text/html": "<div>\n<style scoped>\n    .dataframe tbody tr th:only-of-type {\n        vertical-align: middle;\n    }\n\n    .dataframe tbody tr th {\n        vertical-align: top;\n    }\n\n    .dataframe thead th {\n        text-align: right;\n    }\n</style>\n<table border=\"1\" class=\"dataframe\">\n  <thead>\n    <tr style=\"text-align: right;\">\n      <th></th>\n      <th>name</th>\n      <th>items_u</th>\n      <th>items</th>\n      <th>area min</th>\n      <th>area max</th>\n      <th>area_p min</th>\n      <th>area_p max</th>\n    </tr>\n  </thead>\n  <tbody>\n    <tr>\n      <th>0</th>\n      <td>4D</td>\n      <td>1307</td>\n      <td>1776</td>\n      <td>774</td>\n      <td>3894</td>\n      <td>0.001890</td>\n      <td>0.009507</td>\n    </tr>\n    <tr>\n      <th>1</th>\n      <td>QS</td>\n      <td>1294</td>\n      <td>1763</td>\n      <td>756</td>\n      <td>4284</td>\n      <td>0.001846</td>\n      <td>0.010459</td>\n    </tr>\n    <tr>\n      <th>2</th>\n      <td>4H</td>\n      <td>1284</td>\n      <td>1753</td>\n      <td>798</td>\n      <td>3685</td>\n      <td>0.001948</td>\n      <td>0.008997</td>\n    </tr>\n    <tr>\n      <th>3</th>\n      <td>5C</td>\n      <td>1275</td>\n      <td>1765</td>\n      <td>798</td>\n      <td>4692</td>\n      <td>0.001948</td>\n      <td>0.011455</td>\n    </tr>\n    <tr>\n      <th>4</th>\n      <td>QC</td>\n      <td>1273</td>\n      <td>1688</td>\n      <td>860</td>\n      <td>4410</td>\n      <td>0.002100</td>\n      <td>0.010767</td>\n    </tr>\n    <tr>\n      <th>5</th>\n      <td>7S</td>\n      <td>1268</td>\n      <td>1709</td>\n      <td>798</td>\n      <td>4970</td>\n      <td>0.001948</td>\n      <td>0.012134</td>\n    </tr>\n    <tr>\n      <th>6</th>\n      <td>JC</td>\n      <td>1263</td>\n      <td>1722</td>\n      <td>798</td>\n      <td>4200</td>\n      <td>0.001948</td>\n      <td>0.010254</td>\n    </tr>\n    <tr>\n      <th>7</th>\n      <td>9D</td>\n      <td>1262</td>\n      <td>1713</td>\n      <td>714</td>\n      <td>4160</td>\n      <td>0.001743</td>\n      <td>0.010156</td>\n    </tr>\n    <tr>\n      <th>8</th>\n      <td>QH</td>\n      <td>1257</td>\n      <td>1680</td>\n      <td>798</td>\n      <td>5183</td>\n      <td>0.001948</td>\n      <td>0.012654</td>\n    </tr>\n    <tr>\n      <th>9</th>\n      <td>3C</td>\n      <td>1250</td>\n      <td>1689</td>\n      <td>840</td>\n      <td>5256</td>\n      <td>0.002051</td>\n      <td>0.012832</td>\n    </tr>\n    <tr>\n      <th>10</th>\n      <td>5D</td>\n      <td>1246</td>\n      <td>1693</td>\n      <td>774</td>\n      <td>4620</td>\n      <td>0.001890</td>\n      <td>0.011279</td>\n    </tr>\n    <tr>\n      <th>11</th>\n      <td>KH</td>\n      <td>1244</td>\n      <td>1653</td>\n      <td>798</td>\n      <td>4485</td>\n      <td>0.001948</td>\n      <td>0.010950</td>\n    </tr>\n    <tr>\n      <th>12</th>\n      <td>4C</td>\n      <td>1241</td>\n      <td>1746</td>\n      <td>798</td>\n      <td>4160</td>\n      <td>0.001948</td>\n      <td>0.010156</td>\n    </tr>\n    <tr>\n      <th>13</th>\n      <td>KS</td>\n      <td>1236</td>\n      <td>1706</td>\n      <td>792</td>\n      <td>5913</td>\n      <td>0.001934</td>\n      <td>0.014436</td>\n    </tr>\n    <tr>\n      <th>14</th>\n      <td>AD</td>\n      <td>1234</td>\n      <td>1693</td>\n      <td>798</td>\n      <td>3894</td>\n      <td>0.001948</td>\n      <td>0.009507</td>\n    </tr>\n    <tr>\n      <th>15</th>\n      <td>10S</td>\n      <td>1234</td>\n      <td>1676</td>\n      <td>798</td>\n      <td>4828</td>\n      <td>0.001948</td>\n      <td>0.011787</td>\n    </tr>\n    <tr>\n      <th>16</th>\n      <td>AC</td>\n      <td>1232</td>\n      <td>1652</td>\n      <td>860</td>\n      <td>4288</td>\n      <td>0.002100</td>\n      <td>0.010469</td>\n    </tr>\n    <tr>\n      <th>17</th>\n      <td>KD</td>\n      <td>1229</td>\n      <td>1675</td>\n      <td>840</td>\n      <td>4672</td>\n      <td>0.002051</td>\n      <td>0.011406</td>\n    </tr>\n    <tr>\n      <th>18</th>\n      <td>7H</td>\n      <td>1226</td>\n      <td>1670</td>\n      <td>840</td>\n      <td>4875</td>\n      <td>0.002051</td>\n      <td>0.011902</td>\n    </tr>\n    <tr>\n      <th>19</th>\n      <td>10C</td>\n      <td>1224</td>\n      <td>1616</td>\n      <td>774</td>\n      <td>4899</td>\n      <td>0.001890</td>\n      <td>0.011960</td>\n    </tr>\n    <tr>\n      <th>20</th>\n      <td>AS</td>\n      <td>1217</td>\n      <td>1682</td>\n      <td>798</td>\n      <td>4095</td>\n      <td>0.001948</td>\n      <td>0.009998</td>\n    </tr>\n    <tr>\n      <th>21</th>\n      <td>8S</td>\n      <td>1217</td>\n      <td>1571</td>\n      <td>774</td>\n      <td>4624</td>\n      <td>0.001890</td>\n      <td>0.011289</td>\n    </tr>\n    <tr>\n      <th>22</th>\n      <td>8D</td>\n      <td>1215</td>\n      <td>1656</td>\n      <td>792</td>\n      <td>4200</td>\n      <td>0.001934</td>\n      <td>0.010254</td>\n    </tr>\n    <tr>\n      <th>23</th>\n      <td>8H</td>\n      <td>1213</td>\n      <td>1636</td>\n      <td>836</td>\n      <td>4148</td>\n      <td>0.002041</td>\n      <td>0.010127</td>\n    </tr>\n    <tr>\n      <th>24</th>\n      <td>10H</td>\n      <td>1212</td>\n      <td>1665</td>\n      <td>756</td>\n      <td>4526</td>\n      <td>0.001846</td>\n      <td>0.011050</td>\n    </tr>\n    <tr>\n      <th>25</th>\n      <td>6S</td>\n      <td>1209</td>\n      <td>1669</td>\n      <td>756</td>\n      <td>4355</td>\n      <td>0.001846</td>\n      <td>0.010632</td>\n    </tr>\n    <tr>\n      <th>26</th>\n      <td>2C</td>\n      <td>1208</td>\n      <td>1606</td>\n      <td>798</td>\n      <td>4623</td>\n      <td>0.001948</td>\n      <td>0.011287</td>\n    </tr>\n    <tr>\n      <th>27</th>\n      <td>KC</td>\n      <td>1208</td>\n      <td>1616</td>\n      <td>1058</td>\n      <td>5934</td>\n      <td>0.002583</td>\n      <td>0.014487</td>\n    </tr>\n    <tr>\n      <th>28</th>\n      <td>6H</td>\n      <td>1204</td>\n      <td>1581</td>\n      <td>798</td>\n      <td>3944</td>\n      <td>0.001948</td>\n      <td>0.009629</td>\n    </tr>\n    <tr>\n      <th>29</th>\n      <td>QD</td>\n      <td>1204</td>\n      <td>1706</td>\n      <td>836</td>\n      <td>4290</td>\n      <td>0.002041</td>\n      <td>0.010474</td>\n    </tr>\n    <tr>\n      <th>30</th>\n      <td>5S</td>\n      <td>1199</td>\n      <td>1679</td>\n      <td>756</td>\n      <td>4690</td>\n      <td>0.001846</td>\n      <td>0.011450</td>\n    </tr>\n    <tr>\n      <th>31</th>\n      <td>7C</td>\n      <td>1192</td>\n      <td>1613</td>\n      <td>860</td>\n      <td>5037</td>\n      <td>0.002100</td>\n      <td>0.012297</td>\n    </tr>\n    <tr>\n      <th>32</th>\n      <td>2S</td>\n      <td>1189</td>\n      <td>1606</td>\n      <td>774</td>\n      <td>4422</td>\n      <td>0.001890</td>\n      <td>0.010796</td>\n    </tr>\n    <tr>\n      <th>33</th>\n      <td>6D</td>\n      <td>1188</td>\n      <td>1613</td>\n      <td>774</td>\n      <td>4092</td>\n      <td>0.001890</td>\n      <td>0.009990</td>\n    </tr>\n    <tr>\n      <th>34</th>\n      <td>9H</td>\n      <td>1182</td>\n      <td>1618</td>\n      <td>798</td>\n      <td>4026</td>\n      <td>0.001948</td>\n      <td>0.009829</td>\n    </tr>\n    <tr>\n      <th>35</th>\n      <td>JS</td>\n      <td>1179</td>\n      <td>1613</td>\n      <td>714</td>\n      <td>3968</td>\n      <td>0.001743</td>\n      <td>0.009687</td>\n    </tr>\n    <tr>\n      <th>36</th>\n      <td>3S</td>\n      <td>1177</td>\n      <td>1627</td>\n      <td>798</td>\n      <td>4875</td>\n      <td>0.001948</td>\n      <td>0.011902</td>\n    </tr>\n    <tr>\n      <th>37</th>\n      <td>AH</td>\n      <td>1169</td>\n      <td>1573</td>\n      <td>840</td>\n      <td>3904</td>\n      <td>0.002051</td>\n      <td>0.009531</td>\n    </tr>\n    <tr>\n      <th>38</th>\n      <td>4S</td>\n      <td>1167</td>\n      <td>1549</td>\n      <td>756</td>\n      <td>4020</td>\n      <td>0.001846</td>\n      <td>0.009814</td>\n    </tr>\n    <tr>\n      <th>39</th>\n      <td>6C</td>\n      <td>1165</td>\n      <td>1526</td>\n      <td>860</td>\n      <td>4623</td>\n      <td>0.002100</td>\n      <td>0.011287</td>\n    </tr>\n    <tr>\n      <th>40</th>\n      <td>8C</td>\n      <td>1163</td>\n      <td>1580</td>\n      <td>836</td>\n      <td>4623</td>\n      <td>0.002041</td>\n      <td>0.011287</td>\n    </tr>\n    <tr>\n      <th>41</th>\n      <td>7D</td>\n      <td>1159</td>\n      <td>1582</td>\n      <td>756</td>\n      <td>4550</td>\n      <td>0.001846</td>\n      <td>0.011108</td>\n    </tr>\n    <tr>\n      <th>42</th>\n      <td>9C</td>\n      <td>1158</td>\n      <td>1559</td>\n      <td>774</td>\n      <td>4422</td>\n      <td>0.001890</td>\n      <td>0.010796</td>\n    </tr>\n    <tr>\n      <th>43</th>\n      <td>10D</td>\n      <td>1150</td>\n      <td>1570</td>\n      <td>840</td>\n      <td>4500</td>\n      <td>0.002051</td>\n      <td>0.010986</td>\n    </tr>\n    <tr>\n      <th>44</th>\n      <td>2D</td>\n      <td>1146</td>\n      <td>1589</td>\n      <td>774</td>\n      <td>4288</td>\n      <td>0.001890</td>\n      <td>0.010469</td>\n    </tr>\n    <tr>\n      <th>45</th>\n      <td>9S</td>\n      <td>1139</td>\n      <td>1537</td>\n      <td>774</td>\n      <td>4290</td>\n      <td>0.001890</td>\n      <td>0.010474</td>\n    </tr>\n    <tr>\n      <th>46</th>\n      <td>3H</td>\n      <td>1126</td>\n      <td>1562</td>\n      <td>836</td>\n      <td>4680</td>\n      <td>0.002041</td>\n      <td>0.011426</td>\n    </tr>\n    <tr>\n      <th>47</th>\n      <td>3D</td>\n      <td>1123</td>\n      <td>1522</td>\n      <td>817</td>\n      <td>4686</td>\n      <td>0.001995</td>\n      <td>0.011440</td>\n    </tr>\n    <tr>\n      <th>48</th>\n      <td>JH</td>\n      <td>1115</td>\n      <td>1514</td>\n      <td>756</td>\n      <td>3740</td>\n      <td>0.001846</td>\n      <td>0.009131</td>\n    </tr>\n    <tr>\n      <th>49</th>\n      <td>5H</td>\n      <td>1113</td>\n      <td>1499</td>\n      <td>756</td>\n      <td>4392</td>\n      <td>0.001846</td>\n      <td>0.010723</td>\n    </tr>\n    <tr>\n      <th>50</th>\n      <td>2H</td>\n      <td>1092</td>\n      <td>1539</td>\n      <td>798</td>\n      <td>4154</td>\n      <td>0.001948</td>\n      <td>0.010142</td>\n    </tr>\n    <tr>\n      <th>51</th>\n      <td>JD</td>\n      <td>1092</td>\n      <td>1481</td>\n      <td>756</td>\n      <td>3968</td>\n      <td>0.001846</td>\n      <td>0.009687</td>\n    </tr>\n  </tbody>\n</table>\n</div>"
     },
     "execution_count": 13,
     "metadata": {},
     "output_type": "execute_result"
    }
   ],
   "source": [
    "groups = df.groupby(by='name')\n",
    "stat = []\n",
    "for name, g in groups:\n",
    "    stat.append(\n",
    "        (name,\n",
    "         g['filename'].nunique(),\n",
    "         len(g),\n",
    "         g['area'].min(),\n",
    "         g['area'].max(),\n",
    "         g['area_p'].min(),\n",
    "         g['area_p'].max(),)\n",
    "    )\n",
    "df_stat = pd.DataFrame(stat, columns=['name','items_u', 'items', 'area min', 'area max', 'area_p min', 'area_p max'])\n",
    "df_stat = df_stat.sort_values(by='items_u', ignore_index=True, ascending=False)\n",
    "df_stat"
   ],
   "metadata": {
    "collapsed": false,
    "ExecuteTime": {
     "end_time": "2024-01-07T15:35:47.055272Z",
     "start_time": "2024-01-07T15:35:47.006353Z"
    }
   }
  },
  {
   "cell_type": "code",
   "execution_count": 15,
   "outputs": [
    {
     "name": "stdout",
     "output_type": "stream",
     "text": [
      "21\n",
      "1500 1521\n",
      "221 [2 3 4]\n"
     ]
    }
   ],
   "source": [
    "key = 'area'\n",
    "# group_sorted = df[df['name'] == '4D'].sort_values(by=key, ascending=True)\n",
    "group_sorted = df.sort_values(by=key, ascending=True)\n",
    "# group_sorted = group_sorted[group_sorted['area_p'] > 0.1]\n",
    "# group_sorted = group_sorted[group_sorted['area'] > 1500]\n",
    "group_size = 2000\n",
    "min_diff = 100000\n",
    "min_idx = -1\n",
    "for start_idx in range(len(group_sorted) - group_size):\n",
    "    diff = group_sorted.iloc[start_idx + group_size][key] - group_sorted.iloc[start_idx][key]\n",
    "    if diff < min_diff:\n",
    "        min_idx = start_idx\n",
    "        min_diff = diff\n",
    "\n",
    "print(min_diff)\n",
    "print(group_sorted.iloc[min_idx][key], group_sorted.iloc[min_idx + group_size][key])\n",
    "size_list = group_sorted.iloc[min_idx: min_idx+group_size].groupby(by='filename').size()\n",
    "print((size_list != 1).sum(), size_list[size_list != 1].unique())"
   ],
   "metadata": {
    "collapsed": false,
    "ExecuteTime": {
     "end_time": "2024-01-07T15:36:38.708876Z",
     "start_time": "2024-01-07T15:36:35.846686Z"
    }
   }
  },
  {
   "cell_type": "code",
   "execution_count": 22,
   "outputs": [
    {
     "name": "stderr",
     "output_type": "stream",
     "text": [
      "100%|██████████| 100/100 [00:02<00:00, 34.93it/s]\n"
     ]
    }
   ],
   "source": [
    "destination_dir = '../Playing Cards.v4-fastmodel-resized640-aug3x.yolov8/out'\n",
    "for filename in tqdm(group_sorted.iloc[min_idx: min_idx+100]['filename']):\n",
    "    file_path = glob(f'../Playing Cards.v4-fastmodel-resized640-aug3x.yolov8/**/images/{filename}', recursive=True)[0]\n",
    "    copy(file_path, destination_dir)"
   ],
   "metadata": {
    "collapsed": false,
    "ExecuteTime": {
     "end_time": "2024-01-05T19:21:30.461818Z",
     "start_time": "2024-01-05T19:21:27.596703Z"
    }
   }
  },
  {
   "cell_type": "markdown",
   "source": [
    "# Hard hats"
   ],
   "metadata": {
    "collapsed": false
   }
  },
  {
   "cell_type": "code",
   "execution_count": 2,
   "outputs": [
    {
     "name": "stderr",
     "output_type": "stream",
     "text": [
      "100%|██████████| 100/100 [00:00<00:00, 445.16it/s]\n"
     ]
    }
   ],
   "source": [
    "label_path_base = '../1_helmet/labels'\n",
    "output_folder_path = '../1_helmet/out'\n",
    "name_list = ['head', 'helmet', 'person']\n",
    "data_list = []\n",
    "for img_path in tqdm(glob('../1_helmet/images/*')[:100]):\n",
    "    img = cv.imread(img_path)\n",
    "    h, w = img.shape[:2]\n",
    "    img_name = split(img_path)[1]\n",
    "    img_name_base = splitext(img_name)[0]\n",
    "    label_path = join(label_path_base, f'{img_name_base}.txt')\n",
    "    with open(label_path) as f:\n",
    "        label_lines = f.readlines()\n",
    "\n",
    "    label_lines_splitted = [l.split() for l in label_lines]\n",
    "    label_lines_splitted = [line for line in label_lines_splitted if line[0] == '1']\n",
    "    class_list = [name_list[int(line[0])] for line in label_lines_splitted]\n",
    "    bbox_list = [[float(coord) for coord in line_splitted[1:]] for line_splitted in label_lines_splitted if line_splitted[0] == '1']\n",
    "\n",
    "    for class_name, bbox in zip(class_list, bbox_list):\n",
    "        x, y, width, height = bbox\n",
    "        width, height = width * w, height * h\n",
    "        x, y = x * w, y * h\n",
    "        x0, y0 = int(x - width / 2), int(y - height / 2)\n",
    "        x1, y1 = int(x + width / 2), int(y + height / 2)\n",
    "\n",
    "        data_list.append((\n",
    "            img_name,\n",
    "            w,\n",
    "            h,\n",
    "            w*h,\n",
    "            class_name,\n",
    "            (int(x0), int(y0), int(x1), int(y1)),\n",
    "            (x1 - x0) * (y1 - y0),\n",
    "            round((x1 - x0) * (y1 - y0) / (w * h), 6),\n",
    "        ))\n",
    "\n",
    "        cv.rectangle(img, (x0, y0), (x1, y1), [0, 0, 255], 2)\n",
    "\n",
    "    if len(bbox_list) > 0:\n",
    "        cv.imwrite(join(output_folder_path, img_name), img)"
   ],
   "metadata": {
    "collapsed": false,
    "ExecuteTime": {
     "end_time": "2024-01-23T19:57:38.413152Z",
     "start_time": "2024-01-23T19:57:38.154455Z"
    }
   }
  },
  {
   "cell_type": "code",
   "execution_count": 34,
   "outputs": [
    {
     "data": {
      "text/plain": "                                            filename  width  height    size  \\\n0  001396_jpg.rf.215f6ba3dd727dfb58d53fba61410963...    500     333  166500   \n1  001396_jpg.rf.215f6ba3dd727dfb58d53fba61410963...    500     333  166500   \n2  001396_jpg.rf.215f6ba3dd727dfb58d53fba61410963...    500     333  166500   \n3  001396_jpg.rf.215f6ba3dd727dfb58d53fba61410963...    500     333  166500   \n4  001396_jpg.rf.215f6ba3dd727dfb58d53fba61410963...    500     333  166500   \n\n     name                  bbox  area    area_p  \n0  helmet  (361, 116, 401, 161)  1800  0.010811  \n1  helmet   (71, 122, 106, 164)  1470  0.008829  \n2  helmet  (150, 126, 183, 165)  1287  0.007730  \n3  helmet  (280, 116, 315, 157)  1435  0.008619  \n4  helmet  (230, 128, 259, 161)   957  0.005748  ",
      "text/html": "<div>\n<style scoped>\n    .dataframe tbody tr th:only-of-type {\n        vertical-align: middle;\n    }\n\n    .dataframe tbody tr th {\n        vertical-align: top;\n    }\n\n    .dataframe thead th {\n        text-align: right;\n    }\n</style>\n<table border=\"1\" class=\"dataframe\">\n  <thead>\n    <tr style=\"text-align: right;\">\n      <th></th>\n      <th>filename</th>\n      <th>width</th>\n      <th>height</th>\n      <th>size</th>\n      <th>name</th>\n      <th>bbox</th>\n      <th>area</th>\n      <th>area_p</th>\n    </tr>\n  </thead>\n  <tbody>\n    <tr>\n      <th>0</th>\n      <td>001396_jpg.rf.215f6ba3dd727dfb58d53fba61410963...</td>\n      <td>500</td>\n      <td>333</td>\n      <td>166500</td>\n      <td>helmet</td>\n      <td>(361, 116, 401, 161)</td>\n      <td>1800</td>\n      <td>0.010811</td>\n    </tr>\n    <tr>\n      <th>1</th>\n      <td>001396_jpg.rf.215f6ba3dd727dfb58d53fba61410963...</td>\n      <td>500</td>\n      <td>333</td>\n      <td>166500</td>\n      <td>helmet</td>\n      <td>(71, 122, 106, 164)</td>\n      <td>1470</td>\n      <td>0.008829</td>\n    </tr>\n    <tr>\n      <th>2</th>\n      <td>001396_jpg.rf.215f6ba3dd727dfb58d53fba61410963...</td>\n      <td>500</td>\n      <td>333</td>\n      <td>166500</td>\n      <td>helmet</td>\n      <td>(150, 126, 183, 165)</td>\n      <td>1287</td>\n      <td>0.007730</td>\n    </tr>\n    <tr>\n      <th>3</th>\n      <td>001396_jpg.rf.215f6ba3dd727dfb58d53fba61410963...</td>\n      <td>500</td>\n      <td>333</td>\n      <td>166500</td>\n      <td>helmet</td>\n      <td>(280, 116, 315, 157)</td>\n      <td>1435</td>\n      <td>0.008619</td>\n    </tr>\n    <tr>\n      <th>4</th>\n      <td>001396_jpg.rf.215f6ba3dd727dfb58d53fba61410963...</td>\n      <td>500</td>\n      <td>333</td>\n      <td>166500</td>\n      <td>helmet</td>\n      <td>(230, 128, 259, 161)</td>\n      <td>957</td>\n      <td>0.005748</td>\n    </tr>\n  </tbody>\n</table>\n</div>"
     },
     "execution_count": 34,
     "metadata": {},
     "output_type": "execute_result"
    }
   ],
   "source": [
    "df = pd.DataFrame(data_list, columns=['filename', 'width', 'height', 'size', 'name', 'bbox', 'area', 'area_p'])\n",
    "df.head()"
   ],
   "metadata": {
    "collapsed": false,
    "ExecuteTime": {
     "end_time": "2024-01-06T08:01:04.304959Z",
     "start_time": "2024-01-06T08:01:04.294870Z"
    }
   }
  },
  {
   "cell_type": "code",
   "execution_count": 35,
   "outputs": [],
   "source": [
    "df_out = df.copy()\n",
    "df_out = map_data_frame_to_json(df_out, column_list=['bbox'])"
   ],
   "metadata": {
    "collapsed": false,
    "ExecuteTime": {
     "end_time": "2024-01-06T08:01:04.369866Z",
     "start_time": "2024-01-06T08:01:04.302242Z"
    }
   }
  },
  {
   "cell_type": "code",
   "execution_count": 36,
   "outputs": [],
   "source": [
    "df_out.to_csv('../Hard Hat Workers.v2-raw_75-25_traintestsplit.yolov8/meta.csv')"
   ],
   "metadata": {
    "collapsed": false,
    "ExecuteTime": {
     "end_time": "2024-01-06T08:01:04.411878Z",
     "start_time": "2024-01-06T08:01:04.364197Z"
    }
   }
  },
  {
   "cell_type": "markdown",
   "source": [
    "# Pistoles"
   ],
   "metadata": {
    "collapsed": false
   }
  },
  {
   "cell_type": "code",
   "execution_count": 39,
   "outputs": [
    {
     "name": "stderr",
     "output_type": "stream",
     "text": [
      "100%|██████████| 2971/2971 [00:03<00:00, 978.76it/s]\n"
     ]
    }
   ],
   "source": [
    "label_path_base = '../Pistols.v1-resize-416x416.yolov8/export/labels'\n",
    "output_folder_path = '../Pistols.v1-resize-416x416.yolov8/export/out'\n",
    "data_list = []\n",
    "for img_path in tqdm(glob('../Pistols.v1-resize-416x416.yolov8/export/images/*')):\n",
    "    img = cv.imread(img_path)\n",
    "    h, w = img.shape[:2]\n",
    "    img_name = split(img_path)[1]\n",
    "    img_name_base = splitext(img_name)[0]\n",
    "    label_path = join(label_path_base, f'{img_name_base}.txt')\n",
    "    with open(label_path) as f:\n",
    "        label_lines = f.readlines()\n",
    "\n",
    "    label_lines_splitted = [l.split() for l in label_lines]\n",
    "    hard_hat_bboxes = [[float(coord) for coord in line_splitted[1:]] for line_splitted in label_lines_splitted]\n",
    "\n",
    "    for bbox in hard_hat_bboxes:\n",
    "        x, y, width, height = bbox\n",
    "        width, height = width * w, height * h\n",
    "        x, y = x * w, y * h\n",
    "        x0, y0 = int(x - width / 2), int(y - height / 2)\n",
    "        x1, y1 = int(x + width / 2), int(y + height / 2)\n",
    "\n",
    "        data_list.append((\n",
    "            img_name,\n",
    "            w,\n",
    "            h,\n",
    "            w*h,\n",
    "            'pistole',\n",
    "            (int(x0), int(y0), int(x1), int(y1)),\n",
    "            (x1 - x0) * (y1 - y0),\n",
    "            round((x1 - x0) * (y1 - y0) / (w * h), 2),\n",
    "        ))\n",
    "\n",
    "        cv.rectangle(img, (x0, y0), (x1, y1), [0, 0, 255], 2)\n",
    "    if len(hard_hat_bboxes) > 0:\n",
    "        cv.imwrite(join(output_folder_path, img_name), img)"
   ],
   "metadata": {
    "collapsed": false,
    "ExecuteTime": {
     "end_time": "2024-01-03T22:08:33.937840Z",
     "start_time": "2024-01-03T22:08:30.894876Z"
    }
   }
  },
  {
   "cell_type": "code",
   "execution_count": 40,
   "outputs": [
    {
     "data": {
      "text/plain": "                                            filename  width  height    size  \\\n0  armas (1737)_jpg.rf.3ec531d9667acc4d2dd18f0e42...    416     416  173056   \n1  armas (2860)_jpg.rf.c363cecf4e6d456a23dd2ffb35...    416     416  173056   \n2  armas (2065)_jpg.rf.fc313cf05a248176dca96eafac...    416     416  173056   \n3  armas (2047)_jpg.rf.d7760b5478ecabd0d3ce975579...    416     416  173056   \n4  armas (2593)_jpg.rf.ed32f57b78f1c80435e231a80b...    416     416  173056   \n\n      name                  bbox    area  area_p  \n0  pistole    (29, 28, 403, 260)   86768    0.50  \n1  pistole  (180, 170, 225, 317)    6615    0.04  \n2  pistole    (38, 99, 138, 151)    5200    0.03  \n3  pistole    (17, 13, 391, 297)  106216    0.61  \n4  pistole     (20, 3, 400, 409)  154280    0.89  ",
      "text/html": "<div>\n<style scoped>\n    .dataframe tbody tr th:only-of-type {\n        vertical-align: middle;\n    }\n\n    .dataframe tbody tr th {\n        vertical-align: top;\n    }\n\n    .dataframe thead th {\n        text-align: right;\n    }\n</style>\n<table border=\"1\" class=\"dataframe\">\n  <thead>\n    <tr style=\"text-align: right;\">\n      <th></th>\n      <th>filename</th>\n      <th>width</th>\n      <th>height</th>\n      <th>size</th>\n      <th>name</th>\n      <th>bbox</th>\n      <th>area</th>\n      <th>area_p</th>\n    </tr>\n  </thead>\n  <tbody>\n    <tr>\n      <th>0</th>\n      <td>armas (1737)_jpg.rf.3ec531d9667acc4d2dd18f0e42...</td>\n      <td>416</td>\n      <td>416</td>\n      <td>173056</td>\n      <td>pistole</td>\n      <td>(29, 28, 403, 260)</td>\n      <td>86768</td>\n      <td>0.50</td>\n    </tr>\n    <tr>\n      <th>1</th>\n      <td>armas (2860)_jpg.rf.c363cecf4e6d456a23dd2ffb35...</td>\n      <td>416</td>\n      <td>416</td>\n      <td>173056</td>\n      <td>pistole</td>\n      <td>(180, 170, 225, 317)</td>\n      <td>6615</td>\n      <td>0.04</td>\n    </tr>\n    <tr>\n      <th>2</th>\n      <td>armas (2065)_jpg.rf.fc313cf05a248176dca96eafac...</td>\n      <td>416</td>\n      <td>416</td>\n      <td>173056</td>\n      <td>pistole</td>\n      <td>(38, 99, 138, 151)</td>\n      <td>5200</td>\n      <td>0.03</td>\n    </tr>\n    <tr>\n      <th>3</th>\n      <td>armas (2047)_jpg.rf.d7760b5478ecabd0d3ce975579...</td>\n      <td>416</td>\n      <td>416</td>\n      <td>173056</td>\n      <td>pistole</td>\n      <td>(17, 13, 391, 297)</td>\n      <td>106216</td>\n      <td>0.61</td>\n    </tr>\n    <tr>\n      <th>4</th>\n      <td>armas (2593)_jpg.rf.ed32f57b78f1c80435e231a80b...</td>\n      <td>416</td>\n      <td>416</td>\n      <td>173056</td>\n      <td>pistole</td>\n      <td>(20, 3, 400, 409)</td>\n      <td>154280</td>\n      <td>0.89</td>\n    </tr>\n  </tbody>\n</table>\n</div>"
     },
     "execution_count": 40,
     "metadata": {},
     "output_type": "execute_result"
    }
   ],
   "source": [
    "df = pd.DataFrame(data_list, columns=['filename', 'width', 'height', 'size', 'name', 'bbox', 'area', 'area_p'])\n",
    "df.head()"
   ],
   "metadata": {
    "collapsed": false,
    "ExecuteTime": {
     "end_time": "2024-01-03T22:08:43.722980Z",
     "start_time": "2024-01-03T22:08:43.706631Z"
    }
   }
  },
  {
   "cell_type": "code",
   "execution_count": 41,
   "outputs": [],
   "source": [
    "df_out = df.copy()\n",
    "df_out = map_data_frame_to_json(df_out, column_list=['bbox'])"
   ],
   "metadata": {
    "collapsed": false,
    "ExecuteTime": {
     "end_time": "2024-01-03T22:08:49.755039Z",
     "start_time": "2024-01-03T22:08:49.741994Z"
    }
   }
  },
  {
   "cell_type": "code",
   "execution_count": 42,
   "outputs": [],
   "source": [
    "df_out.to_csv('../Pistols.v1-resize-416x416.yolov8/meta.csv')"
   ],
   "metadata": {
    "collapsed": false,
    "ExecuteTime": {
     "end_time": "2024-01-03T22:09:20.530063Z",
     "start_time": "2024-01-03T22:09:20.510311Z"
    }
   }
  },
  {
   "cell_type": "markdown",
   "source": [
    "# bdd100k"
   ],
   "metadata": {
    "collapsed": false
   }
  },
  {
   "cell_type": "code",
   "execution_count": 6,
   "outputs": [],
   "source": [
    "with open('../3_bdd100k/det_train.json') as f:\n",
    "    json_train = json.load(f)\n",
    "\n",
    "with open('../3_bdd100k/det_val.json') as f:\n",
    "    json_val = json.load(f)\n",
    "\n",
    "json_dataset = json_train + json_val"
   ],
   "metadata": {
    "collapsed": false,
    "ExecuteTime": {
     "end_time": "2024-01-23T20:25:58.483627Z",
     "start_time": "2024-01-23T20:25:54.447274Z"
    }
   }
  },
  {
   "cell_type": "code",
   "execution_count": null,
   "outputs": [],
   "source": [
    "image_base_path_train = '../3_bdd100k/images/'\n",
    "output_path_base = '../3_bdd100k/out'\n",
    "data_list = []\n",
    "for idx, sample in tqdm(enumerate(json_dataset[:100])):\n",
    "    if 'labels' not in sample:\n",
    "        continue\n",
    "\n",
    "    filename = sample['name']\n",
    "    file_path = join(image_base_path_train, filename)\n",
    "    img = cv.imread(file_path)\n",
    "    h, w = img.shape[:2]\n",
    "    attributes = sample['attributes']\n",
    "    weather = attributes['weather']\n",
    "    timeofday = attributes['timeofday']\n",
    "    scene = attributes['scene']\n",
    "    to_save = False\n",
    "    for label in sample['labels']:\n",
    "        attr = label['attributes']\n",
    "        occluded = attr['occluded']\n",
    "        truncated = attr['truncated']\n",
    "        traffic_light_color = attr['trafficLightColor']\n",
    "        category = label['category']\n",
    "        bbox = label['box2d']\n",
    "        x0, y0, x1, y1 = bbox['x1'], bbox['y1'], bbox['x2'], bbox['y2'],\n",
    "        x0, y0, x1, y1 = int(x0), int(y0), int(x1), int(y1)\n",
    "\n",
    "        data_list.append((\n",
    "            filename,\n",
    "            w,\n",
    "            h,\n",
    "            w*h,\n",
    "            category,\n",
    "            (int(x0), int(y0), int(x1), int(y1)),\n",
    "            int((x1 - x0) * (y1 - y0)),\n",
    "            round((x1 - x0) * (y1 - y0) / (w * h), 2),\n",
    "            weather,\n",
    "            timeofday,\n",
    "            scene,\n",
    "            occluded,\n",
    "            truncated,\n",
    "            traffic_light_color,\n",
    "        ))\n",
    "\n",
    "    if to_save:\n",
    "        cv.imwrite(join(output_path_base, filename), img)"
   ],
   "metadata": {
    "collapsed": false
   }
  },
  {
   "cell_type": "code",
   "execution_count": 65,
   "outputs": [
    {
     "data": {
      "text/plain": "                filename  width  height    size           name  \\\n0  0000f77c-6257be58.jpg   1280     720  921600  traffic light   \n1  0000f77c-6257be58.jpg   1280     720  921600  traffic light   \n2  0000f77c-6257be58.jpg   1280     720  921600   traffic sign   \n3  0000f77c-6257be58.jpg   1280     720  921600   traffic sign   \n4  0000f77c-6257be58.jpg   1280     720  921600            car   \n\n                     bbox          area  area_p weather timeofday  \\\n0  (1125, 133, 1156, 210)   2414.353780    0.00   clear   daytime   \n1  (1156, 136, 1191, 210)   2563.388185    0.00   clear   daytime   \n2  (1105, 211, 1170, 233)   1461.583957    0.00   clear   daytime   \n3        (0, 0, 100, 122)  12304.688432    0.01   clear   daytime   \n4     (49, 254, 357, 487)  71964.026347    0.08   clear   daytime   \n\n         scene  occluded  truncated trafic_light_color  \n0  city street     False      False                  G  \n1  city street     False      False                  G  \n2  city street     False      False                 NA  \n3  city street     False       True                 NA  \n4  city street     False      False                 NA  ",
      "text/html": "<div>\n<style scoped>\n    .dataframe tbody tr th:only-of-type {\n        vertical-align: middle;\n    }\n\n    .dataframe tbody tr th {\n        vertical-align: top;\n    }\n\n    .dataframe thead th {\n        text-align: right;\n    }\n</style>\n<table border=\"1\" class=\"dataframe\">\n  <thead>\n    <tr style=\"text-align: right;\">\n      <th></th>\n      <th>filename</th>\n      <th>width</th>\n      <th>height</th>\n      <th>size</th>\n      <th>name</th>\n      <th>bbox</th>\n      <th>area</th>\n      <th>area_p</th>\n      <th>weather</th>\n      <th>timeofday</th>\n      <th>scene</th>\n      <th>occluded</th>\n      <th>truncated</th>\n      <th>trafic_light_color</th>\n    </tr>\n  </thead>\n  <tbody>\n    <tr>\n      <th>0</th>\n      <td>0000f77c-6257be58.jpg</td>\n      <td>1280</td>\n      <td>720</td>\n      <td>921600</td>\n      <td>traffic light</td>\n      <td>(1125, 133, 1156, 210)</td>\n      <td>2414.353780</td>\n      <td>0.00</td>\n      <td>clear</td>\n      <td>daytime</td>\n      <td>city street</td>\n      <td>False</td>\n      <td>False</td>\n      <td>G</td>\n    </tr>\n    <tr>\n      <th>1</th>\n      <td>0000f77c-6257be58.jpg</td>\n      <td>1280</td>\n      <td>720</td>\n      <td>921600</td>\n      <td>traffic light</td>\n      <td>(1156, 136, 1191, 210)</td>\n      <td>2563.388185</td>\n      <td>0.00</td>\n      <td>clear</td>\n      <td>daytime</td>\n      <td>city street</td>\n      <td>False</td>\n      <td>False</td>\n      <td>G</td>\n    </tr>\n    <tr>\n      <th>2</th>\n      <td>0000f77c-6257be58.jpg</td>\n      <td>1280</td>\n      <td>720</td>\n      <td>921600</td>\n      <td>traffic sign</td>\n      <td>(1105, 211, 1170, 233)</td>\n      <td>1461.583957</td>\n      <td>0.00</td>\n      <td>clear</td>\n      <td>daytime</td>\n      <td>city street</td>\n      <td>False</td>\n      <td>False</td>\n      <td>NA</td>\n    </tr>\n    <tr>\n      <th>3</th>\n      <td>0000f77c-6257be58.jpg</td>\n      <td>1280</td>\n      <td>720</td>\n      <td>921600</td>\n      <td>traffic sign</td>\n      <td>(0, 0, 100, 122)</td>\n      <td>12304.688432</td>\n      <td>0.01</td>\n      <td>clear</td>\n      <td>daytime</td>\n      <td>city street</td>\n      <td>False</td>\n      <td>True</td>\n      <td>NA</td>\n    </tr>\n    <tr>\n      <th>4</th>\n      <td>0000f77c-6257be58.jpg</td>\n      <td>1280</td>\n      <td>720</td>\n      <td>921600</td>\n      <td>car</td>\n      <td>(49, 254, 357, 487)</td>\n      <td>71964.026347</td>\n      <td>0.08</td>\n      <td>clear</td>\n      <td>daytime</td>\n      <td>city street</td>\n      <td>False</td>\n      <td>False</td>\n      <td>NA</td>\n    </tr>\n  </tbody>\n</table>\n</div>"
     },
     "execution_count": 65,
     "metadata": {},
     "output_type": "execute_result"
    }
   ],
   "source": [
    "df = pd.DataFrame(data_list, columns=['filename', 'width', 'height', 'size', 'name', 'bbox', 'area', 'area_p', 'weather', 'timeofday', 'scene', 'occluded', 'truncated', 'trafic_light_color'])\n",
    "df.head()"
   ],
   "metadata": {
    "collapsed": false,
    "ExecuteTime": {
     "end_time": "2024-01-04T10:17:15.587283Z",
     "start_time": "2024-01-04T10:17:14.570955Z"
    }
   }
  },
  {
   "cell_type": "code",
   "execution_count": 58,
   "outputs": [],
   "source": [
    "df_out = df.copy()\n",
    "df_out = map_data_frame_to_json(df_out, column_list=['bbox'])"
   ],
   "metadata": {
    "collapsed": false,
    "ExecuteTime": {
     "end_time": "2024-01-04T10:08:19.827534Z",
     "start_time": "2024-01-04T10:07:15.751344Z"
    }
   }
  },
  {
   "cell_type": "code",
   "execution_count": 59,
   "outputs": [],
   "source": [
    "df_out.to_csv('../bdd100k 2/images/100k/meta.csv')"
   ],
   "metadata": {
    "collapsed": false,
    "ExecuteTime": {
     "end_time": "2024-01-04T10:08:20.586397Z",
     "start_time": "2024-01-04T10:07:19.646757Z"
    }
   }
  },
  {
   "cell_type": "code",
   "execution_count": 80,
   "outputs": [
    {
     "data": {
      "text/plain": "                filename  width  height    size           name  \\\n0  0000f77c-6257be58.jpg   1280     720  921600  traffic light   \n1  0000f77c-6257be58.jpg   1280     720  921600  traffic light   \n2  0000f77c-6257be58.jpg   1280     720  921600   traffic sign   \n3  0000f77c-6257be58.jpg   1280     720  921600   traffic sign   \n4  0000f77c-6257be58.jpg   1280     720  921600            car   \n\n                     bbox          area  area_p weather timeofday  \\\n0  [1125, 133, 1156, 210]   2414.353780    0.00   clear   daytime   \n1  [1156, 136, 1191, 210]   2563.388185    0.00   clear   daytime   \n2  [1105, 211, 1170, 233]   1461.583957    0.00   clear   daytime   \n3        [0, 0, 100, 122]  12304.688432    0.01   clear   daytime   \n4     [49, 254, 357, 487]  71964.026347    0.08   clear   daytime   \n\n         scene  occluded  truncated trafic_light_color  \n0  city street     False      False                  G  \n1  city street     False      False                  G  \n2  city street     False      False                NaN  \n3  city street     False       True                NaN  \n4  city street     False      False                NaN  ",
      "text/html": "<div>\n<style scoped>\n    .dataframe tbody tr th:only-of-type {\n        vertical-align: middle;\n    }\n\n    .dataframe tbody tr th {\n        vertical-align: top;\n    }\n\n    .dataframe thead th {\n        text-align: right;\n    }\n</style>\n<table border=\"1\" class=\"dataframe\">\n  <thead>\n    <tr style=\"text-align: right;\">\n      <th></th>\n      <th>filename</th>\n      <th>width</th>\n      <th>height</th>\n      <th>size</th>\n      <th>name</th>\n      <th>bbox</th>\n      <th>area</th>\n      <th>area_p</th>\n      <th>weather</th>\n      <th>timeofday</th>\n      <th>scene</th>\n      <th>occluded</th>\n      <th>truncated</th>\n      <th>trafic_light_color</th>\n    </tr>\n  </thead>\n  <tbody>\n    <tr>\n      <th>0</th>\n      <td>0000f77c-6257be58.jpg</td>\n      <td>1280</td>\n      <td>720</td>\n      <td>921600</td>\n      <td>traffic light</td>\n      <td>[1125, 133, 1156, 210]</td>\n      <td>2414.353780</td>\n      <td>0.00</td>\n      <td>clear</td>\n      <td>daytime</td>\n      <td>city street</td>\n      <td>False</td>\n      <td>False</td>\n      <td>G</td>\n    </tr>\n    <tr>\n      <th>1</th>\n      <td>0000f77c-6257be58.jpg</td>\n      <td>1280</td>\n      <td>720</td>\n      <td>921600</td>\n      <td>traffic light</td>\n      <td>[1156, 136, 1191, 210]</td>\n      <td>2563.388185</td>\n      <td>0.00</td>\n      <td>clear</td>\n      <td>daytime</td>\n      <td>city street</td>\n      <td>False</td>\n      <td>False</td>\n      <td>G</td>\n    </tr>\n    <tr>\n      <th>2</th>\n      <td>0000f77c-6257be58.jpg</td>\n      <td>1280</td>\n      <td>720</td>\n      <td>921600</td>\n      <td>traffic sign</td>\n      <td>[1105, 211, 1170, 233]</td>\n      <td>1461.583957</td>\n      <td>0.00</td>\n      <td>clear</td>\n      <td>daytime</td>\n      <td>city street</td>\n      <td>False</td>\n      <td>False</td>\n      <td>NaN</td>\n    </tr>\n    <tr>\n      <th>3</th>\n      <td>0000f77c-6257be58.jpg</td>\n      <td>1280</td>\n      <td>720</td>\n      <td>921600</td>\n      <td>traffic sign</td>\n      <td>[0, 0, 100, 122]</td>\n      <td>12304.688432</td>\n      <td>0.01</td>\n      <td>clear</td>\n      <td>daytime</td>\n      <td>city street</td>\n      <td>False</td>\n      <td>True</td>\n      <td>NaN</td>\n    </tr>\n    <tr>\n      <th>4</th>\n      <td>0000f77c-6257be58.jpg</td>\n      <td>1280</td>\n      <td>720</td>\n      <td>921600</td>\n      <td>car</td>\n      <td>[49, 254, 357, 487]</td>\n      <td>71964.026347</td>\n      <td>0.08</td>\n      <td>clear</td>\n      <td>daytime</td>\n      <td>city street</td>\n      <td>False</td>\n      <td>False</td>\n      <td>NaN</td>\n    </tr>\n  </tbody>\n</table>\n</div>"
     },
     "execution_count": 80,
     "metadata": {},
     "output_type": "execute_result"
    }
   ],
   "source": [
    "df = pd.read_csv('../bdd100k 2/images/100k/meta.csv', index_col=0)\n",
    "df.head()"
   ],
   "metadata": {
    "collapsed": false,
    "ExecuteTime": {
     "end_time": "2024-01-04T11:11:32.277383Z",
     "start_time": "2024-01-04T11:11:30.726045Z"
    }
   }
  },
  {
   "cell_type": "markdown",
   "source": [
    "# Playing cards"
   ],
   "metadata": {
    "collapsed": false
   }
  },
  {
   "cell_type": "code",
   "execution_count": 3,
   "outputs": [
    {
     "data": {
      "text/plain": "52"
     },
     "execution_count": 3,
     "metadata": {},
     "output_type": "execute_result"
    }
   ],
   "source": [
    "name_list = ['10C', '10D', '10H', '10S', '2C', '2D', '2H', '2S', '3C', '3D', '3H', '3S', '4C', '4D', '4H', '4S', '5C', '5D', '5H', '5S', '6C', '6D', '6H', '6S', '7C', '7D', '7H', '7S', '8C', '8D', '8H', '8S', '9C', '9D', '9H', '9S', 'AC', 'AD', 'AH', 'AS', 'JC', 'JD', 'JH', 'JS', 'KC', 'KD', 'KH', 'KS', 'QC', 'QD', 'QH', 'QS']\n",
    "len(name_list)"
   ],
   "metadata": {
    "collapsed": false,
    "ExecuteTime": {
     "end_time": "2024-01-23T20:02:18.779054Z",
     "start_time": "2024-01-23T20:02:18.760814Z"
    }
   }
  },
  {
   "cell_type": "code",
   "execution_count": 4,
   "outputs": [
    {
     "name": "stderr",
     "output_type": "stream",
     "text": [
      "100%|██████████| 100/100 [00:00<00:00, 236.47it/s]\n"
     ]
    }
   ],
   "source": [
    "output_folder_path = '../2_playing_cards/out'\n",
    "data_list = []\n",
    "for img_path in tqdm(\n",
    "        glob('../2_playing_cards/images/*')[:100]):\n",
    "    img = cv.imread(img_path)\n",
    "    h, w = img.shape[:2]\n",
    "    img_path_base, img_name = split(img_path)\n",
    "    img_name_base = splitext(img_name)[0]\n",
    "    label_path = join(join(split(img_path_base)[0], 'labels'), f'{img_name_base}.txt')\n",
    "    with open(label_path) as f:\n",
    "        label_lines = f.readlines()\n",
    "\n",
    "    label_lines_splitted = [l.split() for l in label_lines]\n",
    "    class_list = [name_list[int(line_splitted[0])] for line_splitted in label_lines_splitted]\n",
    "    bbox_list = [[float(coord) for coord in line_splitted[1:]] for line_splitted in label_lines_splitted]\n",
    "\n",
    "    for bbox, name in zip(bbox_list, class_list):\n",
    "        x, y, width, height = bbox\n",
    "        width, height = width * w, height * h\n",
    "        x, y = x * w, y * h\n",
    "        x0, y0 = int(x - width / 2), int(y - height / 2)\n",
    "        x1, y1 = int(x + width / 2), int(y + height / 2)\n",
    "\n",
    "        data_list.append((\n",
    "            img_name,\n",
    "            w,\n",
    "            h,\n",
    "            w * h,\n",
    "            name,\n",
    "            (int(x0), int(y0), int(x1), int(y1)),\n",
    "            (x1 - x0) * (y1 - y0),\n",
    "            round((x1 - x0) * (y1 - y0) / (w * h), 6),\n",
    "        ))\n",
    "\n",
    "        cv.rectangle(img, (x0, y0), (x1, y1), [0, 0, 255], 2)\n",
    "    if len(bbox_list) > 0:\n",
    "        cv.imwrite(join(output_folder_path, img_name), img)"
   ],
   "metadata": {
    "collapsed": false,
    "ExecuteTime": {
     "end_time": "2024-01-23T20:08:16.098718Z",
     "start_time": "2024-01-23T20:08:15.624834Z"
    }
   }
  },
  {
   "cell_type": "code",
   "execution_count": 13,
   "outputs": [
    {
     "data": {
      "text/plain": "                                            filename  width  height    size  \\\n0  284679715_jpg.rf.3a9046f136b511793d38233c9feb2...    640     640  409600   \n1  284679715_jpg.rf.3a9046f136b511793d38233c9feb2...    640     640  409600   \n2  284679715_jpg.rf.3a9046f136b511793d38233c9feb2...    640     640  409600   \n3  284679715_jpg.rf.3a9046f136b511793d38233c9feb2...    640     640  409600   \n4  207635979_jpg.rf.2781e90031c92657513837e9f36cf...    640     640  409600   \n\n  name                  bbox  area    area_p  \n0   8S  (468, 376, 505, 422)  1702  0.004155  \n1   7S  (427, 356, 458, 404)  1488  0.003633  \n2   5S  (394, 351, 420, 397)  1196  0.002920  \n3   5S  (259, 478, 285, 524)  1196  0.002920  \n4   3S  (423, 265, 492, 316)  3519  0.008591  ",
      "text/html": "<div>\n<style scoped>\n    .dataframe tbody tr th:only-of-type {\n        vertical-align: middle;\n    }\n\n    .dataframe tbody tr th {\n        vertical-align: top;\n    }\n\n    .dataframe thead th {\n        text-align: right;\n    }\n</style>\n<table border=\"1\" class=\"dataframe\">\n  <thead>\n    <tr style=\"text-align: right;\">\n      <th></th>\n      <th>filename</th>\n      <th>width</th>\n      <th>height</th>\n      <th>size</th>\n      <th>name</th>\n      <th>bbox</th>\n      <th>area</th>\n      <th>area_p</th>\n    </tr>\n  </thead>\n  <tbody>\n    <tr>\n      <th>0</th>\n      <td>284679715_jpg.rf.3a9046f136b511793d38233c9feb2...</td>\n      <td>640</td>\n      <td>640</td>\n      <td>409600</td>\n      <td>8S</td>\n      <td>(468, 376, 505, 422)</td>\n      <td>1702</td>\n      <td>0.004155</td>\n    </tr>\n    <tr>\n      <th>1</th>\n      <td>284679715_jpg.rf.3a9046f136b511793d38233c9feb2...</td>\n      <td>640</td>\n      <td>640</td>\n      <td>409600</td>\n      <td>7S</td>\n      <td>(427, 356, 458, 404)</td>\n      <td>1488</td>\n      <td>0.003633</td>\n    </tr>\n    <tr>\n      <th>2</th>\n      <td>284679715_jpg.rf.3a9046f136b511793d38233c9feb2...</td>\n      <td>640</td>\n      <td>640</td>\n      <td>409600</td>\n      <td>5S</td>\n      <td>(394, 351, 420, 397)</td>\n      <td>1196</td>\n      <td>0.002920</td>\n    </tr>\n    <tr>\n      <th>3</th>\n      <td>284679715_jpg.rf.3a9046f136b511793d38233c9feb2...</td>\n      <td>640</td>\n      <td>640</td>\n      <td>409600</td>\n      <td>5S</td>\n      <td>(259, 478, 285, 524)</td>\n      <td>1196</td>\n      <td>0.002920</td>\n    </tr>\n    <tr>\n      <th>4</th>\n      <td>207635979_jpg.rf.2781e90031c92657513837e9f36cf...</td>\n      <td>640</td>\n      <td>640</td>\n      <td>409600</td>\n      <td>3S</td>\n      <td>(423, 265, 492, 316)</td>\n      <td>3519</td>\n      <td>0.008591</td>\n    </tr>\n  </tbody>\n</table>\n</div>"
     },
     "metadata": {},
     "output_type": "display_data"
    }
   ],
   "source": [
    "df = pd.DataFrame(data_list, columns=['filename', 'width', 'height', 'size', 'name', 'bbox', 'area', 'area_p'])\n",
    "display(df.head())"
   ],
   "metadata": {
    "collapsed": false,
    "ExecuteTime": {
     "end_time": "2024-01-05T19:17:13.249862Z",
     "start_time": "2024-01-05T19:17:13.176848Z"
    }
   }
  },
  {
   "cell_type": "code",
   "execution_count": 11,
   "outputs": [],
   "source": [
    "df_out = df.copy()\n",
    "df_out = map_data_frame_to_json(df_out, column_list=['bbox'])"
   ],
   "metadata": {
    "collapsed": false,
    "ExecuteTime": {
     "end_time": "2024-01-05T19:17:04.093745Z",
     "start_time": "2024-01-05T19:17:03.852117Z"
    }
   }
  },
  {
   "cell_type": "code",
   "execution_count": 12,
   "outputs": [],
   "source": [
    "df_out.to_csv('../Playing Cards.v4-fastmodel-resized640-aug3x.yolov8/meta.csv')"
   ],
   "metadata": {
    "collapsed": false,
    "ExecuteTime": {
     "end_time": "2024-01-05T19:17:04.965066Z",
     "start_time": "2024-01-05T19:17:04.768985Z"
    }
   }
  }
 ],
 "metadata": {
  "kernelspec": {
   "display_name": "Python 3",
   "language": "python",
   "name": "python3"
  },
  "language_info": {
   "codemirror_mode": {
    "name": "ipython",
    "version": 2
   },
   "file_extension": ".py",
   "mimetype": "text/x-python",
   "name": "python",
   "nbconvert_exporter": "python",
   "pygments_lexer": "ipython2",
   "version": "2.7.6"
  }
 },
 "nbformat": 4,
 "nbformat_minor": 0
}
